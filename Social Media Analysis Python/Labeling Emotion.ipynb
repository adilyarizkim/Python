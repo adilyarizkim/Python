{
 "cells": [
  {
   "cell_type": "code",
   "execution_count": 36,
   "id": "96562d1f",
   "metadata": {},
   "outputs": [],
   "source": [
    "#LIBRARY \n",
    "import re\n",
    "import numpy as np\n",
    "import pandas as pd"
   ]
  },
  {
   "cell_type": "code",
   "execution_count": 37,
   "id": "77dbbd78",
   "metadata": {},
   "outputs": [],
   "source": [
    "Asuransi = 'D:Asuransi.xlsx'\n",
    "df = pd.read_excel(Asuransi)"
   ]
  },
  {
   "cell_type": "code",
   "execution_count": 38,
   "id": "8a9ee573",
   "metadata": {},
   "outputs": [],
   "source": [
    "# Group labels with no duplicates\n",
    "group_labels = {\n",
    "    'Anger': {\"kesal\", \"kesel\", \"emosi\", \"gila\", \"jengkel\", \"ngamuk\", \"kecewa\"},\n",
    "    'Anticipation': {\"antisipasi\", \"waspada\",  \"awas\"},\n",
    "    'Sad': {\"sedih\", \"merana\", \"pilu\", \"nangis\"},\n",
    "    'Joy': {\"senang\", \"seneng\", \"bahagia\", \"riang\"},\n",
    "    'Fear': {\"takut\", \"ngeri\", \"khawatir\", \"cemas\"},\n",
    "    'Trust': {\"percaya\", \"yakin\", \"ragu\", \"mengakui\"},\n",
    "    'Surprise': {\"kaget\", \"terkejut\", \"heran\", \"kejut\", \"kagum\" },\n",
    "    'Disgust': {\"jijik\", \"muak\", \"geli\", \"najis\", \"risih\"},\n",
    "}\n",
    "\n",
    "# Labeling function without duplicates\n",
    "def label_based_on_groups2(cell_value):\n",
    "    matched_groups = set()  # Use set to avoid duplicates\n",
    "    for group, keywords in group_labels.items():\n",
    "        # Check for the presence of the keyword as a standalone word\n",
    "        if any(re.search(rf'\\b{re.escape(keyword)}\\b', str(cell_value), flags=re.IGNORECASE) for keyword in keywords):\n",
    "            matched_groups.add(f'{group}_Label')\n",
    "\n",
    "    if matched_groups:\n",
    "        return ', '.join(matched_groups)\n",
    "    return 'Other'  # Default label if no group is matched\n",
    "\n",
    "# Apply the labeling function to a specific column\n",
    "# Replace 'message' with the correct column name\n",
    "df['Label Emotion'] = df['text'].apply(label_based_on_groups2)\n",
    "\n",
    "# Save the labeled DataFrame back to Excel\n",
    "df.to_excel('D:Asuransiastra_labeled.xlsx', index=False)"
   ]
  },
  {
   "cell_type": "code",
   "execution_count": null,
   "id": "4ba0f4eb",
   "metadata": {},
   "outputs": [],
   "source": []
  }
 ],
 "metadata": {
  "kernelspec": {
   "display_name": "Python 3 (ipykernel)",
   "language": "python",
   "name": "python3"
  },
  "language_info": {
   "codemirror_mode": {
    "name": "ipython",
    "version": 3
   },
   "file_extension": ".py",
   "mimetype": "text/x-python",
   "name": "python",
   "nbconvert_exporter": "python",
   "pygments_lexer": "ipython3",
   "version": "3.11.4"
  }
 },
 "nbformat": 4,
 "nbformat_minor": 5
}
