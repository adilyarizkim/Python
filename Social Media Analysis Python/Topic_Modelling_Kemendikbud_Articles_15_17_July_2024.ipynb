{
  "nbformat": 4,
  "nbformat_minor": 0,
  "metadata": {
    "colab": {
      "provenance": []
    },
    "kernelspec": {
      "name": "python3",
      "display_name": "Python 3"
    },
    "language_info": {
      "name": "python"
    },
    "widgets": {
      "application/vnd.jupyter.widget-state+json": {
        "a362350085c7486eaf92fe0ffa849835": {
          "model_module": "@jupyter-widgets/controls",
          "model_name": "HBoxModel",
          "model_module_version": "1.5.0",
          "state": {
            "_dom_classes": [],
            "_model_module": "@jupyter-widgets/controls",
            "_model_module_version": "1.5.0",
            "_model_name": "HBoxModel",
            "_view_count": null,
            "_view_module": "@jupyter-widgets/controls",
            "_view_module_version": "1.5.0",
            "_view_name": "HBoxView",
            "box_style": "",
            "children": [
              "IPY_MODEL_e465474f56f144f7ad22ddb9a6e46974",
              "IPY_MODEL_ae1cd0ba543245568c547c63b35ab006",
              "IPY_MODEL_f085ebc80a2a4d98b581a2168805cfe3"
            ],
            "layout": "IPY_MODEL_04b3da95404a43eba80257b012770a77"
          }
        },
        "e465474f56f144f7ad22ddb9a6e46974": {
          "model_module": "@jupyter-widgets/controls",
          "model_name": "HTMLModel",
          "model_module_version": "1.5.0",
          "state": {
            "_dom_classes": [],
            "_model_module": "@jupyter-widgets/controls",
            "_model_module_version": "1.5.0",
            "_model_name": "HTMLModel",
            "_view_count": null,
            "_view_module": "@jupyter-widgets/controls",
            "_view_module_version": "1.5.0",
            "_view_name": "HTMLView",
            "description": "",
            "description_tooltip": null,
            "layout": "IPY_MODEL_95cd63609b2d4695bb5d579d7e514577",
            "placeholder": "​",
            "style": "IPY_MODEL_1bcb660583c04e81bd6b276090dd718d",
            "value": "Pandas Apply: 100%"
          }
        },
        "ae1cd0ba543245568c547c63b35ab006": {
          "model_module": "@jupyter-widgets/controls",
          "model_name": "FloatProgressModel",
          "model_module_version": "1.5.0",
          "state": {
            "_dom_classes": [],
            "_model_module": "@jupyter-widgets/controls",
            "_model_module_version": "1.5.0",
            "_model_name": "FloatProgressModel",
            "_view_count": null,
            "_view_module": "@jupyter-widgets/controls",
            "_view_module_version": "1.5.0",
            "_view_name": "ProgressView",
            "bar_style": "success",
            "description": "",
            "description_tooltip": null,
            "layout": "IPY_MODEL_0d23159285ed4e83b25fafe39ef1af95",
            "max": 405,
            "min": 0,
            "orientation": "horizontal",
            "style": "IPY_MODEL_a1fb288ec15040bb9fa090ef1d53eb60",
            "value": 405
          }
        },
        "f085ebc80a2a4d98b581a2168805cfe3": {
          "model_module": "@jupyter-widgets/controls",
          "model_name": "HTMLModel",
          "model_module_version": "1.5.0",
          "state": {
            "_dom_classes": [],
            "_model_module": "@jupyter-widgets/controls",
            "_model_module_version": "1.5.0",
            "_model_name": "HTMLModel",
            "_view_count": null,
            "_view_module": "@jupyter-widgets/controls",
            "_view_module_version": "1.5.0",
            "_view_name": "HTMLView",
            "description": "",
            "description_tooltip": null,
            "layout": "IPY_MODEL_3ac9275e7cbf43df981d814f4a4666d8",
            "placeholder": "​",
            "style": "IPY_MODEL_cc6d5a577c034c5ab9d84a2ad906f148",
            "value": " 405/405 [00:00&lt;00:00, 6792.27it/s]"
          }
        },
        "04b3da95404a43eba80257b012770a77": {
          "model_module": "@jupyter-widgets/base",
          "model_name": "LayoutModel",
          "model_module_version": "1.2.0",
          "state": {
            "_model_module": "@jupyter-widgets/base",
            "_model_module_version": "1.2.0",
            "_model_name": "LayoutModel",
            "_view_count": null,
            "_view_module": "@jupyter-widgets/base",
            "_view_module_version": "1.2.0",
            "_view_name": "LayoutView",
            "align_content": null,
            "align_items": null,
            "align_self": null,
            "border": null,
            "bottom": null,
            "display": null,
            "flex": null,
            "flex_flow": null,
            "grid_area": null,
            "grid_auto_columns": null,
            "grid_auto_flow": null,
            "grid_auto_rows": null,
            "grid_column": null,
            "grid_gap": null,
            "grid_row": null,
            "grid_template_areas": null,
            "grid_template_columns": null,
            "grid_template_rows": null,
            "height": null,
            "justify_content": null,
            "justify_items": null,
            "left": null,
            "margin": null,
            "max_height": null,
            "max_width": null,
            "min_height": null,
            "min_width": null,
            "object_fit": null,
            "object_position": null,
            "order": null,
            "overflow": null,
            "overflow_x": null,
            "overflow_y": null,
            "padding": null,
            "right": null,
            "top": null,
            "visibility": null,
            "width": null
          }
        },
        "95cd63609b2d4695bb5d579d7e514577": {
          "model_module": "@jupyter-widgets/base",
          "model_name": "LayoutModel",
          "model_module_version": "1.2.0",
          "state": {
            "_model_module": "@jupyter-widgets/base",
            "_model_module_version": "1.2.0",
            "_model_name": "LayoutModel",
            "_view_count": null,
            "_view_module": "@jupyter-widgets/base",
            "_view_module_version": "1.2.0",
            "_view_name": "LayoutView",
            "align_content": null,
            "align_items": null,
            "align_self": null,
            "border": null,
            "bottom": null,
            "display": null,
            "flex": null,
            "flex_flow": null,
            "grid_area": null,
            "grid_auto_columns": null,
            "grid_auto_flow": null,
            "grid_auto_rows": null,
            "grid_column": null,
            "grid_gap": null,
            "grid_row": null,
            "grid_template_areas": null,
            "grid_template_columns": null,
            "grid_template_rows": null,
            "height": null,
            "justify_content": null,
            "justify_items": null,
            "left": null,
            "margin": null,
            "max_height": null,
            "max_width": null,
            "min_height": null,
            "min_width": null,
            "object_fit": null,
            "object_position": null,
            "order": null,
            "overflow": null,
            "overflow_x": null,
            "overflow_y": null,
            "padding": null,
            "right": null,
            "top": null,
            "visibility": null,
            "width": null
          }
        },
        "1bcb660583c04e81bd6b276090dd718d": {
          "model_module": "@jupyter-widgets/controls",
          "model_name": "DescriptionStyleModel",
          "model_module_version": "1.5.0",
          "state": {
            "_model_module": "@jupyter-widgets/controls",
            "_model_module_version": "1.5.0",
            "_model_name": "DescriptionStyleModel",
            "_view_count": null,
            "_view_module": "@jupyter-widgets/base",
            "_view_module_version": "1.2.0",
            "_view_name": "StyleView",
            "description_width": ""
          }
        },
        "0d23159285ed4e83b25fafe39ef1af95": {
          "model_module": "@jupyter-widgets/base",
          "model_name": "LayoutModel",
          "model_module_version": "1.2.0",
          "state": {
            "_model_module": "@jupyter-widgets/base",
            "_model_module_version": "1.2.0",
            "_model_name": "LayoutModel",
            "_view_count": null,
            "_view_module": "@jupyter-widgets/base",
            "_view_module_version": "1.2.0",
            "_view_name": "LayoutView",
            "align_content": null,
            "align_items": null,
            "align_self": null,
            "border": null,
            "bottom": null,
            "display": null,
            "flex": null,
            "flex_flow": null,
            "grid_area": null,
            "grid_auto_columns": null,
            "grid_auto_flow": null,
            "grid_auto_rows": null,
            "grid_column": null,
            "grid_gap": null,
            "grid_row": null,
            "grid_template_areas": null,
            "grid_template_columns": null,
            "grid_template_rows": null,
            "height": null,
            "justify_content": null,
            "justify_items": null,
            "left": null,
            "margin": null,
            "max_height": null,
            "max_width": null,
            "min_height": null,
            "min_width": null,
            "object_fit": null,
            "object_position": null,
            "order": null,
            "overflow": null,
            "overflow_x": null,
            "overflow_y": null,
            "padding": null,
            "right": null,
            "top": null,
            "visibility": null,
            "width": null
          }
        },
        "a1fb288ec15040bb9fa090ef1d53eb60": {
          "model_module": "@jupyter-widgets/controls",
          "model_name": "ProgressStyleModel",
          "model_module_version": "1.5.0",
          "state": {
            "_model_module": "@jupyter-widgets/controls",
            "_model_module_version": "1.5.0",
            "_model_name": "ProgressStyleModel",
            "_view_count": null,
            "_view_module": "@jupyter-widgets/base",
            "_view_module_version": "1.2.0",
            "_view_name": "StyleView",
            "bar_color": null,
            "description_width": ""
          }
        },
        "3ac9275e7cbf43df981d814f4a4666d8": {
          "model_module": "@jupyter-widgets/base",
          "model_name": "LayoutModel",
          "model_module_version": "1.2.0",
          "state": {
            "_model_module": "@jupyter-widgets/base",
            "_model_module_version": "1.2.0",
            "_model_name": "LayoutModel",
            "_view_count": null,
            "_view_module": "@jupyter-widgets/base",
            "_view_module_version": "1.2.0",
            "_view_name": "LayoutView",
            "align_content": null,
            "align_items": null,
            "align_self": null,
            "border": null,
            "bottom": null,
            "display": null,
            "flex": null,
            "flex_flow": null,
            "grid_area": null,
            "grid_auto_columns": null,
            "grid_auto_flow": null,
            "grid_auto_rows": null,
            "grid_column": null,
            "grid_gap": null,
            "grid_row": null,
            "grid_template_areas": null,
            "grid_template_columns": null,
            "grid_template_rows": null,
            "height": null,
            "justify_content": null,
            "justify_items": null,
            "left": null,
            "margin": null,
            "max_height": null,
            "max_width": null,
            "min_height": null,
            "min_width": null,
            "object_fit": null,
            "object_position": null,
            "order": null,
            "overflow": null,
            "overflow_x": null,
            "overflow_y": null,
            "padding": null,
            "right": null,
            "top": null,
            "visibility": null,
            "width": null
          }
        },
        "cc6d5a577c034c5ab9d84a2ad906f148": {
          "model_module": "@jupyter-widgets/controls",
          "model_name": "DescriptionStyleModel",
          "model_module_version": "1.5.0",
          "state": {
            "_model_module": "@jupyter-widgets/controls",
            "_model_module_version": "1.5.0",
            "_model_name": "DescriptionStyleModel",
            "_view_count": null,
            "_view_module": "@jupyter-widgets/base",
            "_view_module_version": "1.2.0",
            "_view_name": "StyleView",
            "description_width": ""
          }
        }
      }
    }
  },
  "cells": [
    {
      "cell_type": "markdown",
      "source": [
        "Instalasi Library\n",
        "\n"
      ],
      "metadata": {
        "id": "tAnHK3RbWFmZ"
      }
    },
    {
      "cell_type": "code",
      "execution_count": null,
      "metadata": {
        "colab": {
          "base_uri": "https://localhost:8080/"
        },
        "id": "201Gn2TVViW-",
        "outputId": "5aef5b86-56f7-44b7-dab2-71225d29034b"
      },
      "outputs": [
        {
          "output_type": "stream",
          "name": "stdout",
          "text": [
            "Requirement already satisfied: gensim in /usr/local/lib/python3.10/dist-packages (4.3.2)\n",
            "Requirement already satisfied: numpy>=1.18.5 in /usr/local/lib/python3.10/dist-packages (from gensim) (1.25.2)\n",
            "Requirement already satisfied: scipy>=1.7.0 in /usr/local/lib/python3.10/dist-packages (from gensim) (1.11.4)\n",
            "Requirement already satisfied: smart-open>=1.8.1 in /usr/local/lib/python3.10/dist-packages (from gensim) (7.0.4)\n",
            "Requirement already satisfied: wrapt in /usr/local/lib/python3.10/dist-packages (from smart-open>=1.8.1->gensim) (1.14.1)\n"
          ]
        }
      ],
      "source": [
        "pip install --upgrade gensim"
      ]
    },
    {
      "cell_type": "code",
      "source": [
        "pip install pyldavis==3.2.1"
      ],
      "metadata": {
        "colab": {
          "base_uri": "https://localhost:8080/"
        },
        "id": "V8LnV1-LVyYH",
        "outputId": "ee2e05cd-1b35-4547-e83e-09ccf69b3ed5"
      },
      "execution_count": null,
      "outputs": [
        {
          "output_type": "stream",
          "name": "stdout",
          "text": [
            "Collecting pyldavis==3.2.1\n",
            "  Downloading pyLDAvis-3.2.1.tar.gz (1.7 MB)\n",
            "\u001b[?25l     \u001b[90m━━━━━━━━━━━━━━━━━━━━━━━━━━━━━━━━━━━━━━━━\u001b[0m \u001b[32m0.0/1.7 MB\u001b[0m \u001b[31m?\u001b[0m eta \u001b[36m-:--:--\u001b[0m\r\u001b[2K     \u001b[91m━━━━━━━━\u001b[0m\u001b[91m╸\u001b[0m\u001b[90m━━━━━━━━━━━━━━━━━━━━━━━━━━━━━━━\u001b[0m \u001b[32m0.4/1.7 MB\u001b[0m \u001b[31m12.0 MB/s\u001b[0m eta \u001b[36m0:00:01\u001b[0m\r\u001b[2K     \u001b[91m━━━━━━━━━━━━━━━━━━━━━━━━━━━━━━━━━━━━━━━\u001b[0m\u001b[91m╸\u001b[0m \u001b[32m1.6/1.7 MB\u001b[0m \u001b[31m32.5 MB/s\u001b[0m eta \u001b[36m0:00:01\u001b[0m\r\u001b[2K     \u001b[90m━━━━━━━━━━━━━━━━━━━━━━━━━━━━━━━━━━━━━━━━\u001b[0m \u001b[32m1.7/1.7 MB\u001b[0m \u001b[31m21.4 MB/s\u001b[0m eta \u001b[36m0:00:00\u001b[0m\n",
            "\u001b[?25h  Preparing metadata (setup.py) ... \u001b[?25l\u001b[?25hdone\n",
            "Requirement already satisfied: wheel>=0.23.0 in /usr/local/lib/python3.10/dist-packages (from pyldavis==3.2.1) (0.43.0)\n",
            "Requirement already satisfied: numpy>=1.9.2 in /usr/local/lib/python3.10/dist-packages (from pyldavis==3.2.1) (1.25.2)\n",
            "Requirement already satisfied: scipy>=0.18.0 in /usr/local/lib/python3.10/dist-packages (from pyldavis==3.2.1) (1.11.4)\n",
            "Requirement already satisfied: joblib>=0.8.4 in /usr/local/lib/python3.10/dist-packages (from pyldavis==3.2.1) (1.4.2)\n",
            "Requirement already satisfied: jinja2>=2.7.2 in /usr/local/lib/python3.10/dist-packages (from pyldavis==3.2.1) (3.1.4)\n",
            "Requirement already satisfied: numexpr in /usr/local/lib/python3.10/dist-packages (from pyldavis==3.2.1) (2.10.1)\n",
            "Requirement already satisfied: future in /usr/local/lib/python3.10/dist-packages (from pyldavis==3.2.1) (0.18.3)\n",
            "Collecting funcy (from pyldavis==3.2.1)\n",
            "  Downloading funcy-2.0-py2.py3-none-any.whl (30 kB)\n",
            "Requirement already satisfied: pandas>=0.17.0 in /usr/local/lib/python3.10/dist-packages (from pyldavis==3.2.1) (2.0.3)\n",
            "Requirement already satisfied: MarkupSafe>=2.0 in /usr/local/lib/python3.10/dist-packages (from jinja2>=2.7.2->pyldavis==3.2.1) (2.1.5)\n",
            "Requirement already satisfied: python-dateutil>=2.8.2 in /usr/local/lib/python3.10/dist-packages (from pandas>=0.17.0->pyldavis==3.2.1) (2.8.2)\n",
            "Requirement already satisfied: pytz>=2020.1 in /usr/local/lib/python3.10/dist-packages (from pandas>=0.17.0->pyldavis==3.2.1) (2023.4)\n",
            "Requirement already satisfied: tzdata>=2022.1 in /usr/local/lib/python3.10/dist-packages (from pandas>=0.17.0->pyldavis==3.2.1) (2024.1)\n",
            "Requirement already satisfied: six>=1.5 in /usr/local/lib/python3.10/dist-packages (from python-dateutil>=2.8.2->pandas>=0.17.0->pyldavis==3.2.1) (1.16.0)\n",
            "Building wheels for collected packages: pyldavis\n",
            "  Building wheel for pyldavis (setup.py) ... \u001b[?25l\u001b[?25hdone\n",
            "  Created wheel for pyldavis: filename=pyLDAvis-3.2.1-py2.py3-none-any.whl size=136163 sha256=54fbbcad25158770a8bc34e5d85c9e0d1b19f20605166c0f284657af5a75f65c\n",
            "  Stored in directory: /root/.cache/pip/wheels/d3/35/9c/c084bb1c3a4b8a7feb32d57c88f572dcf5c3accc949478893f\n",
            "Successfully built pyldavis\n",
            "Installing collected packages: funcy, pyldavis\n",
            "Successfully installed funcy-2.0 pyldavis-3.2.1\n"
          ]
        }
      ]
    },
    {
      "cell_type": "code",
      "source": [
        "pip install Sastrawi"
      ],
      "metadata": {
        "colab": {
          "base_uri": "https://localhost:8080/"
        },
        "id": "LT3aVbgzV5XL",
        "outputId": "be19c950-c173-401b-8b0a-adf6a582fd0d"
      },
      "execution_count": null,
      "outputs": [
        {
          "output_type": "stream",
          "name": "stdout",
          "text": [
            "Requirement already satisfied: Sastrawi in /usr/local/lib/python3.10/dist-packages (1.0.1)\n"
          ]
        }
      ]
    },
    {
      "cell_type": "code",
      "source": [
        "pip install swifter"
      ],
      "metadata": {
        "colab": {
          "base_uri": "https://localhost:8080/"
        },
        "id": "cj3-rURbV9fn",
        "outputId": "906bb1eb-f9a2-4d3f-a9f5-ccaae627fc99"
      },
      "execution_count": null,
      "outputs": [
        {
          "output_type": "stream",
          "name": "stdout",
          "text": [
            "Collecting swifter\n",
            "  Downloading swifter-1.4.0.tar.gz (1.2 MB)\n",
            "\u001b[2K     \u001b[90m━━━━━━━━━━━━━━━━━━━━━━━━━━━━━━━━━━━━━━━━\u001b[0m \u001b[32m1.2/1.2 MB\u001b[0m \u001b[31m13.6 MB/s\u001b[0m eta \u001b[36m0:00:00\u001b[0m\n",
            "\u001b[?25h  Preparing metadata (setup.py) ... \u001b[?25l\u001b[?25hdone\n",
            "Requirement already satisfied: pandas>=1.0.0 in /usr/local/lib/python3.10/dist-packages (from swifter) (2.0.3)\n",
            "Requirement already satisfied: psutil>=5.6.6 in /usr/local/lib/python3.10/dist-packages (from swifter) (5.9.5)\n",
            "Requirement already satisfied: dask[dataframe]>=2.10.0 in /usr/local/lib/python3.10/dist-packages (from swifter) (2023.8.1)\n",
            "Requirement already satisfied: tqdm>=4.33.0 in /usr/local/lib/python3.10/dist-packages (from swifter) (4.66.4)\n",
            "Requirement already satisfied: click>=8.0 in /usr/local/lib/python3.10/dist-packages (from dask[dataframe]>=2.10.0->swifter) (8.1.7)\n",
            "Requirement already satisfied: cloudpickle>=1.5.0 in /usr/local/lib/python3.10/dist-packages (from dask[dataframe]>=2.10.0->swifter) (2.2.1)\n",
            "Requirement already satisfied: fsspec>=2021.09.0 in /usr/local/lib/python3.10/dist-packages (from dask[dataframe]>=2.10.0->swifter) (2023.6.0)\n",
            "Requirement already satisfied: packaging>=20.0 in /usr/local/lib/python3.10/dist-packages (from dask[dataframe]>=2.10.0->swifter) (24.1)\n",
            "Requirement already satisfied: partd>=1.2.0 in /usr/local/lib/python3.10/dist-packages (from dask[dataframe]>=2.10.0->swifter) (1.4.2)\n",
            "Requirement already satisfied: pyyaml>=5.3.1 in /usr/local/lib/python3.10/dist-packages (from dask[dataframe]>=2.10.0->swifter) (6.0.1)\n",
            "Requirement already satisfied: toolz>=0.10.0 in /usr/local/lib/python3.10/dist-packages (from dask[dataframe]>=2.10.0->swifter) (0.12.1)\n",
            "Requirement already satisfied: importlib-metadata>=4.13.0 in /usr/local/lib/python3.10/dist-packages (from dask[dataframe]>=2.10.0->swifter) (8.0.0)\n",
            "Requirement already satisfied: python-dateutil>=2.8.2 in /usr/local/lib/python3.10/dist-packages (from pandas>=1.0.0->swifter) (2.8.2)\n",
            "Requirement already satisfied: pytz>=2020.1 in /usr/local/lib/python3.10/dist-packages (from pandas>=1.0.0->swifter) (2023.4)\n",
            "Requirement already satisfied: tzdata>=2022.1 in /usr/local/lib/python3.10/dist-packages (from pandas>=1.0.0->swifter) (2024.1)\n",
            "Requirement already satisfied: numpy>=1.21.0 in /usr/local/lib/python3.10/dist-packages (from pandas>=1.0.0->swifter) (1.25.2)\n",
            "Requirement already satisfied: zipp>=0.5 in /usr/local/lib/python3.10/dist-packages (from importlib-metadata>=4.13.0->dask[dataframe]>=2.10.0->swifter) (3.19.2)\n",
            "Requirement already satisfied: locket in /usr/local/lib/python3.10/dist-packages (from partd>=1.2.0->dask[dataframe]>=2.10.0->swifter) (1.0.0)\n",
            "Requirement already satisfied: six>=1.5 in /usr/local/lib/python3.10/dist-packages (from python-dateutil>=2.8.2->pandas>=1.0.0->swifter) (1.16.0)\n",
            "Building wheels for collected packages: swifter\n",
            "  Building wheel for swifter (setup.py) ... \u001b[?25l\u001b[?25hdone\n",
            "  Created wheel for swifter: filename=swifter-1.4.0-py3-none-any.whl size=16507 sha256=36aa35847e9a6616cad474fe6943d2f8ac04c5b7de9bc5513b5c0e38ea1c2a78\n",
            "  Stored in directory: /root/.cache/pip/wheels/e4/cf/51/0904952972ee2c7aa3709437065278dc534ec1b8d2ad41b443\n",
            "Successfully built swifter\n",
            "Installing collected packages: swifter\n",
            "Successfully installed swifter-1.4.0\n"
          ]
        }
      ]
    },
    {
      "cell_type": "markdown",
      "source": [
        "Import Data"
      ],
      "metadata": {
        "id": "UM_L4dKUWPJ9"
      }
    },
    {
      "cell_type": "code",
      "source": [
        "import pandas as pd\n",
        "import numpy as np\n",
        "import nltk"
      ],
      "metadata": {
        "id": "fxPkzjn2WTmh",
        "colab": {
          "base_uri": "https://localhost:8080/"
        },
        "outputId": "a7ed69f5-e2bf-4ead-f29f-fa10638847f9"
      },
      "execution_count": null,
      "outputs": [
        {
          "output_type": "stream",
          "name": "stderr",
          "text": [
            "/usr/local/lib/python3.10/dist-packages/ipykernel/ipkernel.py:283: DeprecationWarning: `should_run_async` will not call `transform_cell` automatically in the future. Please pass the result to `transformed_cell` argument and any exception that happen during thetransform in `preprocessing_exc_tuple` in IPython 7.17 and above.\n",
            "  and should_run_async(code)\n"
          ]
        }
      ]
    },
    {
      "cell_type": "code",
      "source": [
        "from google.colab import files\n",
        "uploaded = files.upload()\n"
      ],
      "metadata": {
        "colab": {
          "base_uri": "https://localhost:8080/",
          "height": 130
        },
        "id": "Df3OG181WZNK",
        "outputId": "06e31f98-65ac-4180-91d8-fa2157fb443e"
      },
      "execution_count": null,
      "outputs": [
        {
          "output_type": "stream",
          "name": "stderr",
          "text": [
            "/usr/local/lib/python3.10/dist-packages/ipykernel/ipkernel.py:283: DeprecationWarning: `should_run_async` will not call `transform_cell` automatically in the future. Please pass the result to `transformed_cell` argument and any exception that happen during thetransform in `preprocessing_exc_tuple` in IPython 7.17 and above.\n",
            "  and should_run_async(code)\n"
          ]
        },
        {
          "output_type": "display_data",
          "data": {
            "text/plain": [
              "<IPython.core.display.HTML object>"
            ],
            "text/html": [
              "\n",
              "     <input type=\"file\" id=\"files-3b1b2b0e-3173-4a76-a38e-cc017a241cc1\" name=\"files[]\" multiple disabled\n",
              "        style=\"border:none\" />\n",
              "     <output id=\"result-3b1b2b0e-3173-4a76-a38e-cc017a241cc1\">\n",
              "      Upload widget is only available when the cell has been executed in the\n",
              "      current browser session. Please rerun this cell to enable.\n",
              "      </output>\n",
              "      <script>// Copyright 2017 Google LLC\n",
              "//\n",
              "// Licensed under the Apache License, Version 2.0 (the \"License\");\n",
              "// you may not use this file except in compliance with the License.\n",
              "// You may obtain a copy of the License at\n",
              "//\n",
              "//      http://www.apache.org/licenses/LICENSE-2.0\n",
              "//\n",
              "// Unless required by applicable law or agreed to in writing, software\n",
              "// distributed under the License is distributed on an \"AS IS\" BASIS,\n",
              "// WITHOUT WARRANTIES OR CONDITIONS OF ANY KIND, either express or implied.\n",
              "// See the License for the specific language governing permissions and\n",
              "// limitations under the License.\n",
              "\n",
              "/**\n",
              " * @fileoverview Helpers for google.colab Python module.\n",
              " */\n",
              "(function(scope) {\n",
              "function span(text, styleAttributes = {}) {\n",
              "  const element = document.createElement('span');\n",
              "  element.textContent = text;\n",
              "  for (const key of Object.keys(styleAttributes)) {\n",
              "    element.style[key] = styleAttributes[key];\n",
              "  }\n",
              "  return element;\n",
              "}\n",
              "\n",
              "// Max number of bytes which will be uploaded at a time.\n",
              "const MAX_PAYLOAD_SIZE = 100 * 1024;\n",
              "\n",
              "function _uploadFiles(inputId, outputId) {\n",
              "  const steps = uploadFilesStep(inputId, outputId);\n",
              "  const outputElement = document.getElementById(outputId);\n",
              "  // Cache steps on the outputElement to make it available for the next call\n",
              "  // to uploadFilesContinue from Python.\n",
              "  outputElement.steps = steps;\n",
              "\n",
              "  return _uploadFilesContinue(outputId);\n",
              "}\n",
              "\n",
              "// This is roughly an async generator (not supported in the browser yet),\n",
              "// where there are multiple asynchronous steps and the Python side is going\n",
              "// to poll for completion of each step.\n",
              "// This uses a Promise to block the python side on completion of each step,\n",
              "// then passes the result of the previous step as the input to the next step.\n",
              "function _uploadFilesContinue(outputId) {\n",
              "  const outputElement = document.getElementById(outputId);\n",
              "  const steps = outputElement.steps;\n",
              "\n",
              "  const next = steps.next(outputElement.lastPromiseValue);\n",
              "  return Promise.resolve(next.value.promise).then((value) => {\n",
              "    // Cache the last promise value to make it available to the next\n",
              "    // step of the generator.\n",
              "    outputElement.lastPromiseValue = value;\n",
              "    return next.value.response;\n",
              "  });\n",
              "}\n",
              "\n",
              "/**\n",
              " * Generator function which is called between each async step of the upload\n",
              " * process.\n",
              " * @param {string} inputId Element ID of the input file picker element.\n",
              " * @param {string} outputId Element ID of the output display.\n",
              " * @return {!Iterable<!Object>} Iterable of next steps.\n",
              " */\n",
              "function* uploadFilesStep(inputId, outputId) {\n",
              "  const inputElement = document.getElementById(inputId);\n",
              "  inputElement.disabled = false;\n",
              "\n",
              "  const outputElement = document.getElementById(outputId);\n",
              "  outputElement.innerHTML = '';\n",
              "\n",
              "  const pickedPromise = new Promise((resolve) => {\n",
              "    inputElement.addEventListener('change', (e) => {\n",
              "      resolve(e.target.files);\n",
              "    });\n",
              "  });\n",
              "\n",
              "  const cancel = document.createElement('button');\n",
              "  inputElement.parentElement.appendChild(cancel);\n",
              "  cancel.textContent = 'Cancel upload';\n",
              "  const cancelPromise = new Promise((resolve) => {\n",
              "    cancel.onclick = () => {\n",
              "      resolve(null);\n",
              "    };\n",
              "  });\n",
              "\n",
              "  // Wait for the user to pick the files.\n",
              "  const files = yield {\n",
              "    promise: Promise.race([pickedPromise, cancelPromise]),\n",
              "    response: {\n",
              "      action: 'starting',\n",
              "    }\n",
              "  };\n",
              "\n",
              "  cancel.remove();\n",
              "\n",
              "  // Disable the input element since further picks are not allowed.\n",
              "  inputElement.disabled = true;\n",
              "\n",
              "  if (!files) {\n",
              "    return {\n",
              "      response: {\n",
              "        action: 'complete',\n",
              "      }\n",
              "    };\n",
              "  }\n",
              "\n",
              "  for (const file of files) {\n",
              "    const li = document.createElement('li');\n",
              "    li.append(span(file.name, {fontWeight: 'bold'}));\n",
              "    li.append(span(\n",
              "        `(${file.type || 'n/a'}) - ${file.size} bytes, ` +\n",
              "        `last modified: ${\n",
              "            file.lastModifiedDate ? file.lastModifiedDate.toLocaleDateString() :\n",
              "                                    'n/a'} - `));\n",
              "    const percent = span('0% done');\n",
              "    li.appendChild(percent);\n",
              "\n",
              "    outputElement.appendChild(li);\n",
              "\n",
              "    const fileDataPromise = new Promise((resolve) => {\n",
              "      const reader = new FileReader();\n",
              "      reader.onload = (e) => {\n",
              "        resolve(e.target.result);\n",
              "      };\n",
              "      reader.readAsArrayBuffer(file);\n",
              "    });\n",
              "    // Wait for the data to be ready.\n",
              "    let fileData = yield {\n",
              "      promise: fileDataPromise,\n",
              "      response: {\n",
              "        action: 'continue',\n",
              "      }\n",
              "    };\n",
              "\n",
              "    // Use a chunked sending to avoid message size limits. See b/62115660.\n",
              "    let position = 0;\n",
              "    do {\n",
              "      const length = Math.min(fileData.byteLength - position, MAX_PAYLOAD_SIZE);\n",
              "      const chunk = new Uint8Array(fileData, position, length);\n",
              "      position += length;\n",
              "\n",
              "      const base64 = btoa(String.fromCharCode.apply(null, chunk));\n",
              "      yield {\n",
              "        response: {\n",
              "          action: 'append',\n",
              "          file: file.name,\n",
              "          data: base64,\n",
              "        },\n",
              "      };\n",
              "\n",
              "      let percentDone = fileData.byteLength === 0 ?\n",
              "          100 :\n",
              "          Math.round((position / fileData.byteLength) * 100);\n",
              "      percent.textContent = `${percentDone}% done`;\n",
              "\n",
              "    } while (position < fileData.byteLength);\n",
              "  }\n",
              "\n",
              "  // All done.\n",
              "  yield {\n",
              "    response: {\n",
              "      action: 'complete',\n",
              "    }\n",
              "  };\n",
              "}\n",
              "\n",
              "scope.google = scope.google || {};\n",
              "scope.google.colab = scope.google.colab || {};\n",
              "scope.google.colab._files = {\n",
              "  _uploadFiles,\n",
              "  _uploadFilesContinue,\n",
              "};\n",
              "})(self);\n",
              "</script> "
            ]
          },
          "metadata": {}
        },
        {
          "output_type": "stream",
          "name": "stdout",
          "text": [
            "Saving Kemendikbud.xlsx to Kemendikbud (2).xlsx\n"
          ]
        }
      ]
    },
    {
      "cell_type": "code",
      "source": [
        "import pandas as pd\n",
        "\n",
        "# Membaca file Excel yang sudah diupload\n",
        "data = pd.read_excel('Kemendikbud.xlsx')\n",
        "\n",
        "# Menampilkan beberapa baris pertama dari DataFrame\n",
        "print(data.head())\n"
      ],
      "metadata": {
        "colab": {
          "base_uri": "https://localhost:8080/"
        },
        "id": "NYmjyWVtY4di",
        "outputId": "4b22bc67-d99a-4c0a-8c09-65769cd768ce"
      },
      "execution_count": null,
      "outputs": [
        {
          "output_type": "stream",
          "name": "stderr",
          "text": [
            "/usr/local/lib/python3.10/dist-packages/ipykernel/ipkernel.py:283: DeprecationWarning: `should_run_async` will not call `transform_cell` automatically in the future. Please pass the result to `transformed_cell` argument and any exception that happen during thetransform in `preprocessing_exc_tuple` in IPython 7.17 and above.\n",
            "  and should_run_async(code)\n"
          ]
        },
        {
          "output_type": "stream",
          "name": "stdout",
          "text": [
            "         date                         name sentiment  \\\n",
            "0  2024-07-17  arahkata.pikiran-rakyat.com   neutral   \n",
            "1  2024-07-15               kompasiana.com  negative   \n",
            "2  2024-07-15           daftarbeasiswa.com   neutral   \n",
            "3  2024-07-15               serayunews.com   neutral   \n",
            "4  2024-07-15                     tempo.co  negative   \n",
            "\n",
            "                                               title  \n",
            "0  Anggota DPR Kritik Skema Pembayaran UKT Dengan...  \n",
            "1  Pinjol untuk Pendidikan, di Mana Peran Negara?...  \n",
            "2  Beasiswa Jardine Scholarship 2024 Beasiswa UKT...  \n",
            "3  Tanggal 16 Juli 2024, Batas Akhir Registrasi O...  \n",
            "4  Seleksi Jalur Mandiri Gelombang Dua Unnes Masi...  \n"
          ]
        }
      ]
    },
    {
      "cell_type": "code",
      "source": [
        "data['title'] = data['title'].str.lower()\n",
        "\n",
        "print('Case Folding Result : \\n')\n",
        "print(data['title'].head(10))"
      ],
      "metadata": {
        "colab": {
          "base_uri": "https://localhost:8080/"
        },
        "id": "9TX9InxjY4tB",
        "outputId": "1e052eab-8d17-461d-83d7-b39245d5375b"
      },
      "execution_count": null,
      "outputs": [
        {
          "output_type": "stream",
          "name": "stdout",
          "text": [
            "Case Folding Result : \n",
            "\n",
            "0    anggota dpr kritik skema pembayaran ukt dengan...\n",
            "1    pinjol untuk pendidikan, di mana peran negara?...\n",
            "2    beasiswa jardine scholarship 2024 beasiswa ukt...\n",
            "3    tanggal 16 juli 2024, batas akhir registrasi o...\n",
            "4    seleksi jalur mandiri gelombang dua unnes masi...\n",
            "5    \\n                    seleksi jalur mandiri ge...\n",
            "6    \\n                    unnes tegaskan tak naikk...\n",
            "7    unnes tegaskan tak naikkan ukt tahun akademik ...\n",
            "8     7 jurusan d3-s1 dengan ukt dan ipi termurah m...\n",
            "9     cuma 13 pendaftar! ini 10 prodi d3-s1 sepi pe...\n",
            "Name: title, dtype: object\n"
          ]
        },
        {
          "output_type": "stream",
          "name": "stderr",
          "text": [
            "/usr/local/lib/python3.10/dist-packages/ipykernel/ipkernel.py:283: DeprecationWarning: `should_run_async` will not call `transform_cell` automatically in the future. Please pass the result to `transformed_cell` argument and any exception that happen during thetransform in `preprocessing_exc_tuple` in IPython 7.17 and above.\n",
            "  and should_run_async(code)\n"
          ]
        }
      ]
    },
    {
      "cell_type": "markdown",
      "source": [
        "Tokenizing : Menghapus karakter yang tidak penting\n"
      ],
      "metadata": {
        "id": "08gQ7ztSZRnd"
      }
    },
    {
      "cell_type": "code",
      "source": [
        "import string\n",
        "import re #regex library\n",
        "\n",
        "# import word_tokenize & FreqDist from NLTK\n",
        "from nltk.tokenize import word_tokenize\n",
        "from nltk.probability import FreqDist"
      ],
      "metadata": {
        "id": "9o-UZ9kPZjGy",
        "colab": {
          "base_uri": "https://localhost:8080/"
        },
        "outputId": "34b292d8-ea18-4ebd-b66f-2ff2b0766f8e"
      },
      "execution_count": null,
      "outputs": [
        {
          "output_type": "stream",
          "name": "stderr",
          "text": [
            "/usr/local/lib/python3.10/dist-packages/ipykernel/ipkernel.py:283: DeprecationWarning: `should_run_async` will not call `transform_cell` automatically in the future. Please pass the result to `transformed_cell` argument and any exception that happen during thetransform in `preprocessing_exc_tuple` in IPython 7.17 and above.\n",
            "  and should_run_async(code)\n"
          ]
        }
      ]
    },
    {
      "cell_type": "code",
      "source": [
        "# ------ Tokenizing ---------\n",
        "\n",
        "nltk.download('punkt')\n",
        "\n",
        "def remove_tweet_special(text):\n",
        "    #handle potential float values\n",
        "    if isinstance(text, float):\n",
        "      text=str (text) #convert float to string\n",
        "\n",
        "    # remove tab, new line, ans back slice\n",
        "    text = text.replace('\\\\t', \" \").replace('\\\\n', \" \").replace('\\\\u', \" \").replace('\\\\', \"\")\n",
        "    # remove non ASCII (emoticon, chinese word, .etc)\n",
        "    text = text.encode('ascii', 'replace').decode('ascii')\n",
        "    # remove mention, link, hashtag\n",
        "    text = ' '.join(re.sub(\"([@#][A-Za-z0-9]+)|(\\w+:\\/\\/\\S+)\",\" \", text).split())\n",
        "    # remove incomplete URL\n",
        "    return text.replace(\"http://\", \" \").replace(\"https://\", \" \")\n",
        "\n",
        "data['title'] = data['title'].apply(remove_tweet_special)\n",
        "\n",
        "#remove number\n",
        "def remove_number(text):\n",
        "    return  re.sub(r\"\\d+\", \"\", text)\n",
        "\n",
        "data['title'] = data['title'].apply(remove_number)\n",
        "\n",
        "#remove punctuation\n",
        "def remove_punctuation(text):\n",
        "    return text.translate(str.maketrans(\"\",\"\",string.punctuation))\n",
        "\n",
        "data['title'] = data['title'].apply(remove_punctuation)\n",
        "\n",
        "#remove whitespace leading & trailing\n",
        "def remove_whitespace_LT(text):\n",
        "    return text.strip()\n",
        "\n",
        "data['title'] = data['title'].apply(remove_whitespace_LT)\n",
        "\n",
        "#remove multiple whitespace into single whitespace\n",
        "def remove_whitespace_multiple(text):\n",
        "    return re.sub('\\s+',' ',text)\n",
        "\n",
        "data['title'] = data['title'].apply(remove_whitespace_multiple)\n",
        "\n",
        "# remove single char\n",
        "def remove_singl_char(text):\n",
        "    return re.sub(r\"\\b[a-zA-Z]\\b\", \"\", text)\n",
        "\n",
        "data['title'] = data['title'].apply(remove_singl_char)\n",
        "\n",
        "# NLTK word tokenize\n",
        "def word_tokenize_wrapper(text):\n",
        "    return word_tokenize(text)\n",
        "\n",
        "data['title_tokens'] = data['title'].apply(word_tokenize_wrapper)\n",
        "\n",
        "print('Tokenizing Result : \\n')\n",
        "print(data['title_tokens'].head())"
      ],
      "metadata": {
        "colab": {
          "base_uri": "https://localhost:8080/"
        },
        "id": "Sa2fjElZZuwo",
        "outputId": "8aeb447f-b3c5-4af8-895b-bd7b715e2c45"
      },
      "execution_count": null,
      "outputs": [
        {
          "output_type": "stream",
          "name": "stderr",
          "text": [
            "/usr/local/lib/python3.10/dist-packages/ipykernel/ipkernel.py:283: DeprecationWarning: `should_run_async` will not call `transform_cell` automatically in the future. Please pass the result to `transformed_cell` argument and any exception that happen during thetransform in `preprocessing_exc_tuple` in IPython 7.17 and above.\n",
            "  and should_run_async(code)\n",
            "<>:15: DeprecationWarning: invalid escape sequence '\\w'\n",
            "<>:41: DeprecationWarning: invalid escape sequence '\\s'\n",
            "<>:15: DeprecationWarning: invalid escape sequence '\\w'\n",
            "<>:41: DeprecationWarning: invalid escape sequence '\\s'\n",
            "<ipython-input-24-a3d5908e03c9>:15: DeprecationWarning: invalid escape sequence '\\w'\n",
            "  text = ' '.join(re.sub(\"([@#][A-Za-z0-9]+)|(\\w+:\\/\\/\\S+)\",\" \", text).split())\n",
            "<ipython-input-24-a3d5908e03c9>:41: DeprecationWarning: invalid escape sequence '\\s'\n",
            "  return re.sub('\\s+',' ',text)\n",
            "[nltk_data] Downloading package punkt to /root/nltk_data...\n",
            "[nltk_data]   Package punkt is already up-to-date!\n"
          ]
        },
        {
          "output_type": "stream",
          "name": "stdout",
          "text": [
            "Tokenizing Result : \n",
            "\n",
            "0    [anggota, dpr, kritik, skema, pembayaran, ukt,...\n",
            "1    [pinjol, untuk, pendidikan, di, mana, peran, n...\n",
            "2    [beasiswa, jardine, scholarship, beasiswa, ukt...\n",
            "3    [tanggal, juli, batas, akhir, registrasi, onli...\n",
            "4    [seleksi, jalur, mandiri, gelombang, dua, unne...\n",
            "Name: title_tokens, dtype: object\n"
          ]
        }
      ]
    },
    {
      "cell_type": "code",
      "source": [
        "# NLTK calc frequency distribution\n",
        "def freqDist_wrapper(text):\n",
        "    return FreqDist(text)\n",
        "\n",
        "data['title_tokens_fdist'] = data['title_tokens'].apply(freqDist_wrapper)\n",
        "\n",
        "print('Frequency Tokens : \\n')\n",
        "print(data['title_tokens_fdist'].head().apply(lambda x : x.most_common()))"
      ],
      "metadata": {
        "colab": {
          "base_uri": "https://localhost:8080/"
        },
        "id": "WnVjd9kRbkpA",
        "outputId": "0f65a0cf-8904-4aa7-b3a6-8f0a25879fd4"
      },
      "execution_count": null,
      "outputs": [
        {
          "output_type": "stream",
          "name": "stdout",
          "text": [
            "Frequency Tokens : \n",
            "\n",
            "0    [(anggota, 1), (dpr, 1), (kritik, 1), (skema, ...\n",
            "1    [(pinjol, 1), (untuk, 1), (pendidikan, 1), (di...\n",
            "2    [(beasiswa, 2), (jardine, 1), (scholarship, 1)...\n",
            "3    [(tanggal, 1), (juli, 1), (batas, 1), (akhir, ...\n",
            "4    [(seleksi, 1), (jalur, 1), (mandiri, 1), (gelo...\n",
            "Name: title_tokens_fdist, dtype: object\n"
          ]
        },
        {
          "output_type": "stream",
          "name": "stderr",
          "text": [
            "/usr/local/lib/python3.10/dist-packages/ipykernel/ipkernel.py:283: DeprecationWarning: `should_run_async` will not call `transform_cell` automatically in the future. Please pass the result to `transformed_cell` argument and any exception that happen during thetransform in `preprocessing_exc_tuple` in IPython 7.17 and above.\n",
            "  and should_run_async(code)\n"
          ]
        }
      ]
    },
    {
      "cell_type": "markdown",
      "source": [
        "Normalisasi"
      ],
      "metadata": {
        "id": "89TwMXJz-TiJ"
      }
    },
    {
      "cell_type": "code",
      "source": [
        "from google.colab import files\n",
        "uploaded = files.upload()\n"
      ],
      "metadata": {
        "colab": {
          "base_uri": "https://localhost:8080/",
          "height": 130
        },
        "id": "Xm7MAHa57CKT",
        "outputId": "058b4639-9198-49f3-dc9e-c88f21297da4"
      },
      "execution_count": null,
      "outputs": [
        {
          "output_type": "stream",
          "name": "stderr",
          "text": [
            "/usr/local/lib/python3.10/dist-packages/ipykernel/ipkernel.py:283: DeprecationWarning: `should_run_async` will not call `transform_cell` automatically in the future. Please pass the result to `transformed_cell` argument and any exception that happen during thetransform in `preprocessing_exc_tuple` in IPython 7.17 and above.\n",
            "  and should_run_async(code)\n"
          ]
        },
        {
          "output_type": "display_data",
          "data": {
            "text/plain": [
              "<IPython.core.display.HTML object>"
            ],
            "text/html": [
              "\n",
              "     <input type=\"file\" id=\"files-961e8446-93e7-4ca6-9ae5-5de603d503c9\" name=\"files[]\" multiple disabled\n",
              "        style=\"border:none\" />\n",
              "     <output id=\"result-961e8446-93e7-4ca6-9ae5-5de603d503c9\">\n",
              "      Upload widget is only available when the cell has been executed in the\n",
              "      current browser session. Please rerun this cell to enable.\n",
              "      </output>\n",
              "      <script>// Copyright 2017 Google LLC\n",
              "//\n",
              "// Licensed under the Apache License, Version 2.0 (the \"License\");\n",
              "// you may not use this file except in compliance with the License.\n",
              "// You may obtain a copy of the License at\n",
              "//\n",
              "//      http://www.apache.org/licenses/LICENSE-2.0\n",
              "//\n",
              "// Unless required by applicable law or agreed to in writing, software\n",
              "// distributed under the License is distributed on an \"AS IS\" BASIS,\n",
              "// WITHOUT WARRANTIES OR CONDITIONS OF ANY KIND, either express or implied.\n",
              "// See the License for the specific language governing permissions and\n",
              "// limitations under the License.\n",
              "\n",
              "/**\n",
              " * @fileoverview Helpers for google.colab Python module.\n",
              " */\n",
              "(function(scope) {\n",
              "function span(text, styleAttributes = {}) {\n",
              "  const element = document.createElement('span');\n",
              "  element.textContent = text;\n",
              "  for (const key of Object.keys(styleAttributes)) {\n",
              "    element.style[key] = styleAttributes[key];\n",
              "  }\n",
              "  return element;\n",
              "}\n",
              "\n",
              "// Max number of bytes which will be uploaded at a time.\n",
              "const MAX_PAYLOAD_SIZE = 100 * 1024;\n",
              "\n",
              "function _uploadFiles(inputId, outputId) {\n",
              "  const steps = uploadFilesStep(inputId, outputId);\n",
              "  const outputElement = document.getElementById(outputId);\n",
              "  // Cache steps on the outputElement to make it available for the next call\n",
              "  // to uploadFilesContinue from Python.\n",
              "  outputElement.steps = steps;\n",
              "\n",
              "  return _uploadFilesContinue(outputId);\n",
              "}\n",
              "\n",
              "// This is roughly an async generator (not supported in the browser yet),\n",
              "// where there are multiple asynchronous steps and the Python side is going\n",
              "// to poll for completion of each step.\n",
              "// This uses a Promise to block the python side on completion of each step,\n",
              "// then passes the result of the previous step as the input to the next step.\n",
              "function _uploadFilesContinue(outputId) {\n",
              "  const outputElement = document.getElementById(outputId);\n",
              "  const steps = outputElement.steps;\n",
              "\n",
              "  const next = steps.next(outputElement.lastPromiseValue);\n",
              "  return Promise.resolve(next.value.promise).then((value) => {\n",
              "    // Cache the last promise value to make it available to the next\n",
              "    // step of the generator.\n",
              "    outputElement.lastPromiseValue = value;\n",
              "    return next.value.response;\n",
              "  });\n",
              "}\n",
              "\n",
              "/**\n",
              " * Generator function which is called between each async step of the upload\n",
              " * process.\n",
              " * @param {string} inputId Element ID of the input file picker element.\n",
              " * @param {string} outputId Element ID of the output display.\n",
              " * @return {!Iterable<!Object>} Iterable of next steps.\n",
              " */\n",
              "function* uploadFilesStep(inputId, outputId) {\n",
              "  const inputElement = document.getElementById(inputId);\n",
              "  inputElement.disabled = false;\n",
              "\n",
              "  const outputElement = document.getElementById(outputId);\n",
              "  outputElement.innerHTML = '';\n",
              "\n",
              "  const pickedPromise = new Promise((resolve) => {\n",
              "    inputElement.addEventListener('change', (e) => {\n",
              "      resolve(e.target.files);\n",
              "    });\n",
              "  });\n",
              "\n",
              "  const cancel = document.createElement('button');\n",
              "  inputElement.parentElement.appendChild(cancel);\n",
              "  cancel.textContent = 'Cancel upload';\n",
              "  const cancelPromise = new Promise((resolve) => {\n",
              "    cancel.onclick = () => {\n",
              "      resolve(null);\n",
              "    };\n",
              "  });\n",
              "\n",
              "  // Wait for the user to pick the files.\n",
              "  const files = yield {\n",
              "    promise: Promise.race([pickedPromise, cancelPromise]),\n",
              "    response: {\n",
              "      action: 'starting',\n",
              "    }\n",
              "  };\n",
              "\n",
              "  cancel.remove();\n",
              "\n",
              "  // Disable the input element since further picks are not allowed.\n",
              "  inputElement.disabled = true;\n",
              "\n",
              "  if (!files) {\n",
              "    return {\n",
              "      response: {\n",
              "        action: 'complete',\n",
              "      }\n",
              "    };\n",
              "  }\n",
              "\n",
              "  for (const file of files) {\n",
              "    const li = document.createElement('li');\n",
              "    li.append(span(file.name, {fontWeight: 'bold'}));\n",
              "    li.append(span(\n",
              "        `(${file.type || 'n/a'}) - ${file.size} bytes, ` +\n",
              "        `last modified: ${\n",
              "            file.lastModifiedDate ? file.lastModifiedDate.toLocaleDateString() :\n",
              "                                    'n/a'} - `));\n",
              "    const percent = span('0% done');\n",
              "    li.appendChild(percent);\n",
              "\n",
              "    outputElement.appendChild(li);\n",
              "\n",
              "    const fileDataPromise = new Promise((resolve) => {\n",
              "      const reader = new FileReader();\n",
              "      reader.onload = (e) => {\n",
              "        resolve(e.target.result);\n",
              "      };\n",
              "      reader.readAsArrayBuffer(file);\n",
              "    });\n",
              "    // Wait for the data to be ready.\n",
              "    let fileData = yield {\n",
              "      promise: fileDataPromise,\n",
              "      response: {\n",
              "        action: 'continue',\n",
              "      }\n",
              "    };\n",
              "\n",
              "    // Use a chunked sending to avoid message size limits. See b/62115660.\n",
              "    let position = 0;\n",
              "    do {\n",
              "      const length = Math.min(fileData.byteLength - position, MAX_PAYLOAD_SIZE);\n",
              "      const chunk = new Uint8Array(fileData, position, length);\n",
              "      position += length;\n",
              "\n",
              "      const base64 = btoa(String.fromCharCode.apply(null, chunk));\n",
              "      yield {\n",
              "        response: {\n",
              "          action: 'append',\n",
              "          file: file.name,\n",
              "          data: base64,\n",
              "        },\n",
              "      };\n",
              "\n",
              "      let percentDone = fileData.byteLength === 0 ?\n",
              "          100 :\n",
              "          Math.round((position / fileData.byteLength) * 100);\n",
              "      percent.textContent = `${percentDone}% done`;\n",
              "\n",
              "    } while (position < fileData.byteLength);\n",
              "  }\n",
              "\n",
              "  // All done.\n",
              "  yield {\n",
              "    response: {\n",
              "      action: 'complete',\n",
              "    }\n",
              "  };\n",
              "}\n",
              "\n",
              "scope.google = scope.google || {};\n",
              "scope.google.colab = scope.google.colab || {};\n",
              "scope.google.colab._files = {\n",
              "  _uploadFiles,\n",
              "  _uploadFilesContinue,\n",
              "};\n",
              "})(self);\n",
              "</script> "
            ]
          },
          "metadata": {}
        },
        {
          "output_type": "stream",
          "name": "stdout",
          "text": [
            "Saving normalisasi.xlsx to normalisasi (1).xlsx\n"
          ]
        }
      ]
    },
    {
      "cell_type": "code",
      "source": [
        "import os\n",
        "import pandas as pd\n",
        "\n",
        "\n",
        "print(os.path.exists('normalisasi.xlsx'))\n",
        "normalizad_word_dict = pd.read_excel('normalisasi.xlsx')\n",
        "\n",
        "# Membuat dictionary untuk normalisasi\n",
        "normalizad_word_dict_new = {}\n",
        "\n",
        "# Iterate over the correct DataFrame 'normalizad_word_dict'\n",
        "for index, row in normalizad_word_dict.iterrows():\n",
        "    if row[0] not in normalizad_word_dict_new:\n",
        "        normalizad_word_dict_new[row[0]] = row[1]\n",
        "\n",
        "# Fungsi untuk normalisasi term\n",
        "def normalized_term(document):\n",
        "    return [normalizad_word_dict_new[term] if term in normalizad_word_dict_new else term for term in document]\n",
        "\n",
        "# Terapkan normalisasi pada kolom yang sesuai\n",
        "data['title_normalized'] = data['title_tokens_fdist'].apply(normalized_term)\n",
        "\n",
        "# Tampilkan 10 data teratas dari kolom yang dinormalisasi\n",
        "print(data['title_normalized'].head(10))"
      ],
      "metadata": {
        "colab": {
          "base_uri": "https://localhost:8080/"
        },
        "id": "yr7zdfTb3P8z",
        "outputId": "11720a73-d96d-4ba4-bc7e-e1dce7b86b1a"
      },
      "execution_count": null,
      "outputs": [
        {
          "output_type": "stream",
          "name": "stdout",
          "text": [
            "True\n",
            "0    [anggota, dpr, kritik, skema, bayar, ukt, pinj...\n",
            "1                       [pinjol, didik, peran, negara]\n",
            "2    [beasiswa, jardine, scholarship, ukt, biaya, h...\n",
            "3    [tanggal, juli, batas, registrasi, online, mab...\n",
            "4    [seleksi, jalur, mandiri, gelombang, unnes, bu...\n",
            "5    [seleksi, jalur, mandiri, gelombang, unnes, bu...\n",
            "6                               [unnes, ukt, akademik]\n",
            "7                               [unnes, ukt, akademik]\n",
            "8    [jurus, ds, ukt, ipi, murah, mandiri, smmu, un...\n",
            "9    [daftar, prodi, ds, sepi, minat, sm, unnes, re...\n",
            "Name: title_normalized, dtype: object\n"
          ]
        },
        {
          "output_type": "stream",
          "name": "stderr",
          "text": [
            "/usr/local/lib/python3.10/dist-packages/ipykernel/ipkernel.py:283: DeprecationWarning: `should_run_async` will not call `transform_cell` automatically in the future. Please pass the result to `transformed_cell` argument and any exception that happen during thetransform in `preprocessing_exc_tuple` in IPython 7.17 and above.\n",
            "  and should_run_async(code)\n"
          ]
        }
      ]
    },
    {
      "cell_type": "code",
      "source": [
        "# import Sastrawi package\n",
        "from Sastrawi.Stemmer.StemmerFactory import StemmerFactory\n",
        "import swifter\n",
        "\n",
        "# create stemmer\n",
        "factory = StemmerFactory()\n",
        "stemmer = factory.create_stemmer()\n",
        "\n",
        "# stemmed\n",
        "def stemmed_wrapper(term):\n",
        "    return stemmer.stem(term)\n",
        "\n",
        "term_dict = {}\n",
        "\n",
        "for document in data['title_normalized']:\n",
        "    for term in document:\n",
        "        # Convert the term to a string before using it as a key\n",
        "        term_str = ' '.join(term)\n",
        "        if term_str not in term_dict:\n",
        "            term_dict[term_str] = ' '\n",
        "\n",
        "\n"
      ],
      "metadata": {
        "colab": {
          "base_uri": "https://localhost:8080/"
        },
        "id": "RiizF63B8uzO",
        "outputId": "e3b4fbe1-43f5-452b-ee04-ed4c77c38041"
      },
      "execution_count": null,
      "outputs": [
        {
          "output_type": "stream",
          "name": "stderr",
          "text": [
            "/usr/local/lib/python3.10/dist-packages/ipykernel/ipkernel.py:283: DeprecationWarning: `should_run_async` will not call `transform_cell` automatically in the future. Please pass the result to `transformed_cell` argument and any exception that happen during thetransform in `preprocessing_exc_tuple` in IPython 7.17 and above.\n",
            "  and should_run_async(code)\n"
          ]
        }
      ]
    },
    {
      "cell_type": "code",
      "source": [
        "for term in term_dict:\n",
        "    term_dict[term] = stemmed_wrapper(term)\n",
        "\n",
        "    # untuk melihat hasilnya silahkan jalankan baris di bawah ini\n",
        "    print(term,\":\" ,term_dict[term])"
      ],
      "metadata": {
        "colab": {
          "base_uri": "https://localhost:8080/"
        },
        "id": "QdVBMrx99zMa",
        "outputId": "3df3c7a0-76fc-4711-90b8-d6d0fc9a5f15"
      },
      "execution_count": null,
      "outputs": [
        {
          "output_type": "stream",
          "name": "stderr",
          "text": [
            "/usr/local/lib/python3.10/dist-packages/ipykernel/ipkernel.py:283: DeprecationWarning: `should_run_async` will not call `transform_cell` automatically in the future. Please pass the result to `transformed_cell` argument and any exception that happen during thetransform in `preprocessing_exc_tuple` in IPython 7.17 and above.\n",
            "  and should_run_async(code)\n"
          ]
        },
        {
          "output_type": "stream",
          "name": "stdout",
          "text": [
            "a n g g o t a : a n g g o t a\n",
            "d p r : d p r\n",
            "k r i t i k : k r i t i k\n",
            "s k e m a : s k e m a\n",
            "b a y a r : b a y a r\n",
            "u k t : u k t\n",
            "p i n j o l : p i n j o l\n",
            "s o l u s i : s o l u s i\n",
            "d i d i k : d i d i k\n",
            "p e r a n : p e r a n\n",
            "n e g a r a : n e g a r a\n",
            "b e a s i s w a : b e a s i s w a\n",
            "j a r d i n e : j a r d i n e\n",
            "s c h o l a r s h i p : s c h o l a r s h i p\n",
            "b i a y a : b i a y a\n",
            "h i d u p : h i d u p\n",
            "t a n g g a l : t a n g g a l\n",
            "j u l i : j u l i\n",
            "b a t a s : b a t a s\n",
            "r e g i s t r a s i : r e g i s t r a s i\n",
            "o n l i n e : o n l i n e\n",
            "m a b a : m a b a\n",
            "u i n : u i n\n",
            "s a i z u : s a i z u\n",
            "p u r w o k e r t o : p u r w o k e r t o\n",
            "j a l u r : j a l u r\n",
            "u m : u m\n",
            "p t k i n : p t k i n\n",
            "s e l e k s i : s e l e k s i\n",
            "m a n d i r i : m a n d i r i\n",
            "g e l o m b a n g : g e l o m b a n g\n",
            "u n n e s : u n n e s\n",
            "b u k a : b u k a\n",
            "i p i : i p i\n",
            "a k a d e m i k : a k a d e m i k\n",
            "j u r u s : j u r u s\n",
            "d s : d s\n",
            "m u r a h : m u r a h\n",
            "s m m u : s m m u\n",
            "u n d a n a : u n d a n a\n",
            "k u p a n g : k u p a n g\n",
            "r u p i a h : r u p i a h\n",
            "d a f t a r : d a f t a r\n",
            "p r o d i : p r o d i\n",
            "s e p i : s e p i\n",
            "m i n a t : m i n a t\n",
            "s m : s m\n",
            "r e g u l e r : r e g u l e r\n",
            "d a y a : d a y a\n",
            "t a m p u n g : t a m p u n g\n",
            "r i b u : r i b u\n",
            "k e l u l u s : k e l u l u s\n",
            "p e n m a b a : p e n m a b a\n",
            "u n j : u n j\n",
            "u j i : u j i\n",
            "t u l i s : t u l i s\n",
            "m a h a s i s w a : m a h a s i s w a\n",
            "u m p t k i n : u m p t k i n\n",
            "u n i v e r s i t a s : u n i v e r s i t a s\n",
            "s e b e l a s : s e b e l a s\n",
            "m a r e t : m a r e t\n",
            "p m b : p m b\n",
            "u n s : u n s\n",
            "m a s u k : m a s u k\n",
            "u s u : u s u\n",
            "d u g a : d u g a\n",
            "k u l i a h : k u l i a h\n",
            "t u n g g a l : t u n g g a l\n",
            "k e m e n d i k b u d r i s t e k : k e m e n d i k b u d r i s t e k\n",
            "j a d w a l : j a d w a l\n",
            "i n f o r m a s i : i n f o r m a s i\n",
            "l e n g k a p : l e n g k a p\n",
            "h a s i l : h a s i l\n",
            "u n e j : u n e j\n",
            "b e s o k : b e s o k\n",
            "j e n j a n g : j e n j a n g\n",
            "k a b a r : k a b a r\n",
            "h o a k s : h o a k s\n",
            "j o k o w i : j o k o w i\n",
            "s e l e w e n g : s e l e w e n g\n",
            "d a n a : d a n a\n",
            "t r i l i u n : t r i l i u n\n",
            "f a k t a : f a k t a\n",
            "h e l m : h e l m\n",
            "k e r a p : k e r a p\n",
            "h i l a n g : h i l a n g\n",
            "b e m : b e m\n",
            "u d a y a n a : u d a y a n a\n",
            "k a m p u s : k a m p u s\n",
            "b e l i : b e l i\n",
            "c c t v : c c t v\n",
            "u l a n g : u l a n g\n",
            "b e r k a s : b e r k a s\n",
            "w a j i b : w a j i b\n",
            "d i e s : d i e s\n",
            "n a t a l i s : n a t a l i s\n",
            "i s i : i s i\n",
            "s u r a k a r t a : s u r a k a r t a\n",
            "k a d o : k a d o\n",
            "s p e s i a l : s p e s i a l\n",
            "s t a t u s : s t a t u s\n",
            "p t n : p t n\n",
            "b l u : b l u\n",
            "p o t e n s i : p o t e n s i\n",
            "b e b a s : b e b a s\n",
            "p u l a u : p u l a u\n",
            "h a d i r : h a d i r\n",
            "d o n g e n g : d o n g e n g\n",
            "t a r i k : t a r i k\n",
            "h i b u r : h i b u r\n",
            "u n j u n g : u n j u n g\n",
            "p a m e r : p a m e r\n",
            "f l o n a : f l o n a\n",
            "d o k t e r : d o k t e r\n",
            "u n a i r : u n a i r\n",
            "c a p a i : c a p a i\n",
            "i p b : i p b\n",
            "u n i v e r s i t y : u n i v e r s i t y\n",
            "k a b u p a t e n : k a b u p a t e n\n",
            "o r a n g : o r a n g\n",
            "m e n k o : m e n k o\n",
            "p m k : p m k\n",
            "u s u l : u s u l\n",
            "p a k a i : p a k a i\n",
            "p k s : p k s\n",
            "s i n g g u n g : s i n g g u n g\n",
            "t r e s : t r e s\n",
            "s i s t e m : s i s t e m\n",
            "i n d o n e s i a : i n d o n e s i a\n",
            "j e r m a n : j e r m a n\n",
            "a k u n t a n s i : a k u n t a n s i\n",
            "u a n g : u a n g\n",
            "v e r s i : v e r s i\n",
            "a s i a : a s i a\n",
            "r a n k i n g s : r a n k i n g s\n",
            "b y : b y\n",
            "s u b j e c t : s u b j e c t\n",
            "l i n k : l i n k\n",
            "u t b k : u t b k\n",
            "a m p : a m p\n",
            "c e k : c e k\n",
            "c a l o n : c a l o n\n",
            "u n p a d : u n p a d\n",
            "l o l o s : l o l o s\n",
            "t e r i m a : t e r i m a\n",
            "k i p : k i p\n",
            "c a r i : c a r i\n",
            "r e k t o r : r e k t o r\n",
            "s k d : s k d\n",
            "p o l t e k i p : p o l t e k i p\n",
            "p o l t e k i m : p o l t e k i m\n",
            "n i l a i : n i l a i\n",
            "a m a n : a m a n\n",
            "p r e d i k s i : p r e d i k s i\n",
            "s p m b : s p m b\n",
            "u n p : u n p\n",
            "p r e s t a s i : p r e s t a s i\n",
            "p a d a n g : p a d a n g\n",
            "p n p : p n p\n",
            "d i k l a t : d i k l a t\n",
            "b i n a : b i n a\n",
            "m e n t a l : m e n t a l\n",
            "s e c a t a : s e c a t a\n",
            "p e m k o : p e m k o\n",
            "m e d i a : m e d i a\n",
            "g e l : g e l\n",
            "m i n i m : m i n i m\n",
            "l a m a r : l a m a r\n",
            "i n d o n e s i a j e r m a n : i n d o n e s i a j e r m a n\n",
            "p e r h a t i : p e r h a t i\n",
            "w u j u d : w u j u d\n",
            "m i m p i : m i m p i\n",
            "n e g e r i : n e g e r i\n",
            "a n g g a r : a n g g a r\n",
            "a m b i l : a m b i l\n",
            "m e n t e r i : m e n t e r i\n",
            "n o n : n o n\n",
            "p e r d a n a : p e r d a n a\n",
            "m a h a s i w a : m a h a s i w a\n",
            "b a c a : b a c a\n",
            "s a k s i : s a k s i\n",
            "k u n c i : k u n c i\n",
            "v i n a : v i n a\n",
            "d a d a k : d a d a k\n",
            "s u l i t : s u l i t\n",
            "t e m u : t e m u\n",
            "s a n g k a : s a n g k a\n",
            "p e g i : p e g i\n",
            "s e t i a w a n : s e t i a w a n\n",
            "b a t a l : b a t a l\n",
            "m a n t a n : m a n t a n\n",
            "w a k a p o l r i : w a k a p o l r i\n",
            "b e n t u k : b e n t u k\n",
            "t g p f : t g p f\n",
            "s e p e l e : s e p e l e\n",
            "n o n f o r m a l : n o n f o r m a l\n",
            "i t b : i t b\n",
            "a j u : a j u\n",
            "j a t a h : j a t a h\n",
            "p e r i n t a h : p e r i n t a h\n",
            "n y a t a : n y a t a\n",
            "m e n h a n : m e n h a n\n",
            "p r a b o w o : p r a b o w o\n",
            "p r i o r i t a s : p r i o r i t a s\n",
            "l i n d u n g : l i n d u n g\n",
            "r a k y a t : r a k y a t\n",
            "u t a m a : u t a m a\n",
            "b a n d i n g : b a n d i n g\n",
            "t i p s : t i p s\n",
            "u s i r : u s i r\n",
            "m a l a s : m a l a s\n",
            "t r a d i s i : t r a d i s i\n",
            "j e p a n g : j e p a n g\n",
            "c e r i t a : c e r i t a\n",
            "j o h a n : j o h a n\n",
            "r a j a g u k g u k : r a j a g u k g u k\n",
            "u g m : u g m\n",
            "g r a t i s : g r a t i s\n",
            "t e s : t e s\n",
            "t u a : t u a\n",
            "l u l u s : l u l u s\n",
            "s m p : s m p\n",
            "p o l i s i : p o l i s i\n",
            "i d e n t i f i k a s i : i d e n t i f i k a s i\n",
            "l a k u : l a k u\n",
            "t i p u : t i p u\n",
            "d a t a : d a t a\n",
            "k e r j a : k e r j a\n",
            "b e r i t a : b e r i t a\n",
            "v i r a l : v i r a l\n",
            "s e n i n : s e n i n\n",
            "c a k : c a k\n",
            "i m i n : i m i n\n",
            "p i l i h : p i l i h\n",
            "p k b : p k b\n",
            "l u a s : l u a s\n",
            "g r a s s r o o t : g r a s s r o o t\n",
            "k a l a n g : k a l a n g\n",
            "e l i t e : e l i t e\n",
            "r e s i l i e n s i : r e s i l i e n s i\n",
            "o t o r i t a r i a n i s m e : o t o r i t a r i a n i s m e\n",
            "m a t i : m a t i\n",
            "a i r l a n g g a : a i r l a n g g a\n",
            "t r u n o j o y o : t r u n o j o y o\n",
            "m a d u r a : m a d u r a\n",
            "u t m : u t m\n",
            "p e r i k s a : p e r i k s a\n",
            "s e h a t : s e h a t\n",
            "p o l i t e k n i k : p o l i t e k n i k\n",
            "m e d a n : m e d a n\n",
            "l a k s a n a : l a k s a n a\n",
            "s e s u a i : s e s u a i\n",
            "p o l m e d : p o l m e d\n",
            "p u n g l i : p u n g l i\n",
            "u n s o e d : u n s o e d\n",
            "c a t a t : c a t a t\n",
            "p r o s e d u r : p r o s e d u r\n",
            "u n e s a : u n e s a\n",
            "g a m p a n g : g a m p a n g\n",
            "b u r u : b u r u\n",
            "s y a r a t : s y a r a t\n",
            "d a s a r : d a s a r\n",
            "s k o r : s k o r\n",
            "s e m a r a n g : s e m a r a n g\n",
            "f a k u l t a s : f a k u l t a s\n",
            "r a m a i : r a m a i\n",
            "i n s t i t u t : i n s t i t u t\n",
            "t e k n o l o g i : t e k n o l o g i\n",
            "b a n d u n g : b a n d u n g\n",
            "g i n : g i n\n",
            "s m m : s m m\n",
            "u n s u l b a r : u n s u l b a r\n",
            "o p e r a s i : o p e r a s i\n",
            "p a t u h : p a t u h\n",
            "l a n c a n g : l a n c a n g\n",
            "k u n i n g : k u n i n g\n",
            "p o l r e s : p o l r e s\n",
            "i n h i l : i n h i l\n",
            "g u r u : g u r u\n",
            "g a l a k : g a l a k\n",
            "k a s i h : k a s i h\n",
            "m e n d i k b u d r i s t e k : m e n d i k b u d r i s t e k\n",
            "n a d i e m : n a d i e m\n",
            "m a k a r i m : m a k a r i m\n",
            "k u r i k u l u m : k u r i k u l u m\n",
            "m e r d e k a : m e r d e k a\n",
            "s i m a : s i m a\n",
            "j a m : j a m\n",
            "u n a n d : u n a n d\n",
            "p e l u a n g : p e l u a n g\n",
            "s i m a k : s i m a k\n",
            "j e n d e r a l : j e n d e r a l\n",
            "s o e d i r m a n : s o e d i r m a n\n",
            "t m u b k : t m u b k\n",
            "p r o d i p r o d i : p r o d i p r o d i\n",
            "t m u b k m a n d i r i : t m u b k m a n d i r i\n",
            "i m p i : i m p i\n",
            "m a c h i n e : m a c h i n e\n",
            "e n g i n e e r : e n g i n e e r\n",
            "t e k n i k : t e k n i k\n",
            "m e s i n : m e s i n\n",
            "a k r e d i t a s i : a k r e d i t a s i\n",
            "u n g g u l : u n g g u l\n",
            "b a n : b a n\n",
            "i n f o : i n f o\n",
            "d o k u m e n : d o k u m e n\n",
            "b a s : b a s\n",
            "g e l a r : g e l a r\n",
            "s i d a n g : s i d a n g\n",
            "t a r g e t : t a r g e t\n",
            "s o l o : s o l o\n",
            "m u r i d : m u r i d\n",
            "s m a : s m a\n",
            "s w a s t a : s w a s t a\n",
            "k o t a : k o t a\n",
            "p p d b : p p d b\n",
            "c a m a b a : c a m a b a\n",
            "l o m b a : l o m b a\n",
            "o p i n i : o p i n i\n",
            "s i s w a : s i s w a\n",
            "t i n g k a t : t i n g k a t\n",
            "n a s i o n a l : n a s i o n a l\n",
            "u n i m a l : u n i m a l\n",
            "h a r a p : h a r a p\n",
            "u b a h : u b a h\n",
            "p t n b l u : p t n b l u\n",
            "m a g a n g : m a g a n g\n",
            "w a j a h : w a j a h\n",
            "m e d s o s : m e d s o s\n",
            "t e l k o m : t e l k o m\n",
            "a r s i t e k t u r : a r s i t e k t u r\n",
            "u i i : u i i\n",
            "b e r a n g k a t : b e r a n g k a t\n",
            "u m y : u m y\n",
            "t u k a r : t u k a r\n",
            "t u j u h : t u j u h\n",
            "d e v a : d e v a\n",
            "a n i : a n i\n",
            "k e m b a n g : k e m b a n g\n",
            "a j a r : a j a r\n",
            "k a r i n a : k a r i n a\n",
            "p u t r i : p u t r i\n",
            "a g u s t i n a : a g u s t i n a\n",
            "m a h a s i s w i : m a h a s i s w i\n",
            "u m k : u m k\n",
            "k o n t r i b u s i : k o n t r i b u s i\n",
            "d u n i a : d u n i a\n",
            "r e s m i : r e s m i\n",
            "s e l e s a i : s e l e s a i\n",
            "p m m : p m m\n",
            "t e m b u s : t e m b u s\n",
            "a c u : a c u\n",
            "u i : u i\n",
            "u n y : u n y\n",
            "s n b t : s n b t\n",
            "c b t : c b t\n",
            "s e l a m a t : s e l a m a t\n",
            "s e m m a b a : s e m m a b a\n",
            "s p i : s p i\n",
            "k u p a s : k u p a s\n",
            "m a h a l : m a h a l\n",
            "u n i l a : u n i l a\n",
            "f a v o r i t : f a v o r i t\n",
            "u n h a s : u n h a s\n",
            "u p i : u p i\n",
            "b a h a s a : b a h a s a\n",
            "k e t a t : k e t a t\n",
            "w i b : w i b\n",
            "m a l a n g : m a l a n g\n",
            "t m b k : t m b k\n",
            "r e g p m b u n h a s a c i d : r e g p m b u n h a s a c i d\n",
            "r i l i s : r i l i s\n",
            "s i m a n i l a : s i m a n i l a\n",
            "k i s a h : k i s a h\n",
            "m o s e s : m o s e s\n",
            "p a t i b a n g : p a t i b a n g\n",
            "a n a k : a n a k\n",
            "t a n i : t a n i\n",
            "s i n g k o n g : s i n g k o n g\n",
            "t o r a j a : t o r a j a\n",
            "t a n t a n g : t a n t a n g\n",
            "d i s k u s i : d i s k u s i\n",
            "p a r a m a d i n a : p a r a m a d i n a\n",
            "r e a l i t a s : r e a l i t a s\n",
            "p r o f i l : p r o f i l\n",
            "m a x w e l l : m a x w e l l\n",
            "c l a s h : c l a s h\n",
            "o f : o f\n",
            "c h a m p i o n s : c h a m p i o n s\n",
            "x d : x d\n",
            "t a t a : t a t a\n",
            "s e k t o r : s e k t o r\n",
            "k a i t : k a i t\n",
            "b a j a r : b a j a r\n",
            "g e d e : g e d e\n",
            "s n b p : s n b p\n",
            "i s b i : i s b i\n",
            "a c e h : a c e h\n",
            "r u a n g : r u a n g\n",
            "s e n i m a n : s e n i m a n\n",
            "b u d a y a w a n : b u d a y a w a n\n",
            "r a i h : r a i h\n",
            "s a r j a n a : s a r j a n a\n",
            "h a r u : h a r u\n",
            "k e n a l : k e n a l\n",
            "t a n d a : t a n d a\n",
            "p r i a : p r i a\n",
            "c i n t a : c i n t a\n",
            "r e n d a h : r e n d a h\n",
            "s u a r a : s u a r a\n",
            "s a l a h : s a l a h\n",
            "i k n : i k n\n",
            "s i m b o l : s i m b o l\n",
            "m a j u : m a j u\n",
            "p r i m i t i f : p r i m i t i f\n",
            "g a g a h g a g a h a n : g a g a h g a g a h a n\n",
            "t a n a : t a n a\n",
            "p e r i n g k a t : p e r i n g k a t\n",
            "y o g y a k a r t a : y o g y a k a r t a\n",
            "u n : u n\n",
            "t o p : t o p\n",
            "b a z n a s : b a z n a s\n",
            "t a s i k m a l a y a : t a s i k m a l a y a\n",
            "h o t e l : h o t e l\n",
            "d i r e k t u r : d i r e k t u r\n",
            "b i s n i s : b i s n i s\n",
            "i d e : i d e\n",
            "m u h a d j i r : m u h a d j i r\n",
            "e f f e n d y : e f f e n d y\n",
            "a k i b a t : a k i b a t\n",
            "s e n i : s e n i\n",
            "d u i t : d u i t\n",
            "p p k b : p p k b\n",
            "t u n t u t : t u n t u t\n",
            "u t : u t\n",
            "d a m p a k : d a m p a k\n",
            "m a s y a r a k a t : m a s y a r a k a t\n",
            "p e r i s t i w a : p e r i s t i w a\n",
            "r i c u h : r i c u h\n",
            "d e m o : d e m o\n",
            "a k s i : a k s i\n",
            "b a c o k : b a c o k\n",
            "g e g a r a : g e g a r a\n",
            "r e b u t : r e b u t\n",
            "l a h a n : l a h a n\n",
            "p a r k i r : p a r k i r\n",
            "o l a h : o l a h\n",
            "u s a h a : u s a h a\n",
            "m o d a l : m o d a l\n",
            "c o k l a t : c o k l a t\n",
            "k a l e n g : k a l e n g\n",
            "o m z e t : o m z e t\n",
            "h e m a t : h e m a t\n",
            "j a t i n a n g o r : j a t i n a n g o r\n",
            "v o k a s i : v o k a s i\n",
            "i n s p i r a t i f : i n s p i r a t i f\n",
            "w e b s i t e : w e b s i t e\n",
            "u n u d : u n u d\n",
            "g a n g g u : g a n g g u\n",
            "b a k a r : b a k a r\n",
            "g e d u n g : g e d u n g\n",
            "g d l n : g d l n\n",
            "s u d i r m a n : s u d i r m a n\n",
            "l i h a t : l i h a t\n",
            "s e m m a b a u n e j a c i d : s e m m a b a u n e j a c i d\n",
            "k p m : k p m\n",
            "b a n s o s : b a n s o s\n",
            "p k h : p k h\n",
            "b p n t : b p n t\n",
            "a t u r : a t u r\n",
            "b a n t u : b a n t u\n",
            "s o s i a l : s o s i a l\n",
            "w a s p a d a : w a s p a d a\n",
            "m e t o d e : m e t o d e\n",
            "m a n i p u l a t o r : m a n i p u l a t o r\n",
            "m a n i p u l a s i : m a n i p u l a s i\n",
            "a n c a m : a n c a m\n",
            "d i g i t a l : d i g i t a l\n",
            "k i k a : k i k a\n",
            "s o r o t : s o r o t\n",
            "k a s u s k a s u s : k a s u s k a s u s\n",
            "p s i k o l o g i : p s i k o l o g i\n",
            "h e w a n : h e w a n\n",
            "m u d a h : m u d a h\n",
            "j a t u h : j a t u h\n",
            "h a t i h a t i : h a t i h a t i\n",
            "r a w a n : r a w a n\n",
            "m a n f a a t : m a n f a a t\n",
            "k e r e n : k e r e n\n",
            "a y a h : a y a h\n",
            "s i v i t a s : s i v i t a s\n",
            "a k a d e m i k a : a k a d e m i k a\n",
            "m e s t i : m e s t i\n",
            "t a n g g u h : t a n g g u h\n",
            "l a w a n : l a w a n\n",
            "r e p r e s i : r e p r e s i\n",
            "t e r e : t e r e\n",
            "l i y e : l i y e\n",
            "d u k u n g : d u k u n g\n",
            "p r a b o w o g i b r a n : p r a b o w o g i b r a n\n",
            "k o r b a n : k o r b a n\n",
            "s e l a s a : s e l a s a\n",
            "t e k a n : t e k a n\n",
            "b i b i t : b i b i t\n",
            "t a n a m : t a n a m\n",
            "r u m a h : r u m a h\n",
            "i b a d a h : i b a d a h\n",
            "p e m u d a : p e m u d a\n",
            "l i n t a s : l i n t a s\n",
            "i m a n : i m a n\n",
            "t e r n a t e : t e r n a t e\n",
            "t u a i : t u a i\n",
            "a p r e s i a s i : a p r e s i a s i\n",
            "w a w a n c a r a : w a w a n c a r a\n",
            "d i a n : d i a n\n",
            "s a s t r o w a r d o y o : s a s t r o w a r d o y o\n",
            "u m m a t : u m m a t\n",
            "c u l a s : c u l a s\n",
            "o b r a l : o b r a l\n",
            "s i m p a n g : s i m p a n g\n",
            "t e k n o k r a s i : t e k n o k r a s i\n",
            "i r o n i : i r o n i\n",
            "i l m u w a n : i l m u w a n\n",
            "j e r a t : j e r a t\n",
            "k u a s a : k u a s a\n",
            "r a p o r : r a p o r\n",
            "s e b a r : s e b a r\n",
            "u n c e n : u n c e n\n",
            "p r i o r i t a s k a n o a p : p r i o r i t a s k a n o a p\n",
            "p e n g u m u m a n s m : p e n g u m u m a n s m\n",
            "i n i l o g i n : i n i l o g i n\n",
            "d a f t a r p m b u n y a c i d : d a f t a r p m b u n y a c i d\n",
            "p m b u n y a c i d : p m b u n y a c i d\n",
            "j e l a n g : j e l a n g\n",
            "s u r a b a y a : s u r a b a y a\n",
            "m a t e r i : m a t e r i\n",
            "u n d i p : u n d i p\n",
            "p e r a n g k a t : p e r a n g k a t\n",
            "t a m p a r : t a m p a r\n",
            "m u t u : m u t u\n",
            "g a d j a h : g a d j a h\n",
            "m a d a : m a d a\n",
            "g a d i s : g a d i s\n",
            "k a t o l i k : k a t o l i k\n",
            "k e j a r : k e j a r\n",
            "f a r m a s i : f a r m a s i\n",
            "i s l a m : i s l a m\n",
            "p t s : p t s\n",
            "n a m a : n a m a\n",
            "p r o s p e k : p r o s p e k\n",
            "b e r i t a j a : b e r i t a j a\n",
            "s e k o l a h : s e k o l a h\n",
            "o r t u : o r t u\n",
            "k e l a s : k e l a s\n",
            "f a s i l i t a s : f a s i l i t a s\n",
            "i n t e r n a s i o n a l : i n t e r n a s i o n a l\n",
            "s u l t a n : s u l t a n\n",
            "t e l k o m s e l : t e l k o m s e l\n",
            "s u m s e l : s u m s e l\n",
            "p r o g r a m : p r o g r a m\n",
            "g r o w : g r o w\n",
            "e d u c a t i o n : e d u c a t i o n\n",
            "b y u : b y u\n",
            "l a y a n : l a y a n\n",
            "i n t e r n e t : i n t e r n e t\n",
            "e d u k a s i : e d u k a s i\n",
            "s m a n : s m a n\n",
            "p a l e m b a n g : p a l e m b a n g\n",
            "r e v o l u s i : r e v o l u s i\n",
            "b e d a : b e d a\n",
            "j e n i s : j e n i s\n",
            "o s p e k : o s p e k\n",
            "k i p r a h : k i p r a h\n",
            "u n j a : u n j a\n",
            "d i n k e s : d i n k e s\n",
            "g i z i : g i z i\n",
            "b u r u k : b u r u k\n",
            "a p l i k a s i : a p l i k a s i\n",
            "s a y a n g : s a y a n g\n",
            "w a r g a : w a r g a\n",
            "p a p u a : p a p u a\n",
            "n u g i n i : n u g i n i\n",
            "k u a t : k u a t\n",
            "r i : r i\n",
            "p e n a n d a t a n g a n a n : p e n a n d a t a n g a n a n\n",
            "m o u : m o u\n",
            "b i d a n g : b i d a n g\n",
            "s e p a k a t : s e p a k a t\n",
            "i i s m a : i i s m a\n",
            "w a k i l : w a k i l\n",
            "u n i s b a : u n i s b a\n",
            "o n b o a r d i n g : o n b o a r d i n g\n",
            "a k m a l : a k m a l\n",
            "s u r y a : s u r y a\n",
            "s a p u t r a : s a p u t r a\n",
            "a w a r d e e : a w a r d e e\n",
            "b s i : b s i\n",
            "y u d i s i u m : y u d i s i u m\n",
            "c o f u n d i n g : c o f u n d i n g\n",
            "i c t : i c t\n",
            "s t u d i : s t u d i\n",
            "f t s p : f t s p\n",
            "d i p o n e g o r o : d i p o n e g o r o\n",
            "p b s i : p b s i\n",
            "u n i s m a : u n i s m a\n",
            "u p a y a : u p a y a\n",
            "k u a l i t a s : k u a l i t a s\n",
            "k o l a b o r a s i : k o l a b o r a s i\n",
            "j e m b e r : j e m b e r\n",
            "c i p t a : c i p t a\n",
            "k r e a t i v i t a s : k r e a t i v i t a s\n",
            "s i s w a s i s w i : s i s w a s i s w i\n",
            "s d n : s d n\n",
            "m a n g l i : m a n g l i\n",
            "a g e n : a g e n\n",
            "a s i k : a s i k\n",
            "a n g k a t : a n g k a t\n",
            "t u l u n g a g u n g : t u l u n g a g u n g\n",
            "k u n j u n g : k u n j u n g\n",
            "m a d i n g : m a d i n g\n",
            "m a d : m a d\n",
            "m u h a m m a d i y a h : m u h a m m a d i y a h\n",
            "l e k o k : l e k o k\n",
            "d u t a : d u t a\n",
            "s a s t r a : s a s t r a\n",
            "c i l i k : c i l i k\n",
            "g u n u n g j a t i : g u n u n g j a t i\n",
            "c o n t o h : c o n t o h\n",
            "d i a g n o s t i k : d i a g n o s t i k\n",
            "b a h a n : b a h a n\n",
            "a d i l : a d i l\n",
            "m e w a h : m e w a h\n",
            "r e k t o r a t : r e k t o r a t\n",
            "p u l u h : p u l u h\n",
            "n o p e m b e r : n o p e m b e r\n",
            "i t s : i t s\n",
            "p r e s i d e n : p r e s i d e n\n",
            "j o g j a : j o g j a\n",
            "r i n c i a n : r i n c i a n\n",
            "s e l m a : s e l m a\n",
            "u b : u b\n",
            "b r a w i j a y a : b r a w i j a y a\n",
            "k u r s i : k u r s i\n",
            "s a i n g : s a i n g\n",
            "b e r s a i n g m a s u k : b e r s a i n g m a s u k\n",
            "b a n y u m a s : b a n y u m a s\n",
            "t u r u n : t u r u n\n",
            "h o n o r e r : h o n o r e r\n",
            "d e g d e g a n : d e g d e g a n\n",
            "n a n g : n a n g\n",
            "f i r a s a t : f i r a s a t\n",
            "d o s e n : d o s e n\n",
            "k e t e m u : k e t e m u\n",
            "j u a l : j u a l\n",
            "g o r e n g : g o r e n g\n",
            "s i d o a r j o : s i d o a r j o\n",
            "n a s i b : n a s i b\n",
            "k e l u a r g a : k e l u a r g a\n",
            "s u k s e s : s u k s e s\n",
            "p m b u n e s a a c i d : p m b u n e s a a c i d\n",
            "t i k : t i k\n",
            "b a l : b a l\n",
            "a k s e s : a k s e s\n",
            "s e l m a u b a c i d : s e l m a u b a c i d\n",
            "t h e : t h e\n",
            "w u r : w u r\n",
            "r i n c i a n n y a : r i n c i a n n y a\n",
            "h u k u m : h u k u m\n",
            "s c i m a g o : s c i m a g o\n",
            "i n s t i t u t i o n : i n s t i t u t i o n\n",
            "r a n g k i n g : r a n g k i n g\n",
            "i n s p i r a s i : i n s p i r a s i\n",
            "s o s o k : s o s o k\n",
            "n a j w a : n a j w a\n",
            "s h i h a b : s h i h a b\n",
            "s i t u s : s i t u s\n",
            "d o w n : d o w n\n",
            "s e r v e r : s e r v e r\n",
            "g i g i h : g i g i h\n",
            "s o b a t : s o b a t\n",
            "b u m i : b u m i\n",
            "u n r i : u n r i\n",
            "p o h o n : p o h o n\n",
            "e m i s i : e m i s i\n",
            "k a r b o n : k a r b o n\n",
            "d o w n a k i b a t : d o w n a k i b a t\n",
            "p u s a t : p u s a t\n",
            "p u l i h : p u l i h\n",
            "b u t u h : b u t u h\n",
            "p e k : p e k\n",
            "p a n d u : p a n d u\n",
            "i d e a l : i d e a l\n",
            "p r o f e s i o n a l : p r o f e s i o n a l\n",
            "a s n : a s n\n",
            "m a t a : m a t a\n",
            "n a l i : n a l i\n",
            "p r i b a d i : p r i b a d i\n",
            "m i l i k : m i l i k\n",
            "k r e a t i f : k r e a t i f\n",
            "r o m a n t i s : r o m a n t i s\n",
            "t r a n s j a k a r t a : t r a n s j a k a r t a\n",
            "p a t u n g : p a t u n g\n",
            "k u d a : k u d a\n",
            "u n m : u n m\n",
            "k u o t a : k u o t a\n",
            "m o h o n : m o h o n\n",
            "m a a f : m a a f\n",
            "d k i : d k i\n",
            "j a k a r t a : j a k a r t a\n",
            "g a g a l : g a g a l\n",
            "c a i r : c a i r\n",
            "k j p : k j p\n",
            "p l u s : p l u s\n",
            "t a h a p : t a h a p\n",
            "l o m b o k : l o m b o k\n",
            "p e n u h : p e n u h\n",
            "t u k a n g : t u k a n g\n",
            "n g a r i t : n g a r i t\n",
            "n g a j a r : n g a j a r\n",
            "j u a n g : j u a n g\n",
            "o b a t : o b a t\n",
            "h a n c u r : h a n c u r\n",
            "c i t a c i t a : c i t a c i t a\n",
            "g r a b : g r a b\n",
            "d r i v e r : d r i v e r\n",
            "a s e a n : a s e a n\n",
            "g e n s e t : g e n s e t\n",
            "m e l e d a k p e m u l i h a n : m e l e d a k p e m u l i h a n\n",
            "m i n g g u : m i n g g u\n",
            "p e m a t a n g s i a n t a r : p e m a t a n g s i a n t a r\n",
            "p a d j a d j a r a n : p a d j a d j a r a n\n",
            "k a l i : k a l i\n",
            "b e n g k u l u : b e n g k u l u\n",
            "j a m a k : j a m a k\n",
            "u n i b : u n i b\n",
            "t u t u p : t u t u p\n",
            "y u k : y u k\n",
            "p p k b p r e s t a s i : p p k b p r e s t a s i\n",
            "p e n d a f t a r a n y a : p e n d a f t a r a n y a\n",
            "e d a r : e d a r\n",
            "p e s a n : p e s a n\n",
            "i m i n g i m i n g : i m i n g i m i n g\n",
            "b a n y u w a n g i : b a n y u w a n g i\n",
            "w a l i s o n g o : w a l i s o n g o\n",
            "k u r s u s : k u r s u s\n",
            "o f f l i n e : o f f l i n e\n",
            "f i k k i a : f i k k i a\n",
            "f k : f k\n",
            "d a n r a m i l : d a n r a m i l\n",
            "m d : m d\n",
            "i n s p e k t u r : i n s p e k t u r\n",
            "u p a c a r a : u p a c a r a\n",
            "w a w a s : w a w a s\n",
            "b a n g s a : b a n g s a\n",
            "m p l s : m p l s\n",
            "k r i t e r i a : k r i t e r i a\n",
            "e k o n o m i : e k o n o m i\n",
            "i i : i i\n",
            "a b y a d : a b y a d\n",
            "n a r k o b a : n a r k o b a\n",
            "a b d y a d i : a b d y a d i\n",
            "s n p m b b p p p k e m d i k b u d g o i d : s n p m b b p p p k e m d i k b u d g o i d\n",
            "h o t : h o t\n",
            "l i p u t a n c o m : l i p u t a n c o m\n",
            "n u a n s a : n u a n s a\n",
            "q u o t g r o w : q u o t g r o w\n",
            "b y u q u o t : b y u q u o t\n",
            "i n s t a l : i n s t a l\n",
            "d a p o d i k : d a p o d i k\n",
            "u n d u h : u n d u h\n",
            "h p : h p\n",
            "a i r : a i r\n",
            "p a n i k : p a n i k\n",
            "m b k m : m b k m\n",
            "k o m i t m e n : k o m i t m e n\n",
            "i n d e p e n d e n : i n d e p e n d e n\n",
            "s e r t i f i k a t : s e r t i f i k a t\n",
            "m s i b : m s i b\n",
            "l a t i h : l a t i h\n",
            "k e t r a m p i l a n : k e t r a m p i l a n\n",
            "d a m p i n g : d a m p i n g\n",
            "w i s u d a w a n : w i s u d a w a n\n",
            "n a s i : n a s i\n",
            "i p k : i p k\n",
            "m e n g i n s p i r a t i f : m e n g i n s p i r a t i f\n",
            "r i p a p u a : r i p a p u a\n",
            "t e l i t i : t e l i t i\n",
            "m a r i b e l a j a r : m a r i b e l a j a r\n",
            "t i k t o k : t i k t o k\n",
            "g e n : g e n\n",
            "n a n : n a n\n"
          ]
        }
      ]
    },
    {
      "cell_type": "code",
      "source": [
        "# apply stemmed term to dataframe\n",
        "def get_stemmed_term(document):\n",
        "    return [term_dict[' '.join(term)] if ' '.join(term) in term_dict else ' '.join(term) for term in document] # Join the list elements into a string before using as key\n",
        "\n",
        "data['title_tokens_fdist'] = data['title_normalized'].swifter.apply(get_stemmed_term)\n",
        "\n",
        "print(data['title_tokens_fdist'])"
      ],
      "metadata": {
        "colab": {
          "base_uri": "https://localhost:8080/",
          "height": 324,
          "referenced_widgets": [
            "a362350085c7486eaf92fe0ffa849835",
            "e465474f56f144f7ad22ddb9a6e46974",
            "ae1cd0ba543245568c547c63b35ab006",
            "f085ebc80a2a4d98b581a2168805cfe3",
            "04b3da95404a43eba80257b012770a77",
            "95cd63609b2d4695bb5d579d7e514577",
            "1bcb660583c04e81bd6b276090dd718d",
            "0d23159285ed4e83b25fafe39ef1af95",
            "a1fb288ec15040bb9fa090ef1d53eb60",
            "3ac9275e7cbf43df981d814f4a4666d8",
            "cc6d5a577c034c5ab9d84a2ad906f148"
          ]
        },
        "id": "jDBxY3KS93s-",
        "outputId": "43a25fbd-2f49-4e9e-f65d-3faeaf7d31ef"
      },
      "execution_count": null,
      "outputs": [
        {
          "output_type": "stream",
          "name": "stderr",
          "text": [
            "/usr/local/lib/python3.10/dist-packages/ipykernel/ipkernel.py:283: DeprecationWarning: `should_run_async` will not call `transform_cell` automatically in the future. Please pass the result to `transformed_cell` argument and any exception that happen during thetransform in `preprocessing_exc_tuple` in IPython 7.17 and above.\n",
            "  and should_run_async(code)\n"
          ]
        },
        {
          "output_type": "display_data",
          "data": {
            "text/plain": [
              "Pandas Apply:   0%|          | 0/405 [00:00<?, ?it/s]"
            ],
            "application/vnd.jupyter.widget-view+json": {
              "version_major": 2,
              "version_minor": 0,
              "model_id": "a362350085c7486eaf92fe0ffa849835"
            }
          },
          "metadata": {}
        },
        {
          "output_type": "stream",
          "name": "stdout",
          "text": [
            "0      [a n g g o t a, d p r, k r i t i k, s k e m a,...\n",
            "1       [p i n j o l, d i d i k, p e r a n, n e g a r a]\n",
            "2      [b e a s i s w a, j a r d i n e, s c h o l a r...\n",
            "3      [t a n g g a l, j u l i, b a t a s, r e g i s ...\n",
            "4      [s e l e k s i, j a l u r, m a n d i r i, g e ...\n",
            "                             ...                        \n",
            "400                                              [n a n]\n",
            "401                                              [n a n]\n",
            "402                                              [n a n]\n",
            "403                                              [n a n]\n",
            "404                                              [n a n]\n",
            "Name: title_tokens_fdist, Length: 405, dtype: object\n"
          ]
        }
      ]
    },
    {
      "cell_type": "code",
      "source": [
        "data.head()"
      ],
      "metadata": {
        "colab": {
          "base_uri": "https://localhost:8080/",
          "height": 505
        },
        "id": "l9_ItzuL-dUQ",
        "outputId": "70df41ce-b61a-4d91-89d2-a5740b5cd8da"
      },
      "execution_count": null,
      "outputs": [
        {
          "output_type": "stream",
          "name": "stderr",
          "text": [
            "/usr/local/lib/python3.10/dist-packages/ipykernel/ipkernel.py:283: DeprecationWarning: `should_run_async` will not call `transform_cell` automatically in the future. Please pass the result to `transformed_cell` argument and any exception that happen during thetransform in `preprocessing_exc_tuple` in IPython 7.17 and above.\n",
            "  and should_run_async(code)\n"
          ]
        },
        {
          "output_type": "execute_result",
          "data": {
            "text/plain": [
              "         date                         name sentiment  \\\n",
              "0  2024-07-17  arahkata.pikiran-rakyat.com   neutral   \n",
              "1  2024-07-15               kompasiana.com  negative   \n",
              "2  2024-07-15           daftarbeasiswa.com   neutral   \n",
              "3  2024-07-15               serayunews.com   neutral   \n",
              "4  2024-07-15                     tempo.co  negative   \n",
              "\n",
              "                                               title  \\\n",
              "0  anggota dpr kritik skema pembayaran ukt dengan...   \n",
              "1       pinjol untuk pendidikan di mana peran negara   \n",
              "2  beasiswa jardine scholarship beasiswa ukt dan ...   \n",
              "3  tanggal juli batas akhir registrasi online mab...   \n",
              "4  seleksi jalur mandiri gelombang dua unnes masi...   \n",
              "\n",
              "                                        title_tokens  \\\n",
              "0  [anggota, dpr, kritik, skema, pembayaran, ukt,...   \n",
              "1  [pinjol, untuk, pendidikan, di, mana, peran, n...   \n",
              "2  [beasiswa, jardine, scholarship, beasiswa, ukt...   \n",
              "3  [tanggal, juli, batas, akhir, registrasi, onli...   \n",
              "4  [seleksi, jalur, mandiri, gelombang, dua, unne...   \n",
              "\n",
              "                                  title_tokens_fdist  \\\n",
              "0  [a n g g o t a, d p r, k r i t i k, s k e m a,...   \n",
              "1   [p i n j o l, d i d i k, p e r a n, n e g a r a]   \n",
              "2  [b e a s i s w a, j a r d i n e, s c h o l a r...   \n",
              "3  [t a n g g a l, j u l i, b a t a s, r e g i s ...   \n",
              "4  [s e l e k s i, j a l u r, m a n d i r i, g e ...   \n",
              "\n",
              "                                    title_normalized  \n",
              "0  [anggota, dpr, kritik, skema, bayar, ukt, pinj...  \n",
              "1                     [pinjol, didik, peran, negara]  \n",
              "2  [beasiswa, jardine, scholarship, ukt, biaya, h...  \n",
              "3  [tanggal, juli, batas, registrasi, online, mab...  \n",
              "4  [seleksi, jalur, mandiri, gelombang, unnes, bu...  "
            ],
            "text/html": [
              "\n",
              "  <div id=\"df-af296376-e723-4bd4-80a3-f12abec1e1b6\" class=\"colab-df-container\">\n",
              "    <div>\n",
              "<style scoped>\n",
              "    .dataframe tbody tr th:only-of-type {\n",
              "        vertical-align: middle;\n",
              "    }\n",
              "\n",
              "    .dataframe tbody tr th {\n",
              "        vertical-align: top;\n",
              "    }\n",
              "\n",
              "    .dataframe thead th {\n",
              "        text-align: right;\n",
              "    }\n",
              "</style>\n",
              "<table border=\"1\" class=\"dataframe\">\n",
              "  <thead>\n",
              "    <tr style=\"text-align: right;\">\n",
              "      <th></th>\n",
              "      <th>date</th>\n",
              "      <th>name</th>\n",
              "      <th>sentiment</th>\n",
              "      <th>title</th>\n",
              "      <th>title_tokens</th>\n",
              "      <th>title_tokens_fdist</th>\n",
              "      <th>title_normalized</th>\n",
              "    </tr>\n",
              "  </thead>\n",
              "  <tbody>\n",
              "    <tr>\n",
              "      <th>0</th>\n",
              "      <td>2024-07-17</td>\n",
              "      <td>arahkata.pikiran-rakyat.com</td>\n",
              "      <td>neutral</td>\n",
              "      <td>anggota dpr kritik skema pembayaran ukt dengan...</td>\n",
              "      <td>[anggota, dpr, kritik, skema, pembayaran, ukt,...</td>\n",
              "      <td>[a n g g o t a, d p r, k r i t i k, s k e m a,...</td>\n",
              "      <td>[anggota, dpr, kritik, skema, bayar, ukt, pinj...</td>\n",
              "    </tr>\n",
              "    <tr>\n",
              "      <th>1</th>\n",
              "      <td>2024-07-15</td>\n",
              "      <td>kompasiana.com</td>\n",
              "      <td>negative</td>\n",
              "      <td>pinjol untuk pendidikan di mana peran negara</td>\n",
              "      <td>[pinjol, untuk, pendidikan, di, mana, peran, n...</td>\n",
              "      <td>[p i n j o l, d i d i k, p e r a n, n e g a r a]</td>\n",
              "      <td>[pinjol, didik, peran, negara]</td>\n",
              "    </tr>\n",
              "    <tr>\n",
              "      <th>2</th>\n",
              "      <td>2024-07-15</td>\n",
              "      <td>daftarbeasiswa.com</td>\n",
              "      <td>neutral</td>\n",
              "      <td>beasiswa jardine scholarship beasiswa ukt dan ...</td>\n",
              "      <td>[beasiswa, jardine, scholarship, beasiswa, ukt...</td>\n",
              "      <td>[b e a s i s w a, j a r d i n e, s c h o l a r...</td>\n",
              "      <td>[beasiswa, jardine, scholarship, ukt, biaya, h...</td>\n",
              "    </tr>\n",
              "    <tr>\n",
              "      <th>3</th>\n",
              "      <td>2024-07-15</td>\n",
              "      <td>serayunews.com</td>\n",
              "      <td>neutral</td>\n",
              "      <td>tanggal juli batas akhir registrasi online mab...</td>\n",
              "      <td>[tanggal, juli, batas, akhir, registrasi, onli...</td>\n",
              "      <td>[t a n g g a l, j u l i, b a t a s, r e g i s ...</td>\n",
              "      <td>[tanggal, juli, batas, registrasi, online, mab...</td>\n",
              "    </tr>\n",
              "    <tr>\n",
              "      <th>4</th>\n",
              "      <td>2024-07-15</td>\n",
              "      <td>tempo.co</td>\n",
              "      <td>negative</td>\n",
              "      <td>seleksi jalur mandiri gelombang dua unnes masi...</td>\n",
              "      <td>[seleksi, jalur, mandiri, gelombang, dua, unne...</td>\n",
              "      <td>[s e l e k s i, j a l u r, m a n d i r i, g e ...</td>\n",
              "      <td>[seleksi, jalur, mandiri, gelombang, unnes, bu...</td>\n",
              "    </tr>\n",
              "  </tbody>\n",
              "</table>\n",
              "</div>\n",
              "    <div class=\"colab-df-buttons\">\n",
              "\n",
              "  <div class=\"colab-df-container\">\n",
              "    <button class=\"colab-df-convert\" onclick=\"convertToInteractive('df-af296376-e723-4bd4-80a3-f12abec1e1b6')\"\n",
              "            title=\"Convert this dataframe to an interactive table.\"\n",
              "            style=\"display:none;\">\n",
              "\n",
              "  <svg xmlns=\"http://www.w3.org/2000/svg\" height=\"24px\" viewBox=\"0 -960 960 960\">\n",
              "    <path d=\"M120-120v-720h720v720H120Zm60-500h600v-160H180v160Zm220 220h160v-160H400v160Zm0 220h160v-160H400v160ZM180-400h160v-160H180v160Zm440 0h160v-160H620v160ZM180-180h160v-160H180v160Zm440 0h160v-160H620v160Z\"/>\n",
              "  </svg>\n",
              "    </button>\n",
              "\n",
              "  <style>\n",
              "    .colab-df-container {\n",
              "      display:flex;\n",
              "      gap: 12px;\n",
              "    }\n",
              "\n",
              "    .colab-df-convert {\n",
              "      background-color: #E8F0FE;\n",
              "      border: none;\n",
              "      border-radius: 50%;\n",
              "      cursor: pointer;\n",
              "      display: none;\n",
              "      fill: #1967D2;\n",
              "      height: 32px;\n",
              "      padding: 0 0 0 0;\n",
              "      width: 32px;\n",
              "    }\n",
              "\n",
              "    .colab-df-convert:hover {\n",
              "      background-color: #E2EBFA;\n",
              "      box-shadow: 0px 1px 2px rgba(60, 64, 67, 0.3), 0px 1px 3px 1px rgba(60, 64, 67, 0.15);\n",
              "      fill: #174EA6;\n",
              "    }\n",
              "\n",
              "    .colab-df-buttons div {\n",
              "      margin-bottom: 4px;\n",
              "    }\n",
              "\n",
              "    [theme=dark] .colab-df-convert {\n",
              "      background-color: #3B4455;\n",
              "      fill: #D2E3FC;\n",
              "    }\n",
              "\n",
              "    [theme=dark] .colab-df-convert:hover {\n",
              "      background-color: #434B5C;\n",
              "      box-shadow: 0px 1px 3px 1px rgba(0, 0, 0, 0.15);\n",
              "      filter: drop-shadow(0px 1px 2px rgba(0, 0, 0, 0.3));\n",
              "      fill: #FFFFFF;\n",
              "    }\n",
              "  </style>\n",
              "\n",
              "    <script>\n",
              "      const buttonEl =\n",
              "        document.querySelector('#df-af296376-e723-4bd4-80a3-f12abec1e1b6 button.colab-df-convert');\n",
              "      buttonEl.style.display =\n",
              "        google.colab.kernel.accessAllowed ? 'block' : 'none';\n",
              "\n",
              "      async function convertToInteractive(key) {\n",
              "        const element = document.querySelector('#df-af296376-e723-4bd4-80a3-f12abec1e1b6');\n",
              "        const dataTable =\n",
              "          await google.colab.kernel.invokeFunction('convertToInteractive',\n",
              "                                                    [key], {});\n",
              "        if (!dataTable) return;\n",
              "\n",
              "        const docLinkHtml = 'Like what you see? Visit the ' +\n",
              "          '<a target=\"_blank\" href=https://colab.research.google.com/notebooks/data_table.ipynb>data table notebook</a>'\n",
              "          + ' to learn more about interactive tables.';\n",
              "        element.innerHTML = '';\n",
              "        dataTable['output_type'] = 'display_data';\n",
              "        await google.colab.output.renderOutput(dataTable, element);\n",
              "        const docLink = document.createElement('div');\n",
              "        docLink.innerHTML = docLinkHtml;\n",
              "        element.appendChild(docLink);\n",
              "      }\n",
              "    </script>\n",
              "  </div>\n",
              "\n",
              "\n",
              "<div id=\"df-1186edce-ca15-457f-a0b5-65c4c32c5aeb\">\n",
              "  <button class=\"colab-df-quickchart\" onclick=\"quickchart('df-1186edce-ca15-457f-a0b5-65c4c32c5aeb')\"\n",
              "            title=\"Suggest charts\"\n",
              "            style=\"display:none;\">\n",
              "\n",
              "<svg xmlns=\"http://www.w3.org/2000/svg\" height=\"24px\"viewBox=\"0 0 24 24\"\n",
              "     width=\"24px\">\n",
              "    <g>\n",
              "        <path d=\"M19 3H5c-1.1 0-2 .9-2 2v14c0 1.1.9 2 2 2h14c1.1 0 2-.9 2-2V5c0-1.1-.9-2-2-2zM9 17H7v-7h2v7zm4 0h-2V7h2v10zm4 0h-2v-4h2v4z\"/>\n",
              "    </g>\n",
              "</svg>\n",
              "  </button>\n",
              "\n",
              "<style>\n",
              "  .colab-df-quickchart {\n",
              "      --bg-color: #E8F0FE;\n",
              "      --fill-color: #1967D2;\n",
              "      --hover-bg-color: #E2EBFA;\n",
              "      --hover-fill-color: #174EA6;\n",
              "      --disabled-fill-color: #AAA;\n",
              "      --disabled-bg-color: #DDD;\n",
              "  }\n",
              "\n",
              "  [theme=dark] .colab-df-quickchart {\n",
              "      --bg-color: #3B4455;\n",
              "      --fill-color: #D2E3FC;\n",
              "      --hover-bg-color: #434B5C;\n",
              "      --hover-fill-color: #FFFFFF;\n",
              "      --disabled-bg-color: #3B4455;\n",
              "      --disabled-fill-color: #666;\n",
              "  }\n",
              "\n",
              "  .colab-df-quickchart {\n",
              "    background-color: var(--bg-color);\n",
              "    border: none;\n",
              "    border-radius: 50%;\n",
              "    cursor: pointer;\n",
              "    display: none;\n",
              "    fill: var(--fill-color);\n",
              "    height: 32px;\n",
              "    padding: 0;\n",
              "    width: 32px;\n",
              "  }\n",
              "\n",
              "  .colab-df-quickchart:hover {\n",
              "    background-color: var(--hover-bg-color);\n",
              "    box-shadow: 0 1px 2px rgba(60, 64, 67, 0.3), 0 1px 3px 1px rgba(60, 64, 67, 0.15);\n",
              "    fill: var(--button-hover-fill-color);\n",
              "  }\n",
              "\n",
              "  .colab-df-quickchart-complete:disabled,\n",
              "  .colab-df-quickchart-complete:disabled:hover {\n",
              "    background-color: var(--disabled-bg-color);\n",
              "    fill: var(--disabled-fill-color);\n",
              "    box-shadow: none;\n",
              "  }\n",
              "\n",
              "  .colab-df-spinner {\n",
              "    border: 2px solid var(--fill-color);\n",
              "    border-color: transparent;\n",
              "    border-bottom-color: var(--fill-color);\n",
              "    animation:\n",
              "      spin 1s steps(1) infinite;\n",
              "  }\n",
              "\n",
              "  @keyframes spin {\n",
              "    0% {\n",
              "      border-color: transparent;\n",
              "      border-bottom-color: var(--fill-color);\n",
              "      border-left-color: var(--fill-color);\n",
              "    }\n",
              "    20% {\n",
              "      border-color: transparent;\n",
              "      border-left-color: var(--fill-color);\n",
              "      border-top-color: var(--fill-color);\n",
              "    }\n",
              "    30% {\n",
              "      border-color: transparent;\n",
              "      border-left-color: var(--fill-color);\n",
              "      border-top-color: var(--fill-color);\n",
              "      border-right-color: var(--fill-color);\n",
              "    }\n",
              "    40% {\n",
              "      border-color: transparent;\n",
              "      border-right-color: var(--fill-color);\n",
              "      border-top-color: var(--fill-color);\n",
              "    }\n",
              "    60% {\n",
              "      border-color: transparent;\n",
              "      border-right-color: var(--fill-color);\n",
              "    }\n",
              "    80% {\n",
              "      border-color: transparent;\n",
              "      border-right-color: var(--fill-color);\n",
              "      border-bottom-color: var(--fill-color);\n",
              "    }\n",
              "    90% {\n",
              "      border-color: transparent;\n",
              "      border-bottom-color: var(--fill-color);\n",
              "    }\n",
              "  }\n",
              "</style>\n",
              "\n",
              "  <script>\n",
              "    async function quickchart(key) {\n",
              "      const quickchartButtonEl =\n",
              "        document.querySelector('#' + key + ' button');\n",
              "      quickchartButtonEl.disabled = true;  // To prevent multiple clicks.\n",
              "      quickchartButtonEl.classList.add('colab-df-spinner');\n",
              "      try {\n",
              "        const charts = await google.colab.kernel.invokeFunction(\n",
              "            'suggestCharts', [key], {});\n",
              "      } catch (error) {\n",
              "        console.error('Error during call to suggestCharts:', error);\n",
              "      }\n",
              "      quickchartButtonEl.classList.remove('colab-df-spinner');\n",
              "      quickchartButtonEl.classList.add('colab-df-quickchart-complete');\n",
              "    }\n",
              "    (() => {\n",
              "      let quickchartButtonEl =\n",
              "        document.querySelector('#df-1186edce-ca15-457f-a0b5-65c4c32c5aeb button');\n",
              "      quickchartButtonEl.style.display =\n",
              "        google.colab.kernel.accessAllowed ? 'block' : 'none';\n",
              "    })();\n",
              "  </script>\n",
              "</div>\n",
              "\n",
              "    </div>\n",
              "  </div>\n"
            ],
            "application/vnd.google.colaboratory.intrinsic+json": {
              "type": "dataframe",
              "variable_name": "data",
              "summary": "{\n  \"name\": \"data\",\n  \"rows\": 405,\n  \"fields\": [\n    {\n      \"column\": \"date\",\n      \"properties\": {\n        \"dtype\": \"object\",\n        \"num_unique_values\": 3,\n        \"samples\": [\n          \"2024-07-17\",\n          \"2024-07-15\",\n          \"2024-07-16\"\n        ],\n        \"semantic_type\": \"\",\n        \"description\": \"\"\n      }\n    },\n    {\n      \"column\": \"name\",\n      \"properties\": {\n        \"dtype\": \"string\",\n        \"num_unique_values\": 203,\n        \"samples\": [\n          \"infopublik.id\",\n          \"jateng.tribunnews.com\",\n          \"sumsel24.com\"\n        ],\n        \"semantic_type\": \"\",\n        \"description\": \"\"\n      }\n    },\n    {\n      \"column\": \"sentiment\",\n      \"properties\": {\n        \"dtype\": \"category\",\n        \"num_unique_values\": 3,\n        \"samples\": [\n          \"neutral\",\n          \"negative\",\n          \"positive\"\n        ],\n        \"semantic_type\": \"\",\n        \"description\": \"\"\n      }\n    },\n    {\n      \"column\": \"title\",\n      \"properties\": {\n        \"dtype\": \"string\",\n        \"num_unique_values\": 344,\n        \"samples\": [\n          \"unesa buka pendaftaran jalur tmubkmandiri\",\n          \"polisi identifikasi pelaku penipuan data pelamar kerja untuk pinjol korbannya orang berita viral hari ini selasa juli\",\n          \"mahasiswa agen perubahan mungkinkah\"\n        ],\n        \"semantic_type\": \"\",\n        \"description\": \"\"\n      }\n    },\n    {\n      \"column\": \"title_tokens\",\n      \"properties\": {\n        \"dtype\": \"object\",\n        \"semantic_type\": \"\",\n        \"description\": \"\"\n      }\n    },\n    {\n      \"column\": \"title_tokens_fdist\",\n      \"properties\": {\n        \"dtype\": \"object\",\n        \"semantic_type\": \"\",\n        \"description\": \"\"\n      }\n    },\n    {\n      \"column\": \"title_normalized\",\n      \"properties\": {\n        \"dtype\": \"object\",\n        \"semantic_type\": \"\",\n        \"description\": \"\"\n      }\n    }\n  ]\n}"
            }
          },
          "metadata": {},
          "execution_count": 46
        }
      ]
    },
    {
      "cell_type": "code",
      "source": [
        "#stopwords #2\n",
        "\n",
        "import nltk\n",
        "nltk.download('stopwords')\n",
        "\n",
        "\n",
        "from nltk.corpus import stopwords\n",
        "\n",
        "# ----------------------- get stopword from NLTK stopword -------------------------------\n",
        "# get stopword indonesia\n",
        "list_stopwords = stopwords.words('indonesian')\n",
        "\n",
        "\n",
        "# ---------------------------- manualy add stopword  ------------------------------------\n",
        "# append additional stopword\n",
        "list_stopwords.extend([\"ada\", \"tan\", \"ton\", \"pt\", \"komentar\", \"juta\", \"unit\", \"menang\", \"artikel\",\n",
        "                       \"smartphone\", \"tagar\", \"sedia\", \"kaskus\", \"seksi\"])\n",
        "\n",
        "# convert list to dictionary\n",
        "list_stopwords = set(list_stopwords)\n",
        "\n",
        "#remove stopword pada list token\n",
        "def stopwords_removal(words):\n",
        "    return [word for word in words if word not in list_stopwords]\n",
        "\n",
        "data['title_tokens_fdist'] = data['title_tokens_fdist'].apply(stopwords_removal)\n",
        "\n",
        "print(data['title_tokens_fdist'].head())"
      ],
      "metadata": {
        "colab": {
          "base_uri": "https://localhost:8080/"
        },
        "id": "bRWeT1VG_BOj",
        "outputId": "521cf5c2-1d8a-448a-a530-dc78a0317f2d"
      },
      "execution_count": null,
      "outputs": [
        {
          "output_type": "stream",
          "name": "stdout",
          "text": [
            "0    [a n g g o t a, d p r, k r i t i k, s k e m a,...\n",
            "1     [p i n j o l, d i d i k, p e r a n, n e g a r a]\n",
            "2    [b e a s i s w a, j a r d i n e, s c h o l a r...\n",
            "3    [t a n g g a l, j u l i, b a t a s, r e g i s ...\n",
            "4    [s e l e k s i, j a l u r, m a n d i r i, g e ...\n",
            "Name: title_tokens_fdist, dtype: object\n"
          ]
        },
        {
          "output_type": "stream",
          "name": "stderr",
          "text": [
            "/usr/local/lib/python3.10/dist-packages/ipykernel/ipkernel.py:283: DeprecationWarning: `should_run_async` will not call `transform_cell` automatically in the future. Please pass the result to `transformed_cell` argument and any exception that happen during thetransform in `preprocessing_exc_tuple` in IPython 7.17 and above.\n",
            "  and should_run_async(code)\n",
            "[nltk_data] Downloading package stopwords to /root/nltk_data...\n",
            "[nltk_data]   Package stopwords is already up-to-date!\n"
          ]
        }
      ]
    },
    {
      "cell_type": "code",
      "source": [
        "for i in range(len(data)):\n",
        "        a=data.iloc[i][6]\n",
        "        document.append(a)\n",
        "\n",
        "document[:5]"
      ],
      "metadata": {
        "colab": {
          "base_uri": "https://localhost:8080/"
        },
        "id": "hoQdfy4q-34u",
        "outputId": "2c5fd874-e2b6-48ec-d60d-435827f131e9"
      },
      "execution_count": null,
      "outputs": [
        {
          "output_type": "stream",
          "name": "stderr",
          "text": [
            "/usr/local/lib/python3.10/dist-packages/ipykernel/ipkernel.py:283: DeprecationWarning: `should_run_async` will not call `transform_cell` automatically in the future. Please pass the result to `transformed_cell` argument and any exception that happen during thetransform in `preprocessing_exc_tuple` in IPython 7.17 and above.\n",
            "  and should_run_async(code)\n"
          ]
        },
        {
          "output_type": "execute_result",
          "data": {
            "text/plain": [
              "['nan',\n",
              " ['anggota', 'dpr', 'kritik', 'skema', 'bayar', 'ukt', 'pinjol', 'solusi'],\n",
              " ['pinjol', 'didik', 'peran', 'negara'],\n",
              " ['beasiswa', 'jardine', 'scholarship', 'ukt', 'biaya', 'hidup'],\n",
              " ['tanggal',\n",
              "  'juli',\n",
              "  'batas',\n",
              "  'registrasi',\n",
              "  'online',\n",
              "  'maba',\n",
              "  'uin',\n",
              "  'saizu',\n",
              "  'purwokerto',\n",
              "  'jalur',\n",
              "  'um',\n",
              "  'ptkin']]"
            ]
          },
          "metadata": {},
          "execution_count": 48
        }
      ]
    },
    {
      "cell_type": "code",
      "source": [
        "doc_clean = data['title_tokens_fdist']\n",
        "doc_clean"
      ],
      "metadata": {
        "colab": {
          "base_uri": "https://localhost:8080/"
        },
        "id": "_Vydqlrs-4Bz",
        "outputId": "5f40c2bb-edb0-4776-e450-eb4a7c54ed6f"
      },
      "execution_count": null,
      "outputs": [
        {
          "output_type": "stream",
          "name": "stderr",
          "text": [
            "/usr/local/lib/python3.10/dist-packages/ipykernel/ipkernel.py:283: DeprecationWarning: `should_run_async` will not call `transform_cell` automatically in the future. Please pass the result to `transformed_cell` argument and any exception that happen during thetransform in `preprocessing_exc_tuple` in IPython 7.17 and above.\n",
            "  and should_run_async(code)\n"
          ]
        },
        {
          "output_type": "execute_result",
          "data": {
            "text/plain": [
              "0      [a n g g o t a, d p r, k r i t i k, s k e m a,...\n",
              "1       [p i n j o l, d i d i k, p e r a n, n e g a r a]\n",
              "2      [b e a s i s w a, j a r d i n e, s c h o l a r...\n",
              "3      [t a n g g a l, j u l i, b a t a s, r e g i s ...\n",
              "4      [s e l e k s i, j a l u r, m a n d i r i, g e ...\n",
              "                             ...                        \n",
              "400                                              [n a n]\n",
              "401                                              [n a n]\n",
              "402                                              [n a n]\n",
              "403                                              [n a n]\n",
              "404                                              [n a n]\n",
              "Name: title_tokens_fdist, Length: 405, dtype: object"
            ]
          },
          "metadata": {},
          "execution_count": 49
        }
      ]
    },
    {
      "cell_type": "code",
      "source": [
        "import gensim\n",
        "from gensim import corpora\n",
        "\n",
        "dictionary = corpora.Dictionary(doc_clean)\n",
        "print(dictionary)\n",
        "\n",
        "doc_term_matrix = [dictionary.doc2bow(doc) for doc in doc_clean]"
      ],
      "metadata": {
        "colab": {
          "base_uri": "https://localhost:8080/"
        },
        "id": "pahzp_rqBniR",
        "outputId": "d8e1edc7-dacd-452e-94bf-b3408ae9ade7"
      },
      "execution_count": null,
      "outputs": [
        {
          "output_type": "stream",
          "name": "stdout",
          "text": [
            "Dictionary<791 unique tokens: ['a n g g o t a', 'b a y a r', 'd p r', 'k r i t i k', 'p i n j o l']...>\n"
          ]
        },
        {
          "output_type": "stream",
          "name": "stderr",
          "text": [
            "/usr/local/lib/python3.10/dist-packages/ipykernel/ipkernel.py:283: DeprecationWarning: `should_run_async` will not call `transform_cell` automatically in the future. Please pass the result to `transformed_cell` argument and any exception that happen during thetransform in `preprocessing_exc_tuple` in IPython 7.17 and above.\n",
            "  and should_run_async(code)\n"
          ]
        }
      ]
    },
    {
      "cell_type": "code",
      "source": [
        "# Creating the object for LDA model using gensim library\n",
        "Lda = gensim.models.ldamodel.LdaModel\n",
        "\n",
        "total_topics = 3 # jumlah topik yang akan di extract\n",
        "number_words = 10 # jumlah kata per topik"
      ],
      "metadata": {
        "colab": {
          "base_uri": "https://localhost:8080/"
        },
        "id": "YOH0rgGWBnr7",
        "outputId": "e1d93973-ce29-495b-8872-ab24f8d2a03e"
      },
      "execution_count": null,
      "outputs": [
        {
          "output_type": "stream",
          "name": "stderr",
          "text": [
            "/usr/local/lib/python3.10/dist-packages/ipykernel/ipkernel.py:283: DeprecationWarning: `should_run_async` will not call `transform_cell` automatically in the future. Please pass the result to `transformed_cell` argument and any exception that happen during thetransform in `preprocessing_exc_tuple` in IPython 7.17 and above.\n",
            "  and should_run_async(code)\n"
          ]
        }
      ]
    },
    {
      "cell_type": "code",
      "source": [
        "# Running and Trainign LDA model on the document term matrix.\n",
        "lda_model = Lda(doc_term_matrix, num_topics=total_topics, id2word = dictionary, passes=50)\n",
        "\n",
        "lda_model.show_topics(num_topics=total_topics, num_words=number_words)"
      ],
      "metadata": {
        "colab": {
          "base_uri": "https://localhost:8080/"
        },
        "id": "LVcQ0dMlBx-D",
        "outputId": "ecd841c6-43e7-43a2-b1e3-b2f935e1e51a"
      },
      "execution_count": null,
      "outputs": [
        {
          "output_type": "stream",
          "name": "stderr",
          "text": [
            "/usr/local/lib/python3.10/dist-packages/ipykernel/ipkernel.py:283: DeprecationWarning: `should_run_async` will not call `transform_cell` automatically in the future. Please pass the result to `transformed_cell` argument and any exception that happen during thetransform in `preprocessing_exc_tuple` in IPython 7.17 and above.\n",
            "  and should_run_async(code)\n"
          ]
        },
        {
          "output_type": "execute_result",
          "data": {
            "text/plain": [
              "[(0,\n",
              "  '0.043*\"m a h a s i s w a\" + 0.025*\"u s u\" + 0.022*\"k u r s i\" + 0.021*\"s e l e k s i\" + 0.020*\"r e b u t\" + 0.020*\"m a n d i r i\" + 0.014*\"s e h a t\" + 0.013*\"n a n\" + 0.013*\"p e r i k s a\" + 0.012*\"b e b a s\"'),\n",
              " (1,\n",
              "  '0.031*\"m a n d i r i\" + 0.028*\"c e k\" + 0.027*\"b i a y a\" + 0.025*\"j a l u r\" + 0.025*\"u n i v e r s i t a s\" + 0.018*\"d i d i k\" + 0.018*\"u t b k\" + 0.016*\"d a f t a r\" + 0.016*\"s e l e k s i\" + 0.015*\"u k t\"'),\n",
              " (2,\n",
              "  '0.044*\"j a l u r\" + 0.031*\"m a n d i r i\" + 0.029*\"b u k a\" + 0.024*\"d a f t a r\" + 0.019*\"t e r i m a\" + 0.017*\"d i d i k\" + 0.017*\"m a h a s i s w a\" + 0.015*\"k u l i a h\" + 0.013*\"u g m\" + 0.013*\"a n a k\"')]"
            ]
          },
          "metadata": {},
          "execution_count": 52
        }
      ]
    },
    {
      "cell_type": "code",
      "source": [
        "# Word Count of Topic Keywords\n",
        "\n",
        "from collections import Counter\n",
        "topics = lda_model.show_topics(formatted=False)\n",
        "data_flat = [w for w_list in doc_clean for w in w_list]\n",
        "counter = Counter(data_flat)\n",
        "\n",
        "out = []\n",
        "for i, topic in topics:\n",
        "    for word, weight in topic:\n",
        "        out.append([word, i , weight, counter[word]])\n",
        "\n",
        "df_imp_wcount = pd.DataFrame(out, columns=['word', 'topic_id', 'importance', 'word_count'])\n",
        "print(df_imp_wcount)"
      ],
      "metadata": {
        "colab": {
          "base_uri": "https://localhost:8080/"
        },
        "id": "2i11XVeDB_Vt",
        "outputId": "bb0ae6cb-a44a-4aea-88ec-fad6114c216e"
      },
      "execution_count": null,
      "outputs": [
        {
          "output_type": "stream",
          "name": "stdout",
          "text": [
            "                     word  topic_id  importance  word_count\n",
            "0       m a h a s i s w a         0    0.042990          73\n",
            "1                   u s u         0    0.024792          21\n",
            "2               k u r s i         0    0.022468          19\n",
            "3           s e l e k s i         0    0.020732          45\n",
            "4               r e b u t         0    0.020149          17\n",
            "5           m a n d i r i         0    0.019966         112\n",
            "6               s e h a t         0    0.013597          13\n",
            "7                   n a n         0    0.013172          11\n",
            "8           p e r i k s a         0    0.012584          11\n",
            "9               b e b a s         0    0.011997          10\n",
            "10          m a n d i r i         1    0.030818         112\n",
            "11                  c e k         1    0.028397          40\n",
            "12              b i a y a         1    0.026955          37\n",
            "13              j a l u r         1    0.025241         111\n",
            "14  u n i v e r s i t a s         1    0.024651          34\n",
            "15              d i d i k         1    0.018052          54\n",
            "16                u t b k         1    0.017543          24\n",
            "17            d a f t a r         1    0.016279          63\n",
            "18          s e l e k s i         1    0.016239          45\n",
            "19                  u k t         1    0.015214          30\n",
            "20              j a l u r         2    0.044308         111\n",
            "21          m a n d i r i         2    0.030743         112\n",
            "22                b u k a         2    0.028765          57\n",
            "23            d a f t a r         2    0.023784          63\n",
            "24            t e r i m a         2    0.019197          33\n",
            "25              d i d i k         2    0.017143          54\n",
            "26      m a h a s i s w a         2    0.016994          73\n",
            "27            k u l i a h         2    0.015249          49\n",
            "28                  u g m         2    0.013138          24\n",
            "29                a n a k         2    0.012965          23\n"
          ]
        },
        {
          "output_type": "stream",
          "name": "stderr",
          "text": [
            "/usr/local/lib/python3.10/dist-packages/ipykernel/ipkernel.py:283: DeprecationWarning: `should_run_async` will not call `transform_cell` automatically in the future. Please pass the result to `transformed_cell` argument and any exception that happen during thetransform in `preprocessing_exc_tuple` in IPython 7.17 and above.\n",
            "  and should_run_async(code)\n"
          ]
        }
      ]
    },
    {
      "cell_type": "code",
      "source": [
        "#Dominant topic and its percentage contribution in each topic\n",
        "def format_topics_sentences(ldamodel=None, corpus=doc_term_matrix, texts=document):\n",
        "    # Init output\n",
        "    sent_topics_df = pd.DataFrame()\n",
        "\n",
        "    # Get main topic in each document\n",
        "    for i, row_list in enumerate(ldamodel[corpus]):\n",
        "        row = row_list[0] if ldamodel.per_word_topics else row_list\n",
        "        # print(row)\n",
        "        row = sorted(row, key=lambda x: (x[1]), reverse=True)\n",
        "        # Get the Dominant topic, Perc Contribution and Keywords for each document\n",
        "        for j, (topic_num, prop_topic) in enumerate(row):\n",
        "            if j == 0:  # => dominant topic\n",
        "                wp = ldamodel.show_topic(topic_num)\n",
        "                topic_keywords = \", \".join([word for word, prop in wp])\n",
        "                sent_topics_df = sent_topics_df.append(pd.Series([int(topic_num), round(prop_topic,4), topic_keywords]), ignore_index=True)\n",
        "            else:\n",
        "                break\n",
        "    sent_topics_df.columns = ['Dominant_Topic', 'Perc_Contribution', 'Topic_Keywords']\n",
        "\n",
        "    # Add original text to the end of the output\n",
        "    contents = pd.Series(texts)\n",
        "    sent_topics_df = pd.concat([sent_topics_df, contents], axis=1)\n",
        "    return(sent_topics_df)"
      ],
      "metadata": {
        "colab": {
          "base_uri": "https://localhost:8080/"
        },
        "id": "eG2FlDThCVPY",
        "outputId": "dd8cb7e2-bfd9-418c-f1e2-974ee2aaea8f"
      },
      "execution_count": null,
      "outputs": [
        {
          "output_type": "stream",
          "name": "stderr",
          "text": [
            "/usr/local/lib/python3.10/dist-packages/ipykernel/ipkernel.py:283: DeprecationWarning: `should_run_async` will not call `transform_cell` automatically in the future. Please pass the result to `transformed_cell` argument and any exception that happen during thetransform in `preprocessing_exc_tuple` in IPython 7.17 and above.\n",
            "  and should_run_async(code)\n"
          ]
        }
      ]
    },
    {
      "cell_type": "code",
      "source": [
        "def format_topics_sentences(ldamodel=None, corpus=doc_term_matrix, texts=document):\n",
        "    # Init output\n",
        "    sent_topics_df = [] # Initialize as a list\n",
        "\n",
        "    # Get main topic in each document\n",
        "    for i, row_list in enumerate(ldamodel[corpus]):\n",
        "        row = row_list[0] if ldamodel.per_word_topics else row_list\n",
        "        # print(row)\n",
        "        row = sorted(row, key=lambda x: (x[1]), reverse=True)\n",
        "        # Get the Dominant topic, Perc Contribution and Keywords for each document\n",
        "        for j, (topic_num, prop_topic) in enumerate(row):\n",
        "            if j == 0:  # => dominant topic\n",
        "                wp = ldamodel.show_topic(topic_num)\n",
        "                topic_keywords = \", \".join([word for word, prop in wp])\n",
        "                # Append a dictionary to the list\n",
        "                sent_topics_df.append({\n",
        "                    'Dominant_Topic': int(topic_num),\n",
        "                    'Perc_Contribution': round(prop_topic, 4),\n",
        "                    'Topic_Keywords': topic_keywords\n",
        "                })\n",
        "            else:\n",
        "                break\n",
        "    # Convert the list of dictionaries to a DataFrame\n",
        "    sent_topics_df = pd.DataFrame(sent_topics_df)\n",
        "\n",
        "    # Add original text to the end of the output\n",
        "    contents = pd.Series(texts)\n",
        "    sent_topics_df = pd.concat([sent_topics_df, contents], axis=1)\n",
        "    return(sent_topics_df)"
      ],
      "metadata": {
        "colab": {
          "base_uri": "https://localhost:8080/"
        },
        "id": "qBzDNVS8Cdfa",
        "outputId": "0fde6fc4-37e2-481a-ae33-c33bc1fb73b9"
      },
      "execution_count": null,
      "outputs": [
        {
          "output_type": "stream",
          "name": "stderr",
          "text": [
            "/usr/local/lib/python3.10/dist-packages/ipykernel/ipkernel.py:283: DeprecationWarning: `should_run_async` will not call `transform_cell` automatically in the future. Please pass the result to `transformed_cell` argument and any exception that happen during thetransform in `preprocessing_exc_tuple` in IPython 7.17 and above.\n",
            "  and should_run_async(code)\n"
          ]
        }
      ]
    },
    {
      "cell_type": "code",
      "source": [
        "df_topic_sents_keywords = format_topics_sentences(ldamodel=lda_model, corpus=doc_term_matrix, texts=doc_clean)\n",
        "\n",
        "# Format\n",
        "df_dominant_topic = df_topic_sents_keywords.reset_index()\n",
        "df_dominant_topic.columns = ['Document_No', 'Dominant_Topic', 'Topic_Perc_Contrib', 'Keywords', 'Text']\n",
        "print(df_dominant_topic.head(10))"
      ],
      "metadata": {
        "colab": {
          "base_uri": "https://localhost:8080/"
        },
        "id": "u0LE153dCdin",
        "outputId": "e4f9201d-2b03-4089-e34a-eb5861d886cb"
      },
      "execution_count": null,
      "outputs": [
        {
          "output_type": "stream",
          "name": "stderr",
          "text": [
            "/usr/local/lib/python3.10/dist-packages/ipykernel/ipkernel.py:283: DeprecationWarning: `should_run_async` will not call `transform_cell` automatically in the future. Please pass the result to `transformed_cell` argument and any exception that happen during thetransform in `preprocessing_exc_tuple` in IPython 7.17 and above.\n",
            "  and should_run_async(code)\n"
          ]
        },
        {
          "output_type": "stream",
          "name": "stdout",
          "text": [
            "   Document_No  Dominant_Topic  Topic_Perc_Contrib  \\\n",
            "0            0               0              0.9228   \n",
            "1            1               1              0.4883   \n",
            "2            2               2              0.5953   \n",
            "3            3               2              0.9481   \n",
            "4            4               2              0.7716   \n",
            "5            5               2              0.7717   \n",
            "6            6               0              0.5280   \n",
            "7            7               0              0.5280   \n",
            "8            8               1              0.9381   \n",
            "9            9               1              0.9474   \n",
            "\n",
            "                                            Keywords  \\\n",
            "0  m a h a s i s w a, u s u, k u r s i, s e l e k...   \n",
            "1  m a n d i r i, c e k, b i a y a, j a l u r, u ...   \n",
            "2  j a l u r, m a n d i r i, b u k a, d a f t a r...   \n",
            "3  j a l u r, m a n d i r i, b u k a, d a f t a r...   \n",
            "4  j a l u r, m a n d i r i, b u k a, d a f t a r...   \n",
            "5  j a l u r, m a n d i r i, b u k a, d a f t a r...   \n",
            "6  m a h a s i s w a, u s u, k u r s i, s e l e k...   \n",
            "7  m a h a s i s w a, u s u, k u r s i, s e l e k...   \n",
            "8  m a n d i r i, c e k, b i a y a, j a l u r, u ...   \n",
            "9  m a n d i r i, c e k, b i a y a, j a l u r, u ...   \n",
            "\n",
            "                                                Text  \n",
            "0  [a n g g o t a, d p r, k r i t i k, s k e m a,...  \n",
            "1   [p i n j o l, d i d i k, p e r a n, n e g a r a]  \n",
            "2  [b e a s i s w a, j a r d i n e, s c h o l a r...  \n",
            "3  [t a n g g a l, j u l i, b a t a s, r e g i s ...  \n",
            "4  [s e l e k s i, j a l u r, m a n d i r i, g e ...  \n",
            "5  [s e l e k s i, j a l u r, m a n d i r i, g e ...  \n",
            "6                [u n n e s, u k t, a k a d e m i k]  \n",
            "7                [u n n e s, u k t, a k a d e m i k]  \n",
            "8  [j u r u s, d s, u k t, i p i, m u r a h, m a ...  \n",
            "9  [d a f t a r, p r o d i, d s, s e p i, m i n a...  \n"
          ]
        }
      ]
    },
    {
      "cell_type": "code",
      "source": [
        "from google.colab import drive\n",
        "drive.mount('/content/drive')"
      ],
      "metadata": {
        "colab": {
          "base_uri": "https://localhost:8080/"
        },
        "id": "-QdEQdrEDher",
        "outputId": "fb8ae0d6-ebc7-4310-9464-efdac789ec75"
      },
      "execution_count": null,
      "outputs": [
        {
          "output_type": "stream",
          "name": "stderr",
          "text": [
            "/usr/local/lib/python3.10/dist-packages/ipykernel/ipkernel.py:283: DeprecationWarning: `should_run_async` will not call `transform_cell` automatically in the future. Please pass the result to `transformed_cell` argument and any exception that happen during thetransform in `preprocessing_exc_tuple` in IPython 7.17 and above.\n",
            "  and should_run_async(code)\n"
          ]
        },
        {
          "output_type": "stream",
          "name": "stdout",
          "text": [
            "Drive already mounted at /content/drive; to attempt to forcibly remount, call drive.mount(\"/content/drive\", force_remount=True).\n"
          ]
        }
      ]
    },
    {
      "cell_type": "code",
      "source": [
        "pip install pyLDAvis"
      ],
      "metadata": {
        "colab": {
          "base_uri": "https://localhost:8080/"
        },
        "id": "ZJVOj92cEQhk",
        "outputId": "7b53306d-50d3-4a9b-f02c-60d9c0cf11dd"
      },
      "execution_count": null,
      "outputs": [
        {
          "output_type": "stream",
          "name": "stdout",
          "text": [
            "Requirement already satisfied: pyLDAvis in /usr/local/lib/python3.10/dist-packages (3.2.1)\n",
            "Requirement already satisfied: wheel>=0.23.0 in /usr/local/lib/python3.10/dist-packages (from pyLDAvis) (0.43.0)\n",
            "Requirement already satisfied: numpy>=1.9.2 in /usr/local/lib/python3.10/dist-packages (from pyLDAvis) (1.25.2)\n",
            "Requirement already satisfied: scipy>=0.18.0 in /usr/local/lib/python3.10/dist-packages (from pyLDAvis) (1.11.4)\n",
            "Requirement already satisfied: joblib>=0.8.4 in /usr/local/lib/python3.10/dist-packages (from pyLDAvis) (1.4.2)\n",
            "Requirement already satisfied: jinja2>=2.7.2 in /usr/local/lib/python3.10/dist-packages (from pyLDAvis) (3.1.4)\n",
            "Requirement already satisfied: numexpr in /usr/local/lib/python3.10/dist-packages (from pyLDAvis) (2.10.1)\n",
            "Requirement already satisfied: future in /usr/local/lib/python3.10/dist-packages (from pyLDAvis) (0.18.3)\n",
            "Requirement already satisfied: funcy in /usr/local/lib/python3.10/dist-packages (from pyLDAvis) (2.0)\n",
            "Requirement already satisfied: pandas>=0.17.0 in /usr/local/lib/python3.10/dist-packages (from pyLDAvis) (2.0.3)\n",
            "Requirement already satisfied: MarkupSafe>=2.0 in /usr/local/lib/python3.10/dist-packages (from jinja2>=2.7.2->pyLDAvis) (2.1.5)\n",
            "Requirement already satisfied: python-dateutil>=2.8.2 in /usr/local/lib/python3.10/dist-packages (from pandas>=0.17.0->pyLDAvis) (2.8.2)\n",
            "Requirement already satisfied: pytz>=2020.1 in /usr/local/lib/python3.10/dist-packages (from pandas>=0.17.0->pyLDAvis) (2023.4)\n",
            "Requirement already satisfied: tzdata>=2022.1 in /usr/local/lib/python3.10/dist-packages (from pandas>=0.17.0->pyLDAvis) (2024.1)\n",
            "Requirement already satisfied: six>=1.5 in /usr/local/lib/python3.10/dist-packages (from python-dateutil>=2.8.2->pandas>=0.17.0->pyLDAvis) (1.16.0)\n"
          ]
        }
      ]
    },
    {
      "cell_type": "code",
      "source": [
        "pip install gensim\n"
      ],
      "metadata": {
        "colab": {
          "base_uri": "https://localhost:8080/"
        },
        "id": "C6koRLdJIjHW",
        "outputId": "c0ee9193-c477-4c04-9e9d-451c68c539ab"
      },
      "execution_count": null,
      "outputs": [
        {
          "output_type": "stream",
          "name": "stdout",
          "text": [
            "Requirement already satisfied: gensim in /usr/local/lib/python3.10/dist-packages (4.3.2)\n",
            "Requirement already satisfied: numpy>=1.18.5 in /usr/local/lib/python3.10/dist-packages (from gensim) (1.25.2)\n",
            "Requirement already satisfied: scipy>=1.7.0 in /usr/local/lib/python3.10/dist-packages (from gensim) (1.11.4)\n",
            "Requirement already satisfied: smart-open>=1.8.1 in /usr/local/lib/python3.10/dist-packages (from gensim) (7.0.4)\n",
            "Requirement already satisfied: wrapt in /usr/local/lib/python3.10/dist-packages (from smart-open>=1.8.1->gensim) (1.14.1)\n"
          ]
        }
      ]
    },
    {
      "cell_type": "markdown",
      "source": [],
      "metadata": {
        "id": "Kk0nvyz0LUVK"
      }
    },
    {
      "cell_type": "code",
      "source": [
        "from google.colab import drive\n",
        "import pyLDAvis.gensim\n",
        "import pickle\n",
        "import pyLDAvis\n",
        "import os\n",
        "from gensim.corpora.dictionary import Dictionary\n",
        "from gensim.models.ldamodel import LdaModel\n",
        "\n",
        "# Mount Google Drive\n",
        "drive.mount('/content/drive')\n",
        "\n",
        "# Enable pyLDAvis in notebook\n",
        "pyLDAvis.enable_notebook()\n",
        "\n",
        "# Define the file path for saving LDAvis data\n",
        "LDAvis_data_filepath = os.path.join('ldavis_prepared_' + str(total_topics))\n",
        "\n",
        "# Assuming doc_clean is a list of tokenized documents\n",
        "# Example:\n",
        "# doc_clean = [['word1', 'word2', 'word3'], ['word4', 'word5']]\n",
        "\n",
        "# Create a dictionary and corpus\n",
        "dictionary = Dictionary(doc_clean)\n",
        "corpus = [dictionary.doc2bow(text) for text in doc_clean]\n",
        "\n",
        "# Create the LDA model\n",
        "# Assuming you have already defined total_topics and the LDA model is trained\n",
        "# lda_model = LdaModel(corpus=corpus, id2word=dictionary, num_topics=total_topics)\n",
        "\n",
        "# Prepare LDA visualization\n",
        "try:\n",
        "    LDAvis_prepared = pyLDAvis.gensim.prepare(lda_model, corpus, dictionary)\n",
        "    with open(LDAvis_data_filepath, 'wb') as f:\n",
        "        pickle.dump(LDAvis_prepared, f)\n",
        "    print(\"LDA visualization data prepared and saved successfully.\")\n",
        "except Exception as e:\n",
        "    print(f\"An error occurred: {e}\")\n",
        "\n",
        "# Display the prepared LDA visualization (if running in a Jupyter notebook)\n",
        "# pyLDAvis.display(LDAvis_prepared)\n"
      ],
      "metadata": {
        "colab": {
          "base_uri": "https://localhost:8080/"
        },
        "id": "_rBBidHCIqqi",
        "outputId": "99593001-8ae5-470b-a57e-e1131ab42dd8"
      },
      "execution_count": null,
      "outputs": [
        {
          "output_type": "stream",
          "name": "stderr",
          "text": [
            "/usr/local/lib/python3.10/dist-packages/ipykernel/ipkernel.py:283: DeprecationWarning: `should_run_async` will not call `transform_cell` automatically in the future. Please pass the result to `transformed_cell` argument and any exception that happen during thetransform in `preprocessing_exc_tuple` in IPython 7.17 and above.\n",
            "  and should_run_async(code)\n"
          ]
        },
        {
          "output_type": "stream",
          "name": "stdout",
          "text": [
            "Drive already mounted at /content/drive; to attempt to forcibly remount, call drive.mount(\"/content/drive\", force_remount=True).\n",
            "LDA visualization data prepared and saved successfully.\n"
          ]
        }
      ]
    },
    {
      "cell_type": "code",
      "source": [
        "import pyLDAvis\n",
        "import gensim\n",
        "\n",
        "print(pyLDAvis.__version__)\n",
        "print(gensim.__version__)\n"
      ],
      "metadata": {
        "colab": {
          "base_uri": "https://localhost:8080/"
        },
        "id": "YpHqhB1XI7Fe",
        "outputId": "6f9acca7-ce36-432e-8e22-305e5976fce1"
      },
      "execution_count": null,
      "outputs": [
        {
          "output_type": "stream",
          "name": "stdout",
          "text": [
            "3.4.0\n",
            "4.3.2\n"
          ]
        },
        {
          "output_type": "stream",
          "name": "stderr",
          "text": [
            "/usr/local/lib/python3.10/dist-packages/ipykernel/ipkernel.py:283: DeprecationWarning: `should_run_async` will not call `transform_cell` automatically in the future. Please pass the result to `transformed_cell` argument and any exception that happen during thetransform in `preprocessing_exc_tuple` in IPython 7.17 and above.\n",
            "  and should_run_async(code)\n"
          ]
        }
      ]
    },
    {
      "cell_type": "code",
      "source": [
        "!pip install --upgrade pyLDAvis gensim\n"
      ],
      "metadata": {
        "colab": {
          "base_uri": "https://localhost:8080/",
          "height": 647
        },
        "id": "X-OEiDg1I-hp",
        "outputId": "abe9dc55-0911-4bdf-f8eb-08c025768a93"
      },
      "execution_count": null,
      "outputs": [
        {
          "output_type": "stream",
          "name": "stdout",
          "text": [
            "Requirement already satisfied: pyLDAvis in /usr/local/lib/python3.10/dist-packages (3.2.1)\n",
            "Collecting pyLDAvis\n",
            "  Downloading pyLDAvis-3.4.1-py3-none-any.whl (2.6 MB)\n",
            "\u001b[2K     \u001b[90m━━━━━━━━━━━━━━━━━━━━━━━━━━━━━━━━━━━━━━━━\u001b[0m \u001b[32m2.6/2.6 MB\u001b[0m \u001b[31m12.4 MB/s\u001b[0m eta \u001b[36m0:00:00\u001b[0m\n",
            "\u001b[?25hRequirement already satisfied: gensim in /usr/local/lib/python3.10/dist-packages (4.3.2)\n",
            "Requirement already satisfied: numpy>=1.24.2 in /usr/local/lib/python3.10/dist-packages (from pyLDAvis) (1.25.2)\n",
            "Requirement already satisfied: scipy in /usr/local/lib/python3.10/dist-packages (from pyLDAvis) (1.11.4)\n",
            "Requirement already satisfied: pandas>=2.0.0 in /usr/local/lib/python3.10/dist-packages (from pyLDAvis) (2.0.3)\n",
            "Requirement already satisfied: joblib>=1.2.0 in /usr/local/lib/python3.10/dist-packages (from pyLDAvis) (1.4.2)\n",
            "Requirement already satisfied: jinja2 in /usr/local/lib/python3.10/dist-packages (from pyLDAvis) (3.1.4)\n",
            "Requirement already satisfied: numexpr in /usr/local/lib/python3.10/dist-packages (from pyLDAvis) (2.10.1)\n",
            "Requirement already satisfied: funcy in /usr/local/lib/python3.10/dist-packages (from pyLDAvis) (2.0)\n",
            "Requirement already satisfied: scikit-learn>=1.0.0 in /usr/local/lib/python3.10/dist-packages (from pyLDAvis) (1.2.2)\n",
            "Requirement already satisfied: setuptools in /usr/local/lib/python3.10/dist-packages (from pyLDAvis) (67.7.2)\n",
            "Requirement already satisfied: smart-open>=1.8.1 in /usr/local/lib/python3.10/dist-packages (from gensim) (7.0.4)\n",
            "Requirement already satisfied: python-dateutil>=2.8.2 in /usr/local/lib/python3.10/dist-packages (from pandas>=2.0.0->pyLDAvis) (2.8.2)\n",
            "Requirement already satisfied: pytz>=2020.1 in /usr/local/lib/python3.10/dist-packages (from pandas>=2.0.0->pyLDAvis) (2023.4)\n",
            "Requirement already satisfied: tzdata>=2022.1 in /usr/local/lib/python3.10/dist-packages (from pandas>=2.0.0->pyLDAvis) (2024.1)\n",
            "Requirement already satisfied: threadpoolctl>=2.0.0 in /usr/local/lib/python3.10/dist-packages (from scikit-learn>=1.0.0->pyLDAvis) (3.5.0)\n",
            "Requirement already satisfied: wrapt in /usr/local/lib/python3.10/dist-packages (from smart-open>=1.8.1->gensim) (1.14.1)\n",
            "Requirement already satisfied: MarkupSafe>=2.0 in /usr/local/lib/python3.10/dist-packages (from jinja2->pyLDAvis) (2.1.5)\n",
            "Requirement already satisfied: six>=1.5 in /usr/local/lib/python3.10/dist-packages (from python-dateutil>=2.8.2->pandas>=2.0.0->pyLDAvis) (1.16.0)\n",
            "Installing collected packages: pyLDAvis\n",
            "  Attempting uninstall: pyLDAvis\n",
            "    Found existing installation: pyLDAvis 3.2.1\n",
            "    Uninstalling pyLDAvis-3.2.1:\n",
            "      Successfully uninstalled pyLDAvis-3.2.1\n",
            "Successfully installed pyLDAvis-3.4.1\n"
          ]
        },
        {
          "output_type": "display_data",
          "data": {
            "application/vnd.colab-display-data+json": {
              "pip_warning": {
                "packages": [
                  "pyLDAvis"
                ]
              },
              "id": "4b2d3e1424a145409079ccbb53663ee5"
            }
          },
          "metadata": {}
        }
      ]
    },
    {
      "cell_type": "code",
      "source": [
        "import pyLDAvis.gensim\n",
        "import pickle\n",
        "import pyLDAvis\n",
        "# Visualize the topics\n",
        "pyLDAvis.enable_notebook()"
      ],
      "metadata": {
        "colab": {
          "base_uri": "https://localhost:8080/"
        },
        "id": "03JD9OivLFCS",
        "outputId": "2702590b-fdca-4f65-ef74-00133ab08f65"
      },
      "execution_count": null,
      "outputs": [
        {
          "output_type": "stream",
          "name": "stderr",
          "text": [
            "/usr/local/lib/python3.10/dist-packages/ipykernel/ipkernel.py:283: DeprecationWarning: `should_run_async` will not call `transform_cell` automatically in the future. Please pass the result to `transformed_cell` argument and any exception that happen during thetransform in `preprocessing_exc_tuple` in IPython 7.17 and above.\n",
            "  and should_run_async(code)\n"
          ]
        }
      ]
    },
    {
      "cell_type": "code",
      "source": [
        "import os\n",
        "LDAvis_data_filepath = os.path.join('ldavis_prepared_'+str(total_topics))"
      ],
      "metadata": {
        "colab": {
          "base_uri": "https://localhost:8080/"
        },
        "id": "7IpAHiGZLHMI",
        "outputId": "f14b9618-71a9-4c52-e920-2eb2973f4112"
      },
      "execution_count": null,
      "outputs": [
        {
          "output_type": "stream",
          "name": "stderr",
          "text": [
            "/usr/local/lib/python3.10/dist-packages/ipykernel/ipkernel.py:283: DeprecationWarning: `should_run_async` will not call `transform_cell` automatically in the future. Please pass the result to `transformed_cell` argument and any exception that happen during thetransform in `preprocessing_exc_tuple` in IPython 7.17 and above.\n",
            "  and should_run_async(code)\n"
          ]
        }
      ]
    },
    {
      "cell_type": "code",
      "source": [
        "corpus = [dictionary.doc2bow(text) for text in doc_clean]"
      ],
      "metadata": {
        "colab": {
          "base_uri": "https://localhost:8080/"
        },
        "id": "tyWlltYMLJEO",
        "outputId": "13878315-fb8d-43f1-b5cc-5a597eabe039"
      },
      "execution_count": null,
      "outputs": [
        {
          "output_type": "stream",
          "name": "stderr",
          "text": [
            "/usr/local/lib/python3.10/dist-packages/ipykernel/ipkernel.py:283: DeprecationWarning: `should_run_async` will not call `transform_cell` automatically in the future. Please pass the result to `transformed_cell` argument and any exception that happen during thetransform in `preprocessing_exc_tuple` in IPython 7.17 and above.\n",
            "  and should_run_async(code)\n"
          ]
        }
      ]
    },
    {
      "cell_type": "code",
      "source": [
        "# proses ini mungkin agak lama\n",
        "if 1 == 1:\n",
        "    LDAvis_prepared = pyLDAvis.gensim.prepare(lda_model, corpus, dictionary)\n",
        "    with open(LDAvis_data_filepath, 'wb') as f:\n",
        "        pickle.dump(LDAvis_prepared, f)"
      ],
      "metadata": {
        "colab": {
          "base_uri": "https://localhost:8080/"
        },
        "id": "oMwWGyvhLLld",
        "outputId": "fb183e40-b625-4105-d3ca-f06f7ad819fc"
      },
      "execution_count": null,
      "outputs": [
        {
          "output_type": "stream",
          "name": "stderr",
          "text": [
            "/usr/local/lib/python3.10/dist-packages/ipykernel/ipkernel.py:283: DeprecationWarning: `should_run_async` will not call `transform_cell` automatically in the future. Please pass the result to `transformed_cell` argument and any exception that happen during thetransform in `preprocessing_exc_tuple` in IPython 7.17 and above.\n",
            "  and should_run_async(code)\n"
          ]
        }
      ]
    },
    {
      "cell_type": "code",
      "source": [
        "# load the pre-prepared pyLDAvis data from disk\n",
        "with open(LDAvis_data_filepath, 'rb') as f:\n",
        "    LDAvis_prepared = pickle.load(f)"
      ],
      "metadata": {
        "colab": {
          "base_uri": "https://localhost:8080/"
        },
        "id": "gBRdDZRHLNyf",
        "outputId": "f198996b-cb45-44a0-c311-ba53e5186802"
      },
      "execution_count": null,
      "outputs": [
        {
          "output_type": "stream",
          "name": "stderr",
          "text": [
            "/usr/local/lib/python3.10/dist-packages/ipykernel/ipkernel.py:283: DeprecationWarning: `should_run_async` will not call `transform_cell` automatically in the future. Please pass the result to `transformed_cell` argument and any exception that happen during thetransform in `preprocessing_exc_tuple` in IPython 7.17 and above.\n",
            "  and should_run_async(code)\n"
          ]
        }
      ]
    },
    {
      "cell_type": "code",
      "source": [
        "pyLDAvis.save_html(LDAvis_prepared, '/content/drive'+ str(total_topics) +'.html')"
      ],
      "metadata": {
        "colab": {
          "base_uri": "https://localhost:8080/"
        },
        "id": "CQzZxzRgLP9u",
        "outputId": "82e017d0-8ba3-48ee-c6f0-991abf2be49c"
      },
      "execution_count": null,
      "outputs": [
        {
          "output_type": "stream",
          "name": "stderr",
          "text": [
            "/usr/local/lib/python3.10/dist-packages/ipykernel/ipkernel.py:283: DeprecationWarning: `should_run_async` will not call `transform_cell` automatically in the future. Please pass the result to `transformed_cell` argument and any exception that happen during thetransform in `preprocessing_exc_tuple` in IPython 7.17 and above.\n",
            "  and should_run_async(code)\n"
          ]
        }
      ]
    },
    {
      "cell_type": "code",
      "source": [
        "\n",
        "LDAvis_prepared"
      ],
      "metadata": {
        "colab": {
          "base_uri": "https://localhost:8080/",
          "height": 917
        },
        "id": "Hf0P1-zKLZ5s",
        "outputId": "2649f7d2-634a-4dd0-db45-bef86e5c5339"
      },
      "execution_count": null,
      "outputs": [
        {
          "output_type": "stream",
          "name": "stderr",
          "text": [
            "/usr/local/lib/python3.10/dist-packages/ipykernel/ipkernel.py:283: DeprecationWarning: `should_run_async` will not call `transform_cell` automatically in the future. Please pass the result to `transformed_cell` argument and any exception that happen during thetransform in `preprocessing_exc_tuple` in IPython 7.17 and above.\n",
            "  and should_run_async(code)\n"
          ]
        },
        {
          "output_type": "execute_result",
          "data": {
            "text/plain": [
              "PreparedData(topic_coordinates=              x         y  topics  cluster       Freq\n",
              "topic                                                \n",
              "2      0.170601  0.059893       1        1  44.428498\n",
              "1     -0.027999 -0.163685       2        1  35.263644\n",
              "0     -0.142602  0.103792       3        1  20.307858, topic_info=                      Term       Freq      Total Category  logprob  loglift\n",
              "56       m a h a s i s w a  58.000000  58.000000  Default  30.0000  30.0000\n",
              "12               b i a y a  30.000000  30.000000  Default  29.0000  29.0000\n",
              "138                  c e k  33.000000  33.000000  Default  28.0000  28.0000\n",
              "62   u n i v e r s i t a s  28.000000  28.000000  Default  27.0000  27.0000\n",
              "68                   u s u  16.000000  16.000000  Default  26.0000  26.0000\n",
              "..                     ...        ...        ...      ...      ...      ...\n",
              "31           m a n d i r i  12.906326  90.972750   Topic3  -3.9137  -0.3587\n",
              "7                    u k t   6.467827  24.634187   Topic3  -4.6046   0.2569\n",
              "197                  i t b   3.258925   5.420416   Topic3  -5.2900   1.0854\n",
              "66             k u l i a h   4.190776  40.392996   Topic3  -5.0385  -0.6716\n",
              "18                 j u l i   3.283433  22.593844   Topic3  -5.2825  -0.3346\n",
              "\n",
              "[163 rows x 6 columns], token_table=      Topic      Freq             Term\n",
              "term                                  \n",
              "758       3  0.879027        a b y a d\n",
              "336       1  0.901707          a j a r\n",
              "336       3  0.081973          a j a r\n",
              "34        1  0.321955  a k a d e m i k\n",
              "34        3  0.643910  a k a d e m i k\n",
              "...     ...       ...              ...\n",
              "461       3  0.879028          u n u d\n",
              "355       2  0.883643            u n y\n",
              "68        3  0.965376            u s u\n",
              "140       2  0.987536          u t b k\n",
              "230       3  0.984382        v i r a l\n",
              "\n",
              "[165 rows x 3 columns], R=30, lambda_step=0.01, plot_opts={'xlab': 'PC1', 'ylab': 'PC2'}, topic_order=[3, 2, 1])"
            ],
            "text/html": [
              "\n",
              "<link rel=\"stylesheet\" type=\"text/css\" href=\"https://cdn.jsdelivr.net/gh/bmabey/pyLDAvis@3.4.0/pyLDAvis/js/ldavis.v1.0.0.css\">\n",
              "\n",
              "\n",
              "<div id=\"ldavis_el262891356583434027368545898802\" style=\"background-color:white;\"></div>\n",
              "<script type=\"text/javascript\">\n",
              "\n",
              "var ldavis_el262891356583434027368545898802_data = {\"mdsDat\": {\"x\": [0.17060099114792407, -0.027999172835615385, -0.14260181831230878], \"y\": [0.059893286970885466, -0.16368510228591734, 0.10379181531503186], \"topics\": [1, 2, 3], \"cluster\": [1, 1, 1], \"Freq\": [44.42849771458378, 35.26364392766986, 20.30785835774637]}, \"tinfo\": {\"Term\": [\"m a h a s i s w a\", \"b i a y a\", \"c e k\", \"u n i v e r s i t a s\", \"u s u\", \"k u r s i\", \"r e b u t\", \"j a l u r\", \"t e r i m a\", \"u t b k\", \"b u k a\", \"s e l e k s i\", \"j u r u s\", \"m i n a t\", \"r u p i a h\", \"n a n\", \"s e h a t\", \"p e r i k s a\", \"b e b a s\", \"u k t\", \"u n e s a\", \"j a m\", \"l i n k\", \"d a f t a r\", \"n e g e r i\", \"a n a k\", \"u m\", \"g r a t i s\", \"d s\", \"s i s t e m\", \"t e r i m a\", \"u n e s a\", \"g r a t i s\", \"n u g i n i\", \"u m\", \"p a p u a\", \"h a d i r\", \"s i n g k o n g\", \"t a n i\", \"t e l k o m s e l\", \"p r e s t a s i\", \"b u r u\", \"d i g i t a l\", \"e d u c a t i o n\", \"j a d w a l\", \"k i s a h\", \"g r o w\", \"k u a t\", \"e d u k a s i\", \"d u k u n g\", \"b y u\", \"p p k b\", \"p e l u a n g\", \"a n a k\", \"c a m a b a\", \"m o s e s\", \"t o r a j a\", \"u n i l a\", \"b i d a n g\", \"p t n\", \"u g m\", \"b u k a\", \"a j a r\", \"g e l o m b a n g\", \"k e r j a\", \"j a l u r\", \"j u l i\", \"p r o g r a m\", \"d a f t a r\", \"b e a s i s w a\", \"m a n d i r i\", \"d i d i k\", \"k u l i a h\", \"m a h a s i s w a\", \"i n d o n e s i a\", \"p r o d i\", \"b i a y a\", \"u n i v e r s i t a s\", \"u t b k\", \"m i n a t\", \"r u p i a h\", \"c e k\", \"j u r u s\", \"d s\", \"s i s t e m\", \"j a m\", \"c a p a i\", \"j e n j a n g\", \"r a m a i\", \"s k o r\", \"s e p i\", \"j e r m a n\", \"s m\", \"l i n k\", \"d a n a\", \"u n y\", \"u n j\", \"s n b t\", \"m a l a n g\", \"j o k o w i\", \"t a m p u n g\", \"n i l a i\", \"s e s u a i\", \"m u r a h\", \"t r i l i u n\", \"s e l e w e n g\", \"t e s\", \"u k t\", \"l u l u s\", \"h a s i l\", \"m a n d i r i\", \"s e l e k s i\", \"d i d i k\", \"i n d o n e s i a\", \"j a l u r\", \"d a f t a r\", \"k u l i a h\", \"n e g e r i\", \"p r o d i\", \"k a m p u s\", \"u s u\", \"k u r s i\", \"r e b u t\", \"n a n\", \"b e b a s\", \"s a i n g\", \"p i n j o l\", \"n a r k o b a\", \"d a t a\", \"p e r i k s a\", \"b a k a r\", \"u n u d\", \"a b y a d\", \"s t u d i\", \"n a s i o n a l\", \"g e d u n g\", \"s e h a t\", \"b e r i t a\", \"v i r a l\", \"o p i n i\", \"l o m b a\", \"u n i m a l\", \"u i i\", \"c a r i\", \"u a n g\", \"s e n i n\", \"p o l i s i\", \"i d e n t i f i k a s i\", \"t i p u\", \"b u t u h\", \"m e d a n\", \"m a h a s i s w a\", \"p o l m e d\", \"p o l i t e k n i k\", \"a k a d e m i k\", \"s e l e k s i\", \"c a l o n\", \"n e g e r i\", \"m a n d i r i\", \"u k t\", \"i t b\", \"k u l i a h\", \"j u l i\"], \"Freq\": [58.0, 30.0, 33.0, 28.0, 16.0, 15.0, 13.0, 91.0, 27.0, 20.0, 47.0, 36.0, 17.0, 16.0, 16.0, 9.0, 10.0, 9.0, 8.0, 24.0, 17.0, 12.0, 14.0, 52.0, 15.0, 19.0, 16.0, 15.0, 11.0, 11.0, 27.147709575970183, 16.6171838596625, 14.985663185776835, 13.352946641137777, 15.702463900838122, 12.535042165883796, 12.529453972484404, 11.720305167680376, 11.720305167680376, 11.720060198561288, 11.718500825244089, 11.709647693961811, 11.696589259468539, 10.084733942580987, 13.1867232404927, 10.081100233981196, 9.267050071238012, 9.263083151954731, 9.249562437027052, 9.22739668286449, 8.449311542806637, 8.448888773520471, 8.423201259011465, 18.33434889847288, 7.631112709498269, 7.631065954639518, 7.631047516103673, 7.621080828960169, 6.813564493097583, 15.860475567840684, 18.579346992402034, 40.67837341077601, 11.195772285145607, 14.221572894425538, 14.096907319499142, 62.65926544702765, 17.787093154585367, 12.988173135396046, 33.63382542802995, 11.842290569717836, 43.47484341344217, 24.243087024265343, 21.564169272804136, 24.032914056394798, 13.665939470072903, 11.931933462844423, 30.255730985975056, 27.669781043725866, 19.690520767762628, 15.665468763000055, 15.62683451916088, 31.87353132255867, 17.007454175386513, 10.806547231529569, 10.805591776719542, 12.332611362086055, 9.189091862218724, 8.367997100834598, 7.5672193437834, 6.7535215170117, 6.74326239939068, 5.945492129744787, 5.943068995992442, 13.33714665218559, 5.134846217981705, 5.134806494477568, 5.131763464989613, 5.128623740129746, 5.12755800032797, 5.120775211996608, 5.849429197832862, 5.117776610111964, 5.779419657857831, 4.3241354941855565, 4.3239946325491765, 4.3239946325491765, 10.01258414614858, 17.07711665737803, 7.481711887740462, 11.306744550265048, 34.591580732459484, 18.227775902800236, 20.262106450208833, 14.383698956108159, 28.331120938413846, 18.27218050829297, 14.638050643806968, 8.437420719123612, 8.979582783913525, 6.509955283363724, 16.025797355252607, 14.5231756761382, 13.024015532111157, 8.514286683875676, 7.754988427355138, 5.510185933228742, 5.50606760948393, 4.7587787726951944, 4.758725495155154, 8.133966920817612, 4.007347531917561, 4.007347531917561, 4.0073288697283935, 4.006092650197627, 3.9960277101757713, 3.2559316422955313, 8.788848422932329, 2.5045557860792953, 2.5045553345747185, 2.504343578928287, 2.504343578928287, 2.504343578928287, 2.4976572476532257, 3.084089602442738, 4.835767828083982, 1.7531103981582608, 1.7531055821094434, 1.7531055821094434, 1.7531055821094434, 1.7530902309538385, 3.9879566143642378, 27.78880635734751, 4.428082071634354, 3.934465362157644, 3.708076151395085, 13.401308408487608, 6.1070761875232895, 6.877450152311195, 12.90632574716512, 6.467827140224847, 3.258924515632373, 4.190775781212345, 3.2834333880631292], \"Total\": [58.0, 30.0, 33.0, 28.0, 16.0, 15.0, 13.0, 91.0, 27.0, 20.0, 47.0, 36.0, 17.0, 16.0, 16.0, 9.0, 10.0, 9.0, 8.0, 24.0, 17.0, 12.0, 14.0, 52.0, 15.0, 19.0, 16.0, 15.0, 11.0, 11.0, 27.777708991132815, 17.147961967277144, 15.51253332865823, 13.876877209292577, 16.327149066002917, 13.059114020612821, 13.059258863787509, 12.2416130120879, 12.241613094775701, 12.241609100504261, 12.241567827300106, 12.241474089777064, 12.239656976460553, 10.60611271629786, 13.870477516060047, 10.606073757100528, 9.788367131221547, 9.788041661515356, 9.786929088738251, 9.785134074299684, 8.970620583881582, 8.970587708924016, 8.970313463007537, 19.541232259430938, 8.152839255442967, 8.152864751494219, 8.152865147427086, 8.152703250055486, 7.335106856293143, 17.086060319103296, 20.407842505019993, 47.351811905916016, 12.199082121314248, 16.314518683410515, 16.191447077002675, 91.31813536362316, 22.593843871295576, 15.350541586958343, 52.15826903072748, 13.85949765884032, 90.97274989306678, 44.77964453847149, 40.39299569782345, 58.00831644255628, 28.46233170701376, 21.16276535594689, 30.794390929485715, 28.36399059572275, 20.25242702010351, 16.19973591888261, 16.1973791367556, 33.222240566254236, 17.80030883221779, 11.334499878852629, 11.334080648728415, 12.952099413824074, 9.712737431839864, 8.90170120728742, 8.09100372919784, 7.280142296196325, 7.280189446423617, 6.469250306014881, 6.4692778122134005, 14.581474690658215, 5.658393466656924, 5.658395205569804, 5.658200378452472, 5.658401784158286, 5.658407045015471, 5.657336334308988, 6.4660601262071635, 5.657681146417164, 6.456924882959165, 4.847534573784748, 4.847525439785246, 4.847525460363969, 11.333587946620694, 24.6341866383899, 9.593619866654832, 17.02853857392349, 90.97274989306678, 36.27881385657872, 44.77964453847149, 28.46233170701376, 91.31813536362316, 52.15826903072748, 40.39299569782345, 15.676127185306608, 21.16276535594689, 16.215901876933724, 16.57385594273841, 15.070958387473025, 13.567799973958321, 9.059202422218133, 8.308475587388282, 6.053363211485525, 6.053668034716184, 5.3019215717839305, 5.3019277310263515, 9.089287300576347, 4.5504815345180845, 4.550481645255286, 4.550483753067061, 4.550584787101041, 4.551333526279993, 3.799040349277014, 10.659190644360297, 3.0475971009194147, 3.0475971910122164, 3.0476080811123247, 3.047608101691048, 3.047608101691048, 3.0481397394745366, 3.813739474843766, 6.1065417240101985, 2.2961563935667932, 2.2961568083309625, 2.296156811929504, 2.2961568367532728, 2.2961567199558393, 5.3627332406965715, 58.00831644255628, 6.949679608954095, 6.177855418625134, 6.212051153693565, 36.27881385657872, 12.530781741138053, 15.676127185306608, 90.97274989306678, 24.6341866383899, 5.420416398654741, 40.39299569782345, 22.593843871295576], \"Category\": [\"Default\", \"Default\", \"Default\", \"Default\", \"Default\", \"Default\", \"Default\", \"Default\", \"Default\", \"Default\", \"Default\", \"Default\", \"Default\", \"Default\", \"Default\", \"Default\", \"Default\", \"Default\", \"Default\", \"Default\", \"Default\", \"Default\", \"Default\", \"Default\", \"Default\", \"Default\", \"Default\", \"Default\", \"Default\", \"Default\", \"Topic1\", \"Topic1\", \"Topic1\", \"Topic1\", \"Topic1\", \"Topic1\", \"Topic1\", \"Topic1\", \"Topic1\", \"Topic1\", \"Topic1\", \"Topic1\", \"Topic1\", \"Topic1\", \"Topic1\", \"Topic1\", \"Topic1\", \"Topic1\", \"Topic1\", \"Topic1\", \"Topic1\", \"Topic1\", \"Topic1\", \"Topic1\", \"Topic1\", \"Topic1\", \"Topic1\", \"Topic1\", \"Topic1\", \"Topic1\", \"Topic1\", \"Topic1\", \"Topic1\", \"Topic1\", \"Topic1\", \"Topic1\", \"Topic1\", \"Topic1\", \"Topic1\", \"Topic1\", \"Topic1\", \"Topic1\", \"Topic1\", \"Topic1\", \"Topic1\", \"Topic1\", \"Topic2\", \"Topic2\", \"Topic2\", \"Topic2\", \"Topic2\", \"Topic2\", \"Topic2\", \"Topic2\", \"Topic2\", \"Topic2\", \"Topic2\", \"Topic2\", \"Topic2\", \"Topic2\", \"Topic2\", \"Topic2\", \"Topic2\", \"Topic2\", \"Topic2\", \"Topic2\", \"Topic2\", \"Topic2\", \"Topic2\", \"Topic2\", \"Topic2\", \"Topic2\", \"Topic2\", \"Topic2\", \"Topic2\", \"Topic2\", \"Topic2\", \"Topic2\", \"Topic2\", \"Topic2\", \"Topic2\", \"Topic2\", \"Topic2\", \"Topic2\", \"Topic2\", \"Topic2\", \"Topic2\", \"Topic2\", \"Topic2\", \"Topic2\", \"Topic3\", \"Topic3\", \"Topic3\", \"Topic3\", \"Topic3\", \"Topic3\", \"Topic3\", \"Topic3\", \"Topic3\", \"Topic3\", \"Topic3\", \"Topic3\", \"Topic3\", \"Topic3\", \"Topic3\", \"Topic3\", \"Topic3\", \"Topic3\", \"Topic3\", \"Topic3\", \"Topic3\", \"Topic3\", \"Topic3\", \"Topic3\", \"Topic3\", \"Topic3\", \"Topic3\", \"Topic3\", \"Topic3\", \"Topic3\", \"Topic3\", \"Topic3\", \"Topic3\", \"Topic3\", \"Topic3\", \"Topic3\", \"Topic3\", \"Topic3\", \"Topic3\", \"Topic3\", \"Topic3\", \"Topic3\", \"Topic3\"], \"logprob\": [30.0, 29.0, 28.0, 27.0, 26.0, 25.0, 24.0, 23.0, 22.0, 21.0, 20.0, 19.0, 18.0, 17.0, 16.0, 15.0, 14.0, 13.0, 12.0, 11.0, 10.0, 9.0, 8.0, 7.0, 6.0, 5.0, 4.0, 3.0, 2.0, 1.0, -3.953, -4.4439, -4.5472, -4.6626, -4.5005, -4.7258, -4.7262, -4.793, -4.793, -4.793, -4.7931, -4.7939, -4.795, -4.9433, -4.6751, -4.9436, -5.0278, -5.0283, -5.0297, -5.0321, -5.1202, -5.1203, -5.1233, -4.3455, -5.2221, -5.2221, -5.2221, -5.2234, -5.3354, -4.4905, -4.3322, -3.5486, -4.8388, -4.5995, -4.6083, -3.1166, -4.3758, -4.6903, -3.7388, -4.7826, -3.4821, -4.0662, -4.1833, -4.0749, -4.6394, -4.7751, -3.6136, -3.7029, -4.0431, -4.2718, -4.2743, -3.5615, -4.1896, -4.6431, -4.6432, -4.511, -4.8052, -4.8988, -4.9994, -5.1132, -5.1147, -5.2406, -5.241, -4.4327, -5.3872, -5.3872, -5.3878, -5.3884, -5.3886, -5.39, -5.2569, -5.3905, -5.269, -5.559, -5.5591, -5.5591, -4.7194, -4.1855, -5.0108, -4.5979, -3.4797, -4.1203, -4.0145, -4.3572, -3.6793, -4.1179, -4.3396, -4.8906, -4.8283, -5.1499, -3.6972, -3.7957, -3.9046, -4.3297, -4.4231, -4.7648, -4.7656, -4.9114, -4.9114, -4.3754, -5.0833, -5.0833, -5.0833, -5.0836, -5.0861, -5.2909, -4.2979, -5.5533, -5.5533, -5.5534, -5.5534, -5.5534, -5.5561, -5.3452, -4.8954, -5.91, -5.91, -5.91, -5.91, -5.91, -5.0881, -3.1468, -4.9835, -5.1016, -5.1609, -3.8761, -4.662, -4.5432, -3.9137, -4.6046, -5.29, -5.0385, -5.2825], \"loglift\": [30.0, 29.0, 28.0, 27.0, 26.0, 25.0, 24.0, 23.0, 22.0, 21.0, 20.0, 19.0, 18.0, 17.0, 16.0, 15.0, 14.0, 13.0, 12.0, 11.0, 10.0, 9.0, 8.0, 7.0, 6.0, 5.0, 4.0, 3.0, 2.0, 1.0, 0.7883, 0.7798, 0.7767, 0.7728, 0.7723, 0.7703, 0.7699, 0.7678, 0.7678, 0.7678, 0.7676, 0.7669, 0.7659, 0.7609, 0.7607, 0.7605, 0.7566, 0.7562, 0.7548, 0.7526, 0.7514, 0.7514, 0.7484, 0.7475, 0.7452, 0.7451, 0.7451, 0.7439, 0.7375, 0.7369, 0.7174, 0.6594, 0.7255, 0.674, 0.6728, 0.4347, 0.5721, 0.6442, 0.3725, 0.654, 0.0729, 0.1977, 0.1837, -0.0699, 0.0776, 0.2383, 1.0247, 1.0175, 1.0142, 1.0088, 1.0065, 1.0009, 0.9968, 0.9946, 0.9946, 0.9933, 0.9869, 0.9805, 0.9754, 0.9672, 0.9657, 0.9579, 0.9575, 0.9531, 0.9452, 0.9452, 0.9447, 0.944, 0.9438, 0.9427, 0.9421, 0.942, 0.9315, 0.9281, 0.928, 0.928, 0.9184, 0.6759, 0.7937, 0.6328, 0.0754, 0.354, 0.2493, 0.3598, -0.1281, -0.0066, 0.0273, 0.4229, 0.185, 0.1297, 1.5605, 1.5571, 1.5533, 1.5321, 1.5252, 1.5001, 1.4993, 1.4861, 1.4861, 1.4831, 1.4671, 1.4671, 1.4671, 1.4667, 1.464, 1.4399, 1.4012, 1.3979, 1.3979, 1.3978, 1.3978, 1.3978, 1.395, 1.3818, 1.3608, 1.3243, 1.3243, 1.3243, 1.3243, 1.3243, 1.298, 0.8582, 1.1434, 1.143, 1.0782, 0.5983, 0.8754, 0.7703, -0.3587, 0.2569, 1.0854, -0.6716, -0.3346]}, \"token.table\": {\"Topic\": [3, 1, 3, 1, 3, 1, 3, 3, 1, 2, 3, 3, 2, 1, 1, 2, 1, 3, 1, 1, 2, 3, 1, 2, 3, 1, 2, 1, 2, 2, 3, 1, 2, 1, 2, 1, 1, 1, 3, 1, 2, 1, 1, 1, 1, 2, 3, 3, 1, 2, 2, 3, 1, 1, 2, 2, 2, 2, 2, 1, 2, 3, 2, 3, 1, 2, 3, 1, 3, 1, 1, 1, 2, 3, 3, 1, 2, 3, 2, 3, 1, 2, 3, 2, 1, 2, 3, 2, 3, 2, 1, 2, 3, 3, 3, 2, 3, 2, 1, 3, 1, 1, 2, 3, 3, 3, 2, 3, 2, 3, 1, 1, 1, 2, 1, 3, 1, 3, 2, 3, 2, 3, 2, 3, 1, 2, 3, 2, 3, 2, 2, 1, 2, 2, 2, 2, 3, 2, 1, 1, 1, 1, 2, 3, 1, 2, 2, 3, 1, 2, 3, 1, 2, 3, 1, 1, 1, 3, 2, 2, 3, 2, 3, 2, 3], \"Freq\": [0.8790274214920489, 0.9017071850660624, 0.08197338046055112, 0.3219548504218029, 0.6439097008436058, 0.9211292185175727, 0.051173845473198476, 0.8790278500544706, 0.865832246982326, 0.14430537449705433, 0.9628721798428911, 0.984382088792165, 0.9742033888150363, 0.9543146592328593, 0.8658591582823373, 0.12671109633400057, 0.9802741003243457, 0.8710206853992374, 0.8918000627932483, 0.3990174039649259, 0.15960696158597035, 0.47882088475791107, 0.9812532480214265, 0.9266182745243993, 0.7866295062336156, 0.030100317827923932, 0.9632101704935658, 0.6518621233379106, 0.3451034770612468, 0.8836430392236554, 0.9430532164255087, 0.5359578051000585, 0.4466315042500487, 0.9804196329258684, 0.970488342456404, 0.9197625634622819, 0.9428525103861589, 0.9195938703955907, 0.7896731079918439, 0.8581313535308864, 0.1225901933615552, 0.9669600497997729, 0.9194587697158472, 0.9954623103496455, 0.2936247275885852, 0.6459744006948874, 0.058724945517717037, 0.8710206505100853, 0.49187818285984225, 0.49187818285984225, 0.3689753430191023, 0.5534630145286534, 0.9372424262212922, 0.6898958213408312, 0.30662036504036944, 0.9264907268386253, 0.8987046199046494, 0.9274644999315317, 0.8838081571494055, 0.7966771879338407, 0.08851968754820452, 0.13277953132230677, 0.9550396097190591, 0.05617880057170936, 0.5550107584704882, 0.4316750343659353, 0.06166786205227647, 0.8646540320589832, 0.12352200457985474, 0.9428559737579822, 0.919489343347017, 0.5446488833009594, 0.37135151134156325, 0.09902706969108353, 0.9952917136622177, 0.0685801690991283, 0.891542198288668, 0.9843785355260635, 0.7296515910881934, 0.20847188316805526, 0.41373377942741035, 0.10343344485685259, 0.48268940933197874, 0.883640918764325, 0.4726690140788755, 0.3847305928548987, 0.14289993448896235, 0.18647207592039555, 0.7458883036815822, 0.9876704213029921, 0.98125017939661, 0.8251617268769619, 0.9934649410114806, 0.9430543119704535, 0.8788632994930998, 0.5103301284451481, 0.44653886238950463, 0.883754292722266, 0.9368101917983839, 0.9843785421729986, 0.9954733513682847, 0.8918305957747196, 0.11001962716445222, 0.8801570173156178, 0.9911346254190994, 0.8710206518751505, 0.3237369385451068, 0.6474738770902136, 0.2877830508075744, 0.5755661016151488, 0.8918033310171565, 0.980266594058207, 0.5670336460366184, 0.42527523452746385, 0.8468756575367127, 0.1302885626979558, 0.9364358840587135, 0.05852724275366959, 0.9887524796374229, 0.9581509179787334, 0.9878141312190624, 0.9911845350062136, 0.18763150662458467, 0.844341779810631, 0.13782148500682886, 0.49615734602458395, 0.35833586101775505, 0.82516327819342, 0.8710208092111917, 0.9615134402084468, 0.9292349080651284, 0.9802629758145989, 0.9705242393201167, 0.9615196675011844, 0.9274605565203202, 0.88364174032293, 0.8790079049484556, 0.9279220859208831, 0.9802629691932664, 0.9802632890398119, 0.972002406988241, 0.0882333118788007, 0.8823331187880069, 0.8710206410934744, 0.9812501317435224, 0.8251632816964045, 0.1637588090273941, 0.8187940451369705, 0.9310146329934834, 0.09800154031510352, 0.6561378975180372, 0.04059399300164434, 0.6900978810279538, 0.24356395800986602, 0.9799628787193398, 0.9913714546626885, 0.9812696175278491, 0.9843785355260635, 0.9871671584964621, 0.8836731938729093, 0.8790278286630901, 0.8836427676664017, 0.9653758337998687, 0.9875359619934471, 0.9843820596919478], \"Term\": [\"a b y a d\", \"a j a r\", \"a j a r\", \"a k a d e m i k\", \"a k a d e m i k\", \"a n a k\", \"a n a k\", \"b a k a r\", \"b e a s i s w a\", \"b e a s i s w a\", \"b e b a s\", \"b e r i t a\", \"b i a y a\", \"b i d a n g\", \"b u k a\", \"b u k a\", \"b u r u\", \"b u t u h\", \"b y u\", \"c a l o n\", \"c a l o n\", \"c a l o n\", \"c a m a b a\", \"c a p a i\", \"c a r i\", \"c e k\", \"c e k\", \"d a f t a r\", \"d a f t a r\", \"d a n a\", \"d a t a\", \"d i d i k\", \"d i d i k\", \"d i g i t a l\", \"d s\", \"d u k u n g\", \"e d u c a t i o n\", \"e d u k a s i\", \"g e d u n g\", \"g e l o m b a n g\", \"g e l o m b a n g\", \"g r a t i s\", \"g r o w\", \"h a d i r\", \"h a s i l\", \"h a s i l\", \"h a s i l\", \"i d e n t i f i k a s i\", \"i n d o n e s i a\", \"i n d o n e s i a\", \"i t b\", \"i t b\", \"j a d w a l\", \"j a l u r\", \"j a l u r\", \"j a m\", \"j e n j a n g\", \"j e r m a n\", \"j o k o w i\", \"j u l i\", \"j u l i\", \"j u l i\", \"j u r u s\", \"j u r u s\", \"k a m p u s\", \"k a m p u s\", \"k a m p u s\", \"k e r j a\", \"k e r j a\", \"k i s a h\", \"k u a t\", \"k u l i a h\", \"k u l i a h\", \"k u l i a h\", \"k u r s i\", \"l i n k\", \"l i n k\", \"l o m b a\", \"l u l u s\", \"l u l u s\", \"m a h a s i s w a\", \"m a h a s i s w a\", \"m a h a s i s w a\", \"m a l a n g\", \"m a n d i r i\", \"m a n d i r i\", \"m a n d i r i\", \"m e d a n\", \"m e d a n\", \"m i n a t\", \"m o s e s\", \"m u r a h\", \"n a n\", \"n a r k o b a\", \"n a s i o n a l\", \"n e g e r i\", \"n e g e r i\", \"n i l a i\", \"n u g i n i\", \"o p i n i\", \"p a p u a\", \"p e l u a n g\", \"p e r i k s a\", \"p e r i k s a\", \"p i n j o l\", \"p o l i s i\", \"p o l i t e k n i k\", \"p o l i t e k n i k\", \"p o l m e d\", \"p o l m e d\", \"p p k b\", \"p r e s t a s i\", \"p r o d i\", \"p r o d i\", \"p r o g r a m\", \"p r o g r a m\", \"p t n\", \"p t n\", \"r a m a i\", \"r e b u t\", \"r u p i a h\", \"s a i n g\", \"s e h a t\", \"s e h a t\", \"s e l e k s i\", \"s e l e k s i\", \"s e l e k s i\", \"s e l e w e n g\", \"s e n i n\", \"s e p i\", \"s e s u a i\", \"s i n g k o n g\", \"s i s t e m\", \"s k o r\", \"s m\", \"s n b t\", \"s t u d i\", \"t a m p u n g\", \"t a n i\", \"t e l k o m s e l\", \"t e r i m a\", \"t e s\", \"t e s\", \"t i p u\", \"t o r a j a\", \"t r i l i u n\", \"u a n g\", \"u a n g\", \"u g m\", \"u g m\", \"u i i\", \"u k t\", \"u k t\", \"u k t\", \"u m\", \"u n e s a\", \"u n i l a\", \"u n i m a l\", \"u n i v e r s i t a s\", \"u n j\", \"u n u d\", \"u n y\", \"u s u\", \"u t b k\", \"v i r a l\"]}, \"R\": 30, \"lambda.step\": 0.01, \"plot.opts\": {\"xlab\": \"PC1\", \"ylab\": \"PC2\"}, \"topic.order\": [3, 2, 1]};\n",
              "\n",
              "function LDAvis_load_lib(url, callback){\n",
              "  var s = document.createElement('script');\n",
              "  s.src = url;\n",
              "  s.async = true;\n",
              "  s.onreadystatechange = s.onload = callback;\n",
              "  s.onerror = function(){console.warn(\"failed to load library \" + url);};\n",
              "  document.getElementsByTagName(\"head\")[0].appendChild(s);\n",
              "}\n",
              "\n",
              "if(typeof(LDAvis) !== \"undefined\"){\n",
              "   // already loaded: just create the visualization\n",
              "   !function(LDAvis){\n",
              "       new LDAvis(\"#\" + \"ldavis_el262891356583434027368545898802\", ldavis_el262891356583434027368545898802_data);\n",
              "   }(LDAvis);\n",
              "}else if(typeof define === \"function\" && define.amd){\n",
              "   // require.js is available: use it to load d3/LDAvis\n",
              "   require.config({paths: {d3: \"https://d3js.org/d3.v5\"}});\n",
              "   require([\"d3\"], function(d3){\n",
              "      window.d3 = d3;\n",
              "      LDAvis_load_lib(\"https://cdn.jsdelivr.net/gh/bmabey/pyLDAvis@3.4.0/pyLDAvis/js/ldavis.v3.0.0.js\", function(){\n",
              "        new LDAvis(\"#\" + \"ldavis_el262891356583434027368545898802\", ldavis_el262891356583434027368545898802_data);\n",
              "      });\n",
              "    });\n",
              "}else{\n",
              "    // require.js not available: dynamically load d3 & LDAvis\n",
              "    LDAvis_load_lib(\"https://d3js.org/d3.v5.js\", function(){\n",
              "         LDAvis_load_lib(\"https://cdn.jsdelivr.net/gh/bmabey/pyLDAvis@3.4.0/pyLDAvis/js/ldavis.v3.0.0.js\", function(){\n",
              "                 new LDAvis(\"#\" + \"ldavis_el262891356583434027368545898802\", ldavis_el262891356583434027368545898802_data);\n",
              "            })\n",
              "         });\n",
              "}\n",
              "</script>"
            ]
          },
          "metadata": {},
          "execution_count": 66
        }
      ]
    }
  ]
}