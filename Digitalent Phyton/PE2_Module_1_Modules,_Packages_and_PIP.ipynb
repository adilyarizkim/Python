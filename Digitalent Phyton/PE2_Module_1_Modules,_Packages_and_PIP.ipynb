{
  "cells": [
    {
      "cell_type": "markdown",
      "metadata": {
        "id": "ajuMhfYHftN6"
      },
      "source": [
        "# Module"
      ]
    },
    {
      "cell_type": "markdown",
      "metadata": {
        "id": "tOUt6TiQftN7"
      },
      "source": [
        "Kode memiliki kecenderungan untuk berkembang\n",
        "\n",
        "Perkembangan kode sendiri, menjadi masalah yang terus berkembang\n",
        "\n",
        "Ketika kode semakin banyak, kebutuhan untuk maintenance semakin rumit. Ketika kode itu sederhana, mencari masalah atau bug didalamnya jauh lebih mudah\n",
        "\n",
        "Jika proyek ingin bisa selesai dengan baik, kita perlu 2 hal yaitu:\n",
        "- bagi tugas ke sesama developers;\n",
        "- kumpulkan semua bagian menjadi satu.\n",
        "\n",
        "Contoh, suatu proyek bisa dibagi jadi 2 bagian:\n",
        "- User Interface (bagian yang berkomunikasi dengan user melalui widget atau tampilan grafik)\n",
        "- Logic (bagian yang memproses data dan membuahkan hasil)\n",
        "\n",
        "Tiap bagian ini (kemungkinan besar) bisa dibagi menjadi bagian yang lebih kecil lagi, dan makin kecil lagi. Proses ini biasa disebut __decomposition__."
      ]
    },
    {
      "cell_type": "markdown",
      "metadata": {
        "id": "5_HM7UNyftN8"
      },
      "source": [
        "## Bagaimana caranya menggunakan module?\n"
      ]
    },
    {
      "cell_type": "markdown",
      "metadata": {
        "id": "y4__y6lUftN9"
      },
      "source": [
        "![module.PNG](attachment:module.PNG)\n",
        "\n",
        "- pengguna (__user__) :  Menggunakan module yang sudah ada\n",
        "- penyedia (__supplier__) : Membuat module baru"
      ]
    },
    {
      "cell_type": "markdown",
      "metadata": {
        "id": "MuaCreokftN9"
      },
      "source": [
        "a module dapoat diidentigikasi dari  __name__\n",
        "\n",
        "Tiap module terdiri dari entitis (layaknya buku yang terdiri dari bab-bab). Dan entities ini bisa berupa functions, variables, constants, classes, dan objects.\n",
        "\n",
        "![module%20name.PNG](attachment:module%20name.PNG)\n",
        "\n"
      ]
    },
    {
      "cell_type": "markdown",
      "metadata": {
        "id": "DlSOV89JftN9"
      },
      "source": [
        "## Mengimport module"
      ]
    },
    {
      "cell_type": "markdown",
      "metadata": {
        "id": "uZAij1CSftN-"
      },
      "source": [
        "Mengimport module dilakukan dengan instruksi bernama `import`\n",
        "\n",
        "Yang terdiri dari:\n",
        "\n",
        "- keyword `import`\n",
        "-  `name` dari module itu tersebut\n",
        "\n",
        "![import.PNG](attachment:import.PNG)"
      ]
    },
    {
      "cell_type": "code",
      "execution_count": null,
      "metadata": {
        "id": "BIHR5xB9ftN-"
      },
      "outputs": [],
      "source": [
        "import math"
      ]
    },
    {
      "cell_type": "code",
      "execution_count": null,
      "metadata": {
        "id": "11YvKAyHftN_"
      },
      "outputs": [],
      "source": [
        "import math, sys"
      ]
    },
    {
      "cell_type": "markdown",
      "metadata": {
        "id": "uRa3XNm3ftN_"
      },
      "source": [
        "## namespace"
      ]
    },
    {
      "cell_type": "markdown",
      "metadata": {
        "id": "UXZ69E-tftOA"
      },
      "source": [
        "namespace adalah space/ruang (tidak secara harafiah) dimana `names` berada danm tidak saling bermasalah dengan `names`  dari module lain (misal, tidak ada dua obyek berbeda dengan nama yang sama)\n",
        "\n",
        "![namespace.PNG](attachment:namespace.PNG)"
      ]
    },
    {
      "cell_type": "code",
      "execution_count": null,
      "metadata": {
        "id": "qVDNAYT8ftOA"
      },
      "outputs": [],
      "source": [
        "import numpy\n",
        "import math\n",
        "import scipy\n",
        "\n",
        "print(math.pi)\n",
        "print(math.e)\n",
        "print(numpy.pi)\n",
        "print(scipy.pi)\n",
        "#note: nilai pi dari module tidak berpengaruh dengan nilai pi yang kita definisikan sendiri"
      ]
    },
    {
      "cell_type": "code",
      "execution_count": null,
      "metadata": {
        "id": "cOanNWPmftOA"
      },
      "outputs": [],
      "source": [
        "from math import pi,e\n",
        "\n",
        "print(pi)\n",
        "print(e)"
      ]
    },
    {
      "cell_type": "markdown",
      "metadata": {
        "id": "qiIs4ebOftOA"
      },
      "source": [
        "Instruksi ini terdiri dari beberapa elemen :\n",
        "\n",
        "- `from` keyword;\n",
        "- __name__ dari modul yang akan diimport\n",
        "- `import` keyword;\n",
        "- __list of names__ dari entity yang akan diimport ke namespace"
      ]
    },
    {
      "cell_type": "code",
      "execution_count": null,
      "metadata": {
        "id": "3TP6zk2_ftOA"
      },
      "outputs": [],
      "source": [
        "## override nilai sin dan pi\n",
        "from math import sin, pi\n",
        "\n",
        "print(sin(pi/2))\n",
        "\n",
        "pi = 3.14\n",
        "\n",
        "def sin(x):\n",
        "    if 2 * x == pi:\n",
        "        return 0.99999999\n",
        "    else:\n",
        "        return None\n",
        "\n",
        "print(sin(pi/2))"
      ]
    },
    {
      "cell_type": "markdown",
      "metadata": {
        "id": "2i7mP84sftOA"
      },
      "source": [
        "## Mengimport semua modul"
      ]
    },
    {
      "cell_type": "code",
      "execution_count": null,
      "metadata": {
        "id": "xgmdyujkftOB"
      },
      "outputs": [],
      "source": [
        "from math import *\n",
        "\n",
        "print(tan(0))"
      ]
    },
    {
      "cell_type": "markdown",
      "metadata": {
        "id": "kNrzqqG1ftOB"
      },
      "source": [
        "Nama dari entitas digantikan dengan asterisk tunggal `*`\n",
        "\n",
        "`*` merupakan instruksi untuk meng-import semua entitas yang ada"
      ]
    },
    {
      "cell_type": "markdown",
      "metadata": {
        "id": "hvTC8o9JftOB"
      },
      "source": [
        "### Aliasing"
      ]
    },
    {
      "cell_type": "markdown",
      "metadata": {
        "id": "-fADY6AqftOB"
      },
      "source": [
        "Untuk nama file yang akan di `import` kan dapat dilakukan proses `aliasing`\n",
        "\n",
        "`Aliasing` menyebabkan `modul` diidentifikasi dengan `nama yang berbeda` dari `aslinya`"
      ]
    },
    {
      "cell_type": "markdown",
      "metadata": {
        "id": "Br3S9bXcftOB"
      },
      "source": [
        "`import` module `as` alias\n",
        "\n",
        "`as` merupakan kata kunci untuk melakukan `aliasing`"
      ]
    },
    {
      "cell_type": "markdown",
      "metadata": {
        "id": "VmJ0FU-LftOB"
      },
      "source": [
        "Jika kita ingin merename `math`, dengan `m` dapat dilakukan dengan cara sebagai berikut."
      ]
    },
    {
      "cell_type": "code",
      "execution_count": null,
      "metadata": {
        "id": "8N1MJj4IftOB"
      },
      "outputs": [],
      "source": [
        "import math as m\n",
        "\n",
        "print(m.pi)\n"
      ]
    },
    {
      "cell_type": "markdown",
      "metadata": {
        "id": "pqXPA4U9ftOB"
      },
      "source": [
        "__Note__ : Setelah berhasil melakukan aliasing, nama dari module aslinya akan menjadi tidak dapat diakses dan jangan digunakan"
      ]
    },
    {
      "cell_type": "markdown",
      "metadata": {
        "id": "8u2zs8zYftOC"
      },
      "source": [
        "__from__ `module` __import__ `name` __as__ `alias`\n",
        "\n",
        "__from__ `module` __import__ `n` __as__ `a`, `m` __as__ `b`, `o` __as__ `c`"
      ]
    },
    {
      "cell_type": "code",
      "execution_count": null,
      "metadata": {
        "id": "61gLSAluftOC"
      },
      "outputs": [],
      "source": [
        "from math import pi as PI, sin as sine\n",
        "\n",
        "print(sine(PI/2))"
      ]
    },
    {
      "cell_type": "markdown",
      "metadata": {
        "id": "lBHrFLiVftOC"
      },
      "source": [
        "## Working with standard modules\n",
        "\n",
        "__dir__(`module`)\n",
        "\n",
        "Fungsi ini digunakan untuk memunculkan semua entity di dalam module yang ditulis. List ditampilkan urut abjad"
      ]
    },
    {
      "cell_type": "code",
      "execution_count": null,
      "metadata": {
        "id": "yKmAWgqMftOC"
      },
      "outputs": [],
      "source": [
        "import math\n",
        "\n",
        "dir(math)"
      ]
    },
    {
      "cell_type": "code",
      "execution_count": null,
      "metadata": {
        "id": "HURFZktgftOC"
      },
      "outputs": [],
      "source": [
        "import math\n",
        "\n",
        "a = math.pow(2,3)\n",
        "print(a)\n",
        "\n",
        "for name in dir(math):\n",
        "    print(name, end=\"\\t\")"
      ]
    },
    {
      "cell_type": "markdown",
      "metadata": {
        "id": "E2DyhOt-ftOC"
      },
      "source": [
        "###  module `math`"
      ]
    },
    {
      "cell_type": "markdown",
      "metadata": {
        "id": "YMIgsb-uftOC"
      },
      "source": [
        "Berikut ini beberapa fungsi yang ada di module `math`\n",
        "\n",
        "Fungsi trigonometri :\n",
        "\n",
        "- `sin(x)` → nilai sinus dari x;\n",
        "- `cos(x)` → nilai cosinus dari x;\n",
        "- `tan(x)` → nilai tangen dari x.\n",
        "\n",
        "Here are also their inversed versions:\n",
        "\n",
        "- `asin(x)` → nilai arcsinus dari x;\n",
        "- `acos(x)` → nilai arccosius dari x;\n",
        "- `atan(x)` → nilai arctangen dari x.\n",
        "\n",
        "`x` dalam bentuk radian\n",
        "\n",
        "Fungsi ini mengambil satu argument dan me-return perhitungan nilai sudutnya dalam radian."
      ]
    },
    {
      "cell_type": "markdown",
      "metadata": {
        "id": "GMyeSFXUftOD"
      },
      "source": [
        "Selain itu, untuk menghitung sudut dengan lebih tepat lagi, kita bisa menggunakan beberapa fungsi ini:\n",
        "\n",
        "- `pi` → konstanta dari aproksimasi dari nilai π;\n",
        "- `radians(x)` → mengubah nilai x dari degree menjadi radian\n",
        "- `degrees(x)` → sebaliknya (dari radian menjadi degree)"
      ]
    },
    {
      "cell_type": "code",
      "execution_count": null,
      "metadata": {
        "id": "MDcjUc21ftOD"
      },
      "outputs": [],
      "source": [
        "from math import pi, radians, degrees, sin, cos, tan, asin\n",
        "\n",
        "ad = 90\n",
        "\n",
        "ar = radians(ad)\n",
        "print(ar)\n",
        "ad = degrees(ar)\n",
        "print(ad)\n",
        "\n",
        "print(ad == 90.)\n",
        "print(ar == pi / 2.)\n",
        "print(sin(ar) / cos(ar) == tan(ar))\n",
        "print(asin(sin(ar)) == ar)"
      ]
    },
    {
      "cell_type": "markdown",
      "metadata": {
        "id": "ac6zaEDGftOD"
      },
      "source": [
        "Another group of the math's functions is formed by functions which are connected with exponentiation:\n",
        "\n",
        "- `e` → konstanta dari aproksimasi nilai bilangan natural Euler (e)\n",
        "- `exp(x)` → nilai dari e pangkat x\n",
        "- `log(x)` → logaritma natural dari x\n",
        "- `log(x, b)` → logaritma dari x basis b\n",
        "- `log10(x)` → logaritma dari x basis 10 (lebih presisi dibandingkan log(x,10))\n",
        "- `log2(x)` → logaritma dari x basis 2 (lebih presisi dibandingkan log(x,2))"
      ]
    },
    {
      "cell_type": "code",
      "execution_count": null,
      "metadata": {
        "id": "nO3NJHgbftOD"
      },
      "outputs": [],
      "source": [
        "from math import e, exp, log\n",
        "\n",
        "print(pow(e, 1) == exp(log(e)))\n",
        "print(pow(2, 2) == exp(2 * log(2)))\n",
        "print(log(e, e) == exp(0))"
      ]
    },
    {
      "cell_type": "markdown",
      "metadata": {
        "id": "vQFkYFKBftOD"
      },
      "source": [
        "#### Built-in function\n",
        "\n",
        "Note: Fungsi pow()\n",
        "\n",
        "`pow(x, y)` → nilai dari x pangkat y\n",
        "\n",
        "fungsi ini sudah terdapat di python (built-in) tanpa perlu mengimport module lain"
      ]
    },
    {
      "cell_type": "markdown",
      "metadata": {
        "id": "VwJbmBGwftOD"
      },
      "source": [
        "The last group consists of some general-purpose functions like:\n",
        "\n",
        "- `ceil(x)` → ceiling dari x (pembulatan ke atas dari nilai x ke bilangan bulat terdekat)\n",
        "- `floor(x)` → flooring dari x (pembulatan ke bawah dari nilai x ke bilangan bulat terdekat)\n",
        "- `trunc(x)` → pembulatan nilai x\n",
        "- `factorial(x)` → nilai dari x! (x harus positif)\n",
        "- `hypot(x, y)` → mengembalikan nilai sisi miring (hipotenus) dari segitiga siku-siku dengan x dan y sebagai alas dan tinggi . (nilainya sama dengan `sqrt(pow(x, 2) + pow(y, 2))` tetapi lebih presisi). Biasa kita sebut teorema pythagoras"
      ]
    },
    {
      "cell_type": "markdown",
      "metadata": {
        "id": "3MlgT1S0ftOD"
      },
      "source": [
        "It demonstrates the fundamental differences between `ceil()`, `floor()` and `trunc()`."
      ]
    },
    {
      "cell_type": "code",
      "execution_count": null,
      "metadata": {
        "id": "Zn5BLfBNftOE"
      },
      "outputs": [],
      "source": [
        "from math import ceil, floor, trunc, hypot\n",
        "\n",
        "x = 1.4\n",
        "y = 2.6\n",
        "\n",
        "print(floor(x), floor(y))\n",
        "print(floor(-x), floor(-y))\n",
        "\n",
        "print(ceil(x), ceil(y))\n",
        "print(ceil(-x), ceil(-y))\n",
        "\n",
        "print(trunc(x), trunc(y))\n",
        "print(trunc(-x), trunc(-y))\n",
        "\n",
        "print(hypot(4,3)) # nilai dari teorema pythagoras ketika alas segitiga = 4, dan tingginya = 3\n",
        "print(hypot(x,y))"
      ]
    },
    {
      "cell_type": "markdown",
      "metadata": {
        "id": "SZgL5-tAftOO"
      },
      "source": [
        "### Module `random`\n",
        "\n",
        "![random.PNG](attachment:random.PNG)"
      ]
    },
    {
      "cell_type": "markdown",
      "metadata": {
        "id": "ijf2XTMXftOO"
      },
      "source": [
        "salah satu module lain yang sering digunakan adalah module `random`, dimana module ini dapat memberikan mekanisme yang menghasilkan __pseudorandom numbers__.\n",
        "\n",
        "__pseudo -__ :  Disebut pseudo karena nilai yang diberikan hanya terlihat acak(random), tetapi sebetulnya nilai - nilai ini dihasilkan dengan beberapa penghitungan dan algoritma tertentu."
      ]
    },
    {
      "cell_type": "code",
      "execution_count": null,
      "metadata": {
        "id": "hYRJa13jftOO"
      },
      "outputs": [],
      "source": [
        "from random import random\n",
        "\n",
        "for i in range(5):\n",
        "    print(random())"
      ]
    },
    {
      "cell_type": "markdown",
      "metadata": {
        "id": "rRL6qKOlftOO"
      },
      "source": [
        "#### seed"
      ]
    },
    {
      "cell_type": "markdown",
      "metadata": {
        "id": "SyzkEpKjftOO"
      },
      "source": [
        "Terdapat fungsi `seed` yang digunakan untuk mengatur nilai yang dihasilkan dari module `random`. `seed` sendiri ada 2 varian :\n",
        "- `seed()` → mengatur nilai seed dengan nilai dari waktu sekarang\n",
        "- `seed(x)` → mengatur nilai seed dengan nilai x"
      ]
    },
    {
      "cell_type": "code",
      "execution_count": null,
      "metadata": {
        "id": "uGZ4q2UcftOP"
      },
      "outputs": [],
      "source": [
        "from random import random, seed\n",
        "\n",
        "seed(0)\n",
        "\n",
        "for i in range(5):\n",
        "    print(random())"
      ]
    },
    {
      "cell_type": "markdown",
      "metadata": {
        "id": "MHJslYATftOP"
      },
      "source": [
        "ketika kita run berkali - kali, nilai yang ditampilkan tetap sama, dikarenakan nilai seed-nya sama. coba saja program sebelumnya, pasti nilainya berubah-ubah terus tiap run-nya"
      ]
    },
    {
      "cell_type": "markdown",
      "metadata": {
        "id": "0d7fs3YNftOP"
      },
      "source": [
        "#### random dengan batasan"
      ]
    },
    {
      "cell_type": "markdown",
      "metadata": {
        "id": "RAiJySJ_ftOP"
      },
      "source": [
        "kalau kita ingin mendapatkan hasil berupa bilangan bulat dari random, kita bisa menggunakan fungsi dibawah ini:\n",
        "\n",
        "- `randrange(end)`\n",
        "- `randrange(beg, end)`\n",
        "- `randrange(beg, end, step)`\n",
        "- `randint(left, right)`"
      ]
    },
    {
      "cell_type": "code",
      "execution_count": null,
      "metadata": {
        "id": "8ZT5PM18ftOP"
      },
      "outputs": [],
      "source": [
        "from random import randrange, randint\n",
        "\n",
        "print(randrange(200))         #  0 <= nilai random < 200\n",
        "print(randrange(50, 100))     # 50 <= nilai random < 100\n",
        "print(randrange(50, 200, 7))  # 50 <= nilai random < 200, nilai didapat dari 50 ditambah angka kelipatan dari 7\n",
        "print(randint(5, 10))         #  5 <= nilai random <= 10, nilai batas atas diikutkan dalam random. dan randint tidak ada step"
      ]
    },
    {
      "cell_type": "markdown",
      "metadata": {
        "id": "y9wUcq7LftOP"
      },
      "source": [
        "Kelemahan dari fungsi - fungsi diatas adalah ketika kita melakukan random beberapa kali, hasil yang didapatkan tidak unique"
      ]
    },
    {
      "cell_type": "code",
      "execution_count": null,
      "metadata": {
        "id": "hrKqmwQJftOP"
      },
      "outputs": [],
      "source": [
        "from random import randint\n",
        "\n",
        "for i in range(10):\n",
        "    print(randint(1, 10), end=',')"
      ]
    },
    {
      "cell_type": "markdown",
      "metadata": {
        "id": "97GC_lm_ftOP"
      },
      "source": [
        "Untuk mendapatkan nilai yang unique di setiap run, kita dapat menggunakan salah satu dari 2 fungsi ini:\n",
        "\n",
        "- `choice(sequence)`\n",
        "- `sample(sequence, elements_to_choose=1)`"
      ]
    },
    {
      "cell_type": "code",
      "execution_count": null,
      "metadata": {
        "id": "kSCr_LCFftOP"
      },
      "outputs": [],
      "source": [
        "from random import choice, sample\n",
        "\n",
        "siswa = ['Ani','Budi','Cakra','Desi','Edo']\n",
        "print(choice(siswa))\n",
        "print(sample(siswa, 2))\n",
        "print(sample(siswa, 5))\n",
        "\n",
        "lst = [1, 2, 3, 4, 5, 6, 7, 8, 9, 10]\n",
        "print(choice(lst))\n",
        "print(sample(lst, 5))\n",
        "print(sample(lst,1))   # sama saja dengan choice, yakni mengambil 1 nilai, tetapi tipe data outputnya berbeda"
      ]
    },
    {
      "cell_type": "markdown",
      "metadata": {
        "id": "c_kYpBN5ftOP"
      },
      "source": [
        "### Module `Platform`"
      ]
    },
    {
      "cell_type": "markdown",
      "metadata": {
        "id": "HWKAOA7iftOP"
      },
      "source": [
        "Terkadang kita butuh beberapa informasi yang tidak ada hubungannya dengan Python, misalkan OS yang digunakan atau hardware apa yang tertancap.\n",
        "\n",
        "Bisa dibayangkan lingkungan (`environment`) kita membuat program seperti suatu piramdid\n",
        "\n",
        "![8396e08d1b353074e67e4fd3268edf08b12afc3b.png](attachment:8396e08d1b353074e67e4fd3268edf08b12afc3b.png)"
      ]
    },
    {
      "cell_type": "markdown",
      "metadata": {
        "id": "RrEB7_dfftOQ"
      },
      "source": [
        "`platform(aliased,terse`)\n",
        "\n",
        "- `aliased` → Ketika diset True (atau nilai selain 0), mungkin memberikan hasil alternatif dibandingkan dengan yang ada\n",
        "- `terse` → Ketika diset True (atau nilai selain 0), mungkin memberikan hasil yang lebih pendek"
      ]
    },
    {
      "cell_type": "code",
      "execution_count": null,
      "metadata": {
        "id": "-7gKRlXRftOQ"
      },
      "outputs": [],
      "source": [
        "from platform import platform\n",
        "\n",
        "print(platform())\n",
        "print(platform(1))\n",
        "print(platform(, 1))"
      ]
    },
    {
      "cell_type": "code",
      "execution_count": null,
      "metadata": {
        "id": "gsTCSz2rftOQ"
      },
      "outputs": [],
      "source": [
        "from platform import machine\n",
        "\n",
        "print(machine())"
      ]
    },
    {
      "cell_type": "code",
      "execution_count": null,
      "metadata": {
        "id": "TDYYyI_fftOQ"
      },
      "outputs": [],
      "source": [
        "from platform import processor\n",
        "\n",
        "print(processor())"
      ]
    },
    {
      "cell_type": "code",
      "execution_count": null,
      "metadata": {
        "id": "RcMn21VDftOQ"
      },
      "outputs": [],
      "source": [
        "from platform import python_version, python_implementation, python_version_tuple\n",
        "\n",
        "print(python_version())\n",
        "\n",
        "print(python_implementation())\n",
        "for atr in python_version_tuple():\n",
        "    print(atr)"
      ]
    },
    {
      "cell_type": "markdown",
      "metadata": {
        "id": "3zHVoMEkftOQ"
      },
      "source": [
        "Daftar lengkap module yang sudah ada di python dapat dilihat disini : https://docs.python.org/3/py-modindex.html."
      ]
    },
    {
      "cell_type": "markdown",
      "metadata": {
        "id": "xgOtCufMftOR"
      },
      "source": [
        "# Module dan Package"
      ]
    },
    {
      "cell_type": "markdown",
      "metadata": {
        "id": "6SP8LwNoftOR"
      },
      "source": [
        "![pacakge.PNG](attachment:pacakge.PNG)"
      ]
    },
    {
      "cell_type": "markdown",
      "metadata": {
        "id": "bcBcjiEwftOR"
      },
      "source": [
        "- __module itu seperti tempat kumpulan functions__ - dimana kita bisa bisa menaruh sebanyak apapun function dalam satu module dan membagikannya ke semua orang;\n",
        "- tentu saja, __lebih baik untuk tidak mencampur functions yang penggunaannya berbeda pada satu module yang sama__\n",
        "- membuat beberapa module dapat agak sulit - cepat atau lambat diperlukan __kumpulan module__ yang berfungsi untuk mengelompokkan module - module tadi\n",
        "- __package__; di kumpulan module, package berguna layaknya folder/directory di kumpulan file"
      ]
    },
    {
      "cell_type": "markdown",
      "metadata": {
        "id": "cY2mwZl5ftOR"
      },
      "source": [
        "### Membuat modul\n",
        "\n",
        "Pertama,kita membuat 2 file dengan nama aritmatika.py dan main.py\n",
        "\n",
        "Langkah:\n",
        "\n",
        "artimatika.py:\n",
        "\n",
        "- Buka python IDLE\n",
        "- Klik __file__ dan pilih __new file__\n",
        "- Simpan file dengan nama __aritmatika.py__\n",
        "\n",
        "main.py:\n",
        "\n",
        "- Buka python IDLE\n",
        "- Klik __file__ dan pilih __new file__\n",
        "- Simpan file dengan __main.py__\n",
        "\n",
        "Note: __Kedua file disimpan dalam satu folder yang sama.__\n"
      ]
    },
    {
      "cell_type": "code",
      "execution_count": null,
      "metadata": {
        "id": "nCiGZ_5yftOR"
      },
      "outputs": [],
      "source": [
        "# aritmatika.py\n",
        "\n",
        "def tambah(a,b):\n",
        "    return a+b\n",
        "\n",
        "def kurang(a,b):\n",
        "    return a-b\n",
        "\n",
        "def kali(a,b):\n",
        "    return a*b\n",
        "\n",
        "def bagi(a,b):\n",
        "    return a/b"
      ]
    },
    {
      "cell_type": "code",
      "execution_count": null,
      "metadata": {
        "id": "R1IeUl-JftOR"
      },
      "outputs": [],
      "source": [
        "import aritmatika"
      ]
    },
    {
      "cell_type": "code",
      "execution_count": null,
      "metadata": {
        "id": "9jj5i80jftOR"
      },
      "outputs": [],
      "source": [
        "a=aritmatika.tambah(3,4)\n",
        "b=aritmatika.kurang(3,4)\n",
        "c=aritmatika.kali(3,4)\n",
        "d=aritmatika.bagi(3,4)\n",
        "\n",
        "print(a)\n",
        "print(b)\n",
        "print(c)\n",
        "print(d)"
      ]
    },
    {
      "cell_type": "code",
      "execution_count": null,
      "metadata": {
        "id": "bshfuxf9ftOS"
      },
      "outputs": [],
      "source": [
        "from aritmatika import tambah\n",
        "\n",
        "a=tambah(10,3)\n",
        "print(a)"
      ]
    },
    {
      "cell_type": "markdown",
      "metadata": {
        "id": "10w24AIAftOS"
      },
      "source": [
        "# Package"
      ]
    },
    {
      "cell_type": "markdown",
      "metadata": {
        "id": "0Xr7eRxKftOS"
      },
      "source": [
        "1. Buatlah folder dengan nama LATIHAN_PYTHON\n",
        "2. Dalam folder LATIHAN_PYTHON, buatlah folder dengan nama `latihan_package`, file `main.py`, dan file `__init__.py`\n",
        "3. Dalam latihan_package, buatlah 2 file, dengan nama `alpha.py` dan `beta.py`"
      ]
    },
    {
      "cell_type": "code",
      "execution_count": null,
      "metadata": {
        "id": "Xjaryi6hftOS"
      },
      "outputs": [],
      "source": [
        "#alpha.py\n",
        "def alphaSatu():\n",
        "    print(\"alpha   Satu\")\n",
        "\n",
        "def alphaDua():\n",
        "    print(\"alphaDua\")"
      ]
    },
    {
      "cell_type": "code",
      "execution_count": null,
      "metadata": {
        "id": "esHdUxLtftOS"
      },
      "outputs": [],
      "source": [
        "#beta.py\n",
        "def betaSatu():\n",
        "    print(\"betaSatu\")\n",
        "\n",
        "def betaDua():\n",
        "    print(\"betaDua\")"
      ]
    },
    {
      "cell_type": "code",
      "execution_count": null,
      "metadata": {
        "id": "tkUrVFvrftOS"
      },
      "outputs": [],
      "source": [
        "#main.py\n",
        "import latihan_package.alpha as a\n",
        "import latihan_package.beta as b\n",
        "\n",
        "a.alphaSatu()\n",
        "b.betaDua()"
      ]
    },
    {
      "cell_type": "code",
      "execution_count": null,
      "metadata": {
        "id": "VQqZVMbtftOS"
      },
      "outputs": [],
      "source": [
        "#cara mengakses package yang dibuat, copy dan paste code dalam file main.py\n",
        "\n",
        "import os\n",
        "\n",
        "os.chdir(r\"C:\\Users\\User\\digital-talent\\LATIHAN_PYTHON\") # isikan direktori tempat kalian membuat package\n",
        "#os.chdir(r\"C:\\Users\\User\\anaconda3\\Lib\\site-packages\\LATIHAN_PYTHON\") # Ini tempat library jika memakain jupyter dr anaconda\n",
        "\n",
        "import latihan_package.alpha as a, latihan_package.beta as b\n",
        "\n",
        "a.alphaSatu()\n",
        "b.betaSatu()"
      ]
    },
    {
      "cell_type": "code",
      "execution_count": null,
      "metadata": {
        "id": "e7ztdCyRftOT"
      },
      "outputs": [],
      "source": [
        "os.chdir(r\"C:\\Users\\User\\digital-talent\\LATIHAN_PYTHON\")"
      ]
    },
    {
      "cell_type": "code",
      "execution_count": null,
      "metadata": {
        "id": "UVPMwixPftOT"
      },
      "outputs": [],
      "source": [
        "os.getcwd()"
      ]
    },
    {
      "cell_type": "markdown",
      "metadata": {
        "id": "kyNdbWPvftOT"
      },
      "source": [
        "#### Konsep package\n",
        "\n",
        "![pacakgetree.PNG](attachment:pacakgetree.PNG)\n",
        "\n",
        "`packages`, layaknya module, harus diinisialiasi terlebih dahulu\n",
        "\n",
        "Dalam python, harus terdapat satu file dengan nama yang unik di folder suatu package yakni `__init__.py`.\n",
        "\n",
        "Isi dari file baru akan dieksekusi jika module sudah diimport\n",
        "\n",
        "Jika tidak ingin adanya inisialisasi, kita bisa biarkan file itu __kosong__, tetapi tidak boleh dihapus"
      ]
    },
    {
      "cell_type": "code",
      "execution_count": null,
      "metadata": {
        "id": "W_-Gr0gdftOT"
      },
      "outputs": [],
      "source": [
        "os.chdir(r\"C:\\Users\\User\\digital-talent\\LATIHAN_PYTHON\")\n",
        "\n",
        "import latihan_package.alpha as a\n",
        "a.alphaSatu()"
      ]
    },
    {
      "cell_type": "code",
      "execution_count": null,
      "metadata": {
        "id": "yvGk3KTWftOT"
      },
      "outputs": [],
      "source": [
        "import alpha\n",
        "\n",
        "alpha.alphaSatu()"
      ]
    },
    {
      "cell_type": "markdown",
      "metadata": {
        "id": "Ag6ALbeAftOT"
      },
      "source": [
        "# Python Package Installer (PIP)"
      ]
    },
    {
      "cell_type": "markdown",
      "metadata": {
        "id": "NfzMGZdeftOT"
      },
      "source": [
        "Python adalah suatu software open-source, dimana programmer bebas menggunakan dan bahkan memodifikasi kode orang lain untuk kebutuhan pribadinya, apalagi jika hasilnya dapat dibagikan dan dimanfaatkan oleh programmer lain. Python sendiri mengajak semua penggunanya untuk menjaga ekosistem python untuk tetap terbuka, nyaman, dan bebas. Agar hal ini tetap berjalan dan dapat berkembang, diperlukan tools untuk menerbitkan, menjaga, dan mengatur kode mereka.\n",
        "\n",
        "Untuk menjaga ekosistem tadi tetap berjalan, terdapat 2 hal yang sudah ada dan tetap berjalan :\n",
        "- 1. suatu gudang (repository / repo) perkumpulan berbagai package yang tersentralisasi\n",
        "- 2. tools untuk pengguna mengakses repository tadi.\n",
        "\n",
        "__Repository__ (atau biasa disingkat repo) yang kita sebut bernama __PyPI (Python Package Index)__ yang diatur oleh Tim __Packaging Working Group (PWG)__ bagian dari Python Software Foundation.\n",
        "\n",
        "Website dari PyPI sendiri : https://pypi.org/.\n",
        "\n",
        "![PyPI.png](attachment:PyPI.png)\n",
        "\n",
        "PyPI sendiri bukan satu-satunya repo python, kita-pun bisa membuat repo kita sendiri\n",
        "\n",
        "Untuk mengakses PyPI, kita membutuhkan suatu tools khusus untuk mengaksesnya, yakni __pip__. pip sendiri merupakan kepanjangan dari 'pip installs packages', yang kalau dilanjutkan pip sendiri tidak akan habis.. ini sendiri adalah cara pengingat kita syntax menggunakan pip."
      ]
    },
    {
      "cell_type": "markdown",
      "metadata": {
        "id": "5SLPLXQBftOT"
      },
      "source": [
        "## Cara Menginstall pip"
      ]
    },
    {
      "cell_type": "markdown",
      "metadata": {
        "id": "Rl3IZ57JftOT"
      },
      "source": [
        "untuk yang menggunakan idle python yang diunduh dari https://www.python.org/downloads/, pip sudah otomatis terinstall\n",
        "\n",
        "![pip-version.png](attachment:pip-version.png)\n",
        "\n",
        "kalau tidak muncul apa-apa, kalian harus sesuaikan dulu folder dimana kalian meng-install python, contohnya :\n",
        "`C:\\Users\\USER\\AppData\\Local\\Programs\\Python\\Python39\\Scripts`"
      ]
    },
    {
      "cell_type": "markdown",
      "metadata": {
        "id": "m3VGG3ZmftOU"
      },
      "source": [
        "untuk pengguna anaconda, silahkan buka prompt dari anaconda\n",
        "\n",
        "![pip%20conda.PNG](attachment:pip%20conda.PNG)"
      ]
    },
    {
      "cell_type": "markdown",
      "metadata": {
        "id": "PGPUsK9TftOU"
      },
      "source": [
        "Kalau misalkan masih tidak bisa, kita bisa download pip secara manual dari website https://bootstrap.pypa.io/get-pip.py"
      ]
    },
    {
      "cell_type": "markdown",
      "metadata": {
        "id": "0i5bbHyGftOU"
      },
      "source": [
        "## Cara Menggunakan pip"
      ]
    },
    {
      "cell_type": "markdown",
      "metadata": {
        "id": "WOXTJBkzftOU"
      },
      "source": [
        "tidak tahu cara menggunakan pip? langsung tanya dengan pip itu sendiri dengan command `pip help`\n",
        "\n",
        "![pip%20help.png](attachment:pip%20help.png)"
      ]
    },
    {
      "cell_type": "markdown",
      "metadata": {
        "id": "MLQCDsXzftOU"
      },
      "source": [
        "Berikut ini adalah beberapa hal yang bisa kita coba di pip:\n",
        "\n",
        "- `pip --version` → melihat versi dari pip\n",
        "- `pip list` → melihat semua package yang sudah terinstall\n",
        "- `pip help` → melihat bantuan\n",
        "\n",
        "\n",
        "- `pip help install` → melihat bantuan (help) untuk command install\n",
        "\n",
        "\n",
        "- `pip install package_name` → meng-install package bernama package_name\n",
        "- `pip install pygame`       → meng-install package bernama pygame\n",
        "\n",
        "\n",
        "- `pip install -U package_name` → meng-install package bernama package_name dengan versi terbaru\n",
        "- `pip install -U pygame`       → meng-install package bernama pygame dengan versi terbaru\n",
        "\n",
        "\n",
        "- `pip install package_name==package_version` → meng-install package bernama package_name dengan versi package_version\n",
        "- `pip install pygame==1.9.2`                 → meng-install package bernama package_name dengan versi 1.9.2\n",
        "\n",
        "\n",
        "- `pip show package_name` → melihat detail dari package package_name\n",
        "- `pip show pygame`       → melihat detail dari package pygame\n",
        "\n",
        "\n",
        "- `pip uninstall package_name` → meng-uninstall package bernama package_name\n",
        "- `pip uninstall pygame`       → meng-uninstall package bernama pygame\n",
        "\n"
      ]
    }
  ],
  "metadata": {
    "kernelspec": {
      "display_name": "Python 3",
      "language": "python",
      "name": "python3"
    },
    "language_info": {
      "codemirror_mode": {
        "name": "ipython",
        "version": 3
      },
      "file_extension": ".py",
      "mimetype": "text/x-python",
      "name": "python",
      "nbconvert_exporter": "python",
      "pygments_lexer": "ipython3",
      "version": "3.8.3"
    },
    "colab": {
      "provenance": []
    }
  },
  "nbformat": 4,
  "nbformat_minor": 0
}